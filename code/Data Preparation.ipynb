{
 "cells": [
  {
   "cell_type": "markdown",
   "id": "acc1cc71-12d0-4962-ae06-faa1e071d3c2",
   "metadata": {},
   "source": [
    "# Problem Statement"
   ]
  },
  {
   "cell_type": "markdown",
   "id": "3ae8b02e-4495-49ff-aea2-f49b7181528e",
   "metadata": {},
   "source": [
    "**Background**: After the reopening of international borders post COVID-19 pandemic, number of tourists around the world is booming. Tourists appetite for travels are high after 2-year lockdown to contain the spread of the virus. Despite increase in air tickets and accommodation costs, not to mention the height of inflation, travellers are fighting for airplane seats to some of the popular destinations around the world. [One of them are Japan, who fully lifted its border restriction last April to welcome tourists ahead of Golden Week Holiday](https://www.straitstimes.com/asia/east-asia/japan-lifts-all-covid-19-border-controls-for-golden-week-holidays).\n",
    "\n",
    "Japan is one the most popular travel destinations in Asia, most notably for its cherry blossom season, winter in the north, and famous theme parks such as disneyland and universal studios. However, high expectations are sometimes met with disappointment, especially during peak season, where waiting lines for tourist attractions could take hours.\n",
    "\n",
    "To provide a better travel experience, we are working Japanese tourism agency to identify, given a specific month, what is the popularity of different attractions, based on reviews from a popular online travel review website, Tripadvisor. We will use Feature Sentiment Analysis to characterize every review based on waiting time for all the attactions. From this result, the agency could strategize accordingly how to divert tourists from more popular places to the lesser ones to avoid overcrowding.\n",
    "\n",
    "**Our Goals**:\n",
    "* To collect sufficient users review data from Tripadvisor through webscrapping.\n",
    "* Generate sentiment measurement (score) on \"crowdedness\" based on those reviews. \n",
    "* Create a model to accurately predict the sentiment score for production use.\n",
    "    * We will initiate with Multinomial Naive Bayes algorithm as our baseline model, and iterate through various hyperparameters to get optimum result.\n",
    "    * We will then compare baseline model with Random Forest model, with consideration that more complex algorithm may be needed to accurately predict the sentiment."
   ]
  },
  {
   "cell_type": "markdown",
   "id": "ea70126d-e034-4c68-be76-e4ea30000b55",
   "metadata": {},
   "source": [
    "# Import Library"
   ]
  },
  {
   "cell_type": "code",
   "execution_count": 1,
   "id": "5170054c-ff30-41d4-bf81-99dbf78d2495",
   "metadata": {},
   "outputs": [],
   "source": [
    "# dataframe\n",
    "import pandas as pd\n",
    "import numpy as np\n",
    "\n",
    "# extraction\n",
    "import requests\n",
    "import mechanicalsoup\n",
    "\n",
    "# feature engineering\n",
    "from nltk.tokenize import sent_tokenize, word_tokenize, RegexpTokenizer\n",
    "from nltk.stem import WordNetLemmatizer\n",
    "from nltk.stem.porter import PorterStemmer\n",
    "from nltk.corpus import stopwords\n",
    "import re\n",
    "\n",
    "# charting\n",
    "import matplotlib.pyplot as plt\n",
    "import seaborn as sns\n",
    "import geopandas as gpd\n",
    "import contextily as ctx\n",
    "\n",
    "# Sentiment Analysis\n",
    "from nltk.sentiment.vader import SentimentIntensityAnalyzer\n",
    "\n",
    "# transformer\n",
    "from sklearn.feature_extraction.text import CountVectorizer\n",
    "\n",
    "from tqdm import tqdm \n",
    "import time\n",
    "import random"
   ]
  },
  {
   "cell_type": "markdown",
   "id": "1b421a17-8ddb-4a85-968f-f98c964f3802",
   "metadata": {},
   "source": [
    "# Data Extraction"
   ]
  },
  {
   "cell_type": "markdown",
   "id": "2f74932d-bbbf-40ea-b93f-3129eac5e655",
   "metadata": {
    "jp-MarkdownHeadingCollapsed": true
   },
   "source": [
    "## Establish Connection to Website"
   ]
  },
  {
   "cell_type": "markdown",
   "id": "9fa7d0b0-3045-489a-a9aa-963973b8e080",
   "metadata": {},
   "source": [
    "> We would like to open [TripAdvisor Japan Attraction](https://www.tripadvisor.com/Attractions-g294232-Activities-oa0-Japan.html) page as a starter."
   ]
  },
  {
   "cell_type": "code",
   "execution_count": null,
   "id": "263b8f45-973d-4d9c-9909-e4daf9d7065d",
   "metadata": {},
   "outputs": [],
   "source": [
    "# instantiate\n",
    "browser = mechanicalsoup.StatefulBrowser()"
   ]
  },
  {
   "cell_type": "code",
   "execution_count": null,
   "id": "83146f68-9c11-4948-b93b-0db6b6d81b6b",
   "metadata": {},
   "outputs": [],
   "source": [
    "main_url = 'https://www.tripadvisor.com/Attractions-g294232-Activities-oa0-Japan.html'"
   ]
  },
  {
   "cell_type": "code",
   "execution_count": null,
   "id": "4da92aa7-0752-4f4a-aa7e-58a5f40640dd",
   "metadata": {},
   "outputs": [],
   "source": [
    "browser.open(main_url,\n",
    "                headers={\"User-Agent\": \"Mozilla/5.0 (X11; CrOS x86_64 12871.102.0) AppleWebKit/537.36 (KHTML, like Gecko) Chrome/81.0.4044.141 Safari/537.36\"})"
   ]
  },
  {
   "cell_type": "code",
   "execution_count": null,
   "id": "f3b9c074-d212-4597-9284-7d7bef7ca687",
   "metadata": {},
   "outputs": [],
   "source": [
    "browser.url"
   ]
  },
  {
   "cell_type": "markdown",
   "id": "46f6f79d-321e-4bcb-b5b2-66ca06c8c223",
   "metadata": {},
   "source": [
    "## Extract URL from Attractions "
   ]
  },
  {
   "cell_type": "markdown",
   "id": "d7dbf685-bd19-42d3-bd1d-4df06762b58d",
   "metadata": {},
   "source": [
    "> * This code below should work, but there is an error in TripAdvisor webpage, i.e. href is not specified correctly at page 3.\n",
    "> * Expectation: /Attractions-g294232-Activities-<ins>oa60</ins>-Japan.html \n",
    "> * Reality (error): /Attractions-g294232-Activities-<ins>oa99990</ins>-Japan.html\n"
   ]
  },
  {
   "cell_type": "raw",
   "id": "d1bb01ea-8f41-40f2-a395-38bcae4fff66",
   "metadata": {},
   "source": [
    "# define function to extract 10 attraction url per page\n",
    "def get_places_url (url):\n",
    "    url_of_places = []\n",
    "    aria_label = 1 # this is review page number in html code\n",
    "    \n",
    "    for i in range(10):\n",
    "        browser.open(url,\n",
    "                headers={\"User-Agent\": \"Mozilla/5.0 (X11; CrOS x86_64 12871.102.0) AppleWebKit/537.36 (KHTML, like Gecko) Chrome/81.0.4044.141 Safari/537.36\"}) # identify page\n",
    "        \n",
    "        for attraction in browser.page.find_all('div', {'class':'alPVI eNNhq PgLKC tnGGX'}): # extract attraction\n",
    "            url_of_places.append('https://tripadvisor.com' + attraction.find('a')['href']) # append to attraction list\n",
    "        \n",
    "        print(aria_label)\n",
    "        aria_label = aria_label + 1\n",
    "        \n",
    "        next_page_url = browser.page.find('a', {'class':'BrOJk u j z _F wSSLS tIqAi iNBVo','aria-label' : str(aria_label)})['href']  # identify url for next page\n",
    "        url = 'https://www.tripadvisor.com/' + next_page_url # reassign url to new page\n",
    "\n",
    "    return url_of_places"
   ]
  },
  {
   "cell_type": "raw",
   "id": "ffbf3a68-95ac-4c28-a670-eb573e7c4530",
   "metadata": {
    "scrolled": true
   },
   "source": [
    "get_places_url (main_url)"
   ]
  },
  {
   "cell_type": "markdown",
   "id": "55ff5baa-63c5-4ea4-a7bf-ffbc4d0d6c06",
   "metadata": {},
   "source": [
    "> Alternative code slice the url and update the page number manually, this is not ideal and will not work if the url digit change. (temporary solution)"
   ]
  },
  {
   "cell_type": "code",
   "execution_count": null,
   "id": "28f98755-3ea9-44ca-8cfe-0f87b4e7bcd0",
   "metadata": {},
   "outputs": [],
   "source": [
    "url_of_places = [] # define attraction url list"
   ]
  },
  {
   "cell_type": "code",
   "execution_count": null,
   "id": "8e9aa340-9925-4bd3-838f-667bf710f2d1",
   "metadata": {},
   "outputs": [],
   "source": [
    "# define function to extract 30 attraction url per page\n",
    "def get_places_url (url):\n",
    "    page_num = 0 # this is review page number in html code\n",
    "    \n",
    "    for i in range(10):\n",
    "        browser.open(url,\n",
    "                headers={\"User-Agent\": \"Mozilla/5.0 (X11; CrOS x86_64 12871.102.0) AppleWebKit/537.36 (KHTML, like Gecko) Chrome/81.0.4044.141 Safari/537.36\"}) # identify page\n",
    "        \n",
    "        for attraction in browser.page.find_all('div', {'class':'alPVI eNNhq PgLKC tnGGX'}): # extract attractions\n",
    "            url_of_places.append('https://tripadvisor.com' + attraction.find('a')['href']) # append to attraction list\n",
    "        \n",
    "        page_num += 3 # define next page url substring\n",
    "        \n",
    "        url = main_url[:61] + str(page_num) + main_url[61:]  # update url for next page\n",
    "        print(url)"
   ]
  },
  {
   "cell_type": "code",
   "execution_count": null,
   "id": "772166ec-72a3-47ae-a62c-d962d0947264",
   "metadata": {
    "scrolled": true
   },
   "outputs": [],
   "source": [
    "get_places_url (main_url)"
   ]
  },
  {
   "cell_type": "code",
   "execution_count": null,
   "id": "1ac50f96-e6ed-47d0-9532-b650a58bda6a",
   "metadata": {
    "scrolled": true
   },
   "outputs": [],
   "source": [
    "len(url_of_places)"
   ]
  },
  {
   "cell_type": "markdown",
   "id": "b1316151-f198-4f80-81a5-8f79235ed25d",
   "metadata": {},
   "source": [
    "## Zoom in into each attraction"
   ]
  },
  {
   "cell_type": "code",
   "execution_count": null,
   "id": "9ded72e3-c5f1-4806-9e02-20432ecee856",
   "metadata": {},
   "outputs": [],
   "source": [
    "reviews = pd.DataFrame(columns = ['attraction','city','address','review']) # define reviews df\n",
    "no_attraction = 1\n",
    "\n",
    "for url in tqdm(url_of_places[:300]): #looping through 300 attractions    \n",
    "    time.sleep(random.randint(2,4))\n",
    "    aria_label = 1 # this is review page number in html code, applicable to all attractions\n",
    "    \n",
    "    for i in range(10): #looping through 10 pages of comments\n",
    "        try:\n",
    "            browser.open(url,headers={\"User-Agent\": \"Mozilla/5.0 (X11; CrOS x86_64 12871.102.0) AppleWebKit/537.36 (KHTML, like Gecko) Chrome/81.0.4044.141 Safari/537.36\"}) # identify attraction\n",
    "            \n",
    "            attraction = browser.page.find('h1', {'class':'biGQs _P fiohW eIegw'}) # 1. extract attraction name\n",
    "            city = browser.page.find('a', {'class':'EJavG c _S'}) # 2. extract city\n",
    "            address = browser.page.find_all('button', {'class':'UikNM _G B- _S _T c G_ y wSSLS wnNQG raEkE'})[-1] # 3. extract address\n",
    "\n",
    "            iter = 1\n",
    "            for i in range(10): # loop through 10 reviews\n",
    "                date = browser.page.find_all('div', {'class':'RpeCd'})[i] # 4. extract review date\n",
    "                review = browser.page.find_all('span', {'class':'yCeTE'})[i+iter] # 5 extract review content\n",
    "                iter +=1\n",
    "                    \n",
    "                # compile one row information and concat to main df\n",
    "                features = pd.DataFrame (columns = ['attraction','city','address','review','date'], data = [[attraction.text,city.text,address.text,review.text,date.text]])                \n",
    "                reviews = pd.concat([reviews, features]).reset_index(drop=True) \n",
    "         \n",
    "            aria_label += 1\n",
    "            next_page_url = browser.page.find('a', {'class':'BrOJk u j z _F wSSLS tIqAi iNBVo','aria-label':str(aria_label)})['href'] # identify url for next page\n",
    "            url = 'https://www.tripadvisor.com/'+next_page_url # reassign url to new page\n",
    "        except:\n",
    "            aria_label += 1 # will skip to the next page"
   ]
  },
  {
   "cell_type": "code",
   "execution_count": null,
   "id": "b03c1e30-aae1-456c-9441-3b943e2362dd",
   "metadata": {},
   "outputs": [],
   "source": [
    "reviews"
   ]
  },
  {
   "cell_type": "code",
   "execution_count": null,
   "id": "d319d444-e7d4-4846-af18-88d401102936",
   "metadata": {
    "scrolled": true
   },
   "outputs": [],
   "source": [
    "reviews['attraction'].unique()"
   ]
  },
  {
   "cell_type": "code",
   "execution_count": null,
   "id": "db0a2c41-0683-4169-af54-9024d1b963a1",
   "metadata": {},
   "outputs": [],
   "source": [
    "reviews.to_csv('../data/reviews.csv', index=False) "
   ]
  },
  {
   "cell_type": "markdown",
   "id": "ab7541e1-4d81-4e55-9518-d0561bc6e8e8",
   "metadata": {},
   "source": [
    "# Data Cleaning"
   ]
  },
  {
   "cell_type": "markdown",
   "id": "396a1f70-08b2-47d5-ad92-d3be4ee40876",
   "metadata": {},
   "source": [
    "To overcome significant time resources needed for Data Extraction from the previous section, a copy of extracted is saved locally that can be imported."
   ]
  },
  {
   "cell_type": "code",
   "execution_count": 2,
   "id": "e9f98774-cd4f-43da-a057-26fccf686493",
   "metadata": {},
   "outputs": [],
   "source": [
    "reviews = pd.read_csv('../data/reviews.csv')"
   ]
  },
  {
   "cell_type": "code",
   "execution_count": 3,
   "id": "3d1d85b7-31b6-40e2-a672-ebdca3cae7c9",
   "metadata": {},
   "outputs": [
    {
     "name": "stdout",
     "output_type": "stream",
     "text": [
      "<class 'pandas.core.frame.DataFrame'>\n",
      "RangeIndex: 25785 entries, 0 to 25784\n",
      "Data columns (total 5 columns):\n",
      " #   Column      Non-Null Count  Dtype \n",
      "---  ------      --------------  ----- \n",
      " 0   attraction  25785 non-null  object\n",
      " 1   city        25775 non-null  object\n",
      " 2   address     25785 non-null  object\n",
      " 3   review      25785 non-null  object\n",
      " 4   date        25785 non-null  object\n",
      "dtypes: object(5)\n",
      "memory usage: 1007.4+ KB\n"
     ]
    }
   ],
   "source": [
    "reviews.info()"
   ]
  },
  {
   "cell_type": "code",
   "execution_count": 4,
   "id": "8de2d465-7876-4337-9d40-35bc8b8c6057",
   "metadata": {
    "scrolled": true
   },
   "outputs": [
    {
     "data": {
      "text/html": [
       "<div>\n",
       "<style scoped>\n",
       "    .dataframe tbody tr th:only-of-type {\n",
       "        vertical-align: middle;\n",
       "    }\n",
       "\n",
       "    .dataframe tbody tr th {\n",
       "        vertical-align: top;\n",
       "    }\n",
       "\n",
       "    .dataframe thead th {\n",
       "        text-align: right;\n",
       "    }\n",
       "</style>\n",
       "<table border=\"1\" class=\"dataframe\">\n",
       "  <thead>\n",
       "    <tr style=\"text-align: right;\">\n",
       "      <th></th>\n",
       "      <th>attraction</th>\n",
       "      <th>city</th>\n",
       "      <th>address</th>\n",
       "      <th>review</th>\n",
       "      <th>date</th>\n",
       "    </tr>\n",
       "  </thead>\n",
       "  <tbody>\n",
       "    <tr>\n",
       "      <th>18609</th>\n",
       "      <td>Kimono Rental Asakusa Aiwafuku Shop 2</td>\n",
       "      <td>NaN</td>\n",
       "      <td>1-11-4 Hanakawado NW Bldg. 1F, Taito 111-0033 ...</td>\n",
       "      <td>There are many options of colour and pattern o...</td>\n",
       "      <td>Dec 2019 • Family</td>\n",
       "    </tr>\n",
       "    <tr>\n",
       "      <th>18610</th>\n",
       "      <td>Kimono Rental Asakusa Aiwafuku Shop 2</td>\n",
       "      <td>NaN</td>\n",
       "      <td>1-11-4 Hanakawado NW Bldg. 1F, Taito 111-0033 ...</td>\n",
       "      <td>We have booked direct with Aiwafuku shop 2 as ...</td>\n",
       "      <td>Dec 2019 • Family</td>\n",
       "    </tr>\n",
       "    <tr>\n",
       "      <th>18611</th>\n",
       "      <td>Kimono Rental Asakusa Aiwafuku Shop 2</td>\n",
       "      <td>NaN</td>\n",
       "      <td>1-11-4 Hanakawado NW Bldg. 1F, Taito 111-0033 ...</td>\n",
       "      <td>地方很多人租，蠻安全的，check in 是自助式的很快很方便，附近有family mart...</td>\n",
       "      <td>Dec 2019 • Couples</td>\n",
       "    </tr>\n",
       "    <tr>\n",
       "      <th>18612</th>\n",
       "      <td>Kimono Rental Asakusa Aiwafuku Shop 2</td>\n",
       "      <td>NaN</td>\n",
       "      <td>1-11-4 Hanakawado NW Bldg. 1F, Taito 111-0033 ...</td>\n",
       "      <td>We arrived at the shop a bit later in the afte...</td>\n",
       "      <td>Nov 2019 • Family</td>\n",
       "    </tr>\n",
       "    <tr>\n",
       "      <th>18613</th>\n",
       "      <td>Kimono Rental Asakusa Aiwafuku Shop 2</td>\n",
       "      <td>NaN</td>\n",
       "      <td>1-11-4 Hanakawado NW Bldg. 1F, Taito 111-0033 ...</td>\n",
       "      <td>Friendly staff and very helpful. Asakusa one o...</td>\n",
       "      <td>Nov 2019 • Couples</td>\n",
       "    </tr>\n",
       "    <tr>\n",
       "      <th>18614</th>\n",
       "      <td>Kimono Rental Asakusa Aiwafuku Shop 2</td>\n",
       "      <td>NaN</td>\n",
       "      <td>1-11-4 Hanakawado NW Bldg. 1F, Taito 111-0033 ...</td>\n",
       "      <td>We (a group of 10 persons) rented kimonos from...</td>\n",
       "      <td>Nov 2019 • Family</td>\n",
       "    </tr>\n",
       "    <tr>\n",
       "      <th>18615</th>\n",
       "      <td>Kimono Rental Asakusa Aiwafuku Shop 2</td>\n",
       "      <td>NaN</td>\n",
       "      <td>1-11-4 Hanakawado NW Bldg. 1F, Taito 111-0033 ...</td>\n",
       "      <td>Very friendly and helpful staff, their skill a...</td>\n",
       "      <td>Nov 2019 • Couples</td>\n",
       "    </tr>\n",
       "    <tr>\n",
       "      <th>18616</th>\n",
       "      <td>Kimono Rental Asakusa Aiwafuku Shop 2</td>\n",
       "      <td>NaN</td>\n",
       "      <td>1-11-4 Hanakawado NW Bldg. 1F, Taito 111-0033 ...</td>\n",
       "      <td>As someone who loves traditional clothing wear...</td>\n",
       "      <td>Nov 2019 • Solo</td>\n",
       "    </tr>\n",
       "    <tr>\n",
       "      <th>18617</th>\n",
       "      <td>Kimono Rental Asakusa Aiwafuku Shop 2</td>\n",
       "      <td>NaN</td>\n",
       "      <td>1-11-4 Hanakawado NW Bldg. 1F, Taito 111-0033 ...</td>\n",
       "      <td>It is our first time trying the kimono. Overal...</td>\n",
       "      <td>Nov 2019 • Couples</td>\n",
       "    </tr>\n",
       "    <tr>\n",
       "      <th>18618</th>\n",
       "      <td>Kimono Rental Asakusa Aiwafuku Shop 2</td>\n",
       "      <td>NaN</td>\n",
       "      <td>1-11-4 Hanakawado NW Bldg. 1F, Taito 111-0033 ...</td>\n",
       "      <td>First time to wear kimono and it was a great e...</td>\n",
       "      <td>Oct 2019 • Couples</td>\n",
       "    </tr>\n",
       "  </tbody>\n",
       "</table>\n",
       "</div>"
      ],
      "text/plain": [
       "                                  attraction city  \\\n",
       "18609  Kimono Rental Asakusa Aiwafuku Shop 2  NaN   \n",
       "18610  Kimono Rental Asakusa Aiwafuku Shop 2  NaN   \n",
       "18611  Kimono Rental Asakusa Aiwafuku Shop 2  NaN   \n",
       "18612  Kimono Rental Asakusa Aiwafuku Shop 2  NaN   \n",
       "18613  Kimono Rental Asakusa Aiwafuku Shop 2  NaN   \n",
       "18614  Kimono Rental Asakusa Aiwafuku Shop 2  NaN   \n",
       "18615  Kimono Rental Asakusa Aiwafuku Shop 2  NaN   \n",
       "18616  Kimono Rental Asakusa Aiwafuku Shop 2  NaN   \n",
       "18617  Kimono Rental Asakusa Aiwafuku Shop 2  NaN   \n",
       "18618  Kimono Rental Asakusa Aiwafuku Shop 2  NaN   \n",
       "\n",
       "                                                 address  \\\n",
       "18609  1-11-4 Hanakawado NW Bldg. 1F, Taito 111-0033 ...   \n",
       "18610  1-11-4 Hanakawado NW Bldg. 1F, Taito 111-0033 ...   \n",
       "18611  1-11-4 Hanakawado NW Bldg. 1F, Taito 111-0033 ...   \n",
       "18612  1-11-4 Hanakawado NW Bldg. 1F, Taito 111-0033 ...   \n",
       "18613  1-11-4 Hanakawado NW Bldg. 1F, Taito 111-0033 ...   \n",
       "18614  1-11-4 Hanakawado NW Bldg. 1F, Taito 111-0033 ...   \n",
       "18615  1-11-4 Hanakawado NW Bldg. 1F, Taito 111-0033 ...   \n",
       "18616  1-11-4 Hanakawado NW Bldg. 1F, Taito 111-0033 ...   \n",
       "18617  1-11-4 Hanakawado NW Bldg. 1F, Taito 111-0033 ...   \n",
       "18618  1-11-4 Hanakawado NW Bldg. 1F, Taito 111-0033 ...   \n",
       "\n",
       "                                                  review                date  \n",
       "18609  There are many options of colour and pattern o...   Dec 2019 • Family  \n",
       "18610  We have booked direct with Aiwafuku shop 2 as ...   Dec 2019 • Family  \n",
       "18611  地方很多人租，蠻安全的，check in 是自助式的很快很方便，附近有family mart...  Dec 2019 • Couples  \n",
       "18612  We arrived at the shop a bit later in the afte...   Nov 2019 • Family  \n",
       "18613  Friendly staff and very helpful. Asakusa one o...  Nov 2019 • Couples  \n",
       "18614  We (a group of 10 persons) rented kimonos from...   Nov 2019 • Family  \n",
       "18615  Very friendly and helpful staff, their skill a...  Nov 2019 • Couples  \n",
       "18616  As someone who loves traditional clothing wear...     Nov 2019 • Solo  \n",
       "18617  It is our first time trying the kimono. Overal...  Nov 2019 • Couples  \n",
       "18618  First time to wear kimono and it was a great e...  Oct 2019 • Couples  "
      ]
     },
     "execution_count": 4,
     "metadata": {},
     "output_type": "execute_result"
    }
   ],
   "source": [
    "reviews[reviews['city'].isna() == True]"
   ]
  },
  {
   "cell_type": "markdown",
   "id": "759872de-f444-499c-89e3-2d33cffb8a08",
   "metadata": {},
   "source": [
    "> There is one attraction with empty city column. Since it is only one of 300 attractions, it will not have significant impact for the number of data that we have. These empty rows will be dropped."
   ]
  },
  {
   "cell_type": "code",
   "execution_count": 5,
   "id": "2fe3679f-62b3-4243-be0d-0cf8b68c4d63",
   "metadata": {},
   "outputs": [],
   "source": [
    "reviews.dropna(inplace = True)"
   ]
  },
  {
   "cell_type": "code",
   "execution_count": 6,
   "id": "a7c45388-f4b6-4c09-96b7-5b4ca7204ee2",
   "metadata": {
    "scrolled": true
   },
   "outputs": [
    {
     "data": {
      "text/plain": [
       "True     13100\n",
       "False    12675\n",
       "dtype: int64"
      ]
     },
     "execution_count": 6,
     "metadata": {},
     "output_type": "execute_result"
    }
   ],
   "source": [
    "reviews.duplicated().value_counts()"
   ]
  },
  {
   "cell_type": "markdown",
   "id": "562f3d12-fa44-4362-b905-3334443f7da9",
   "metadata": {},
   "source": [
    "> ~50% of the data is duplicated. There is no pattern in the duplicated rows, suspect website display related, not code related. Decide to work with the remaining 12k data, which should be sufficient."
   ]
  },
  {
   "cell_type": "code",
   "execution_count": 7,
   "id": "a021e884-0363-4fd1-a370-d4f56f32f420",
   "metadata": {
    "scrolled": true
   },
   "outputs": [],
   "source": [
    "reviews = reviews.drop_duplicates(keep = 'first', ignore_index = True)"
   ]
  },
  {
   "cell_type": "code",
   "execution_count": 8,
   "id": "a2a0d3c4-9097-428f-8eb2-01cbbbbcfe70",
   "metadata": {
    "scrolled": true
   },
   "outputs": [
    {
     "data": {
      "text/plain": [
       "False    12675\n",
       "dtype: int64"
      ]
     },
     "execution_count": 8,
     "metadata": {},
     "output_type": "execute_result"
    }
   ],
   "source": [
    "reviews.duplicated().value_counts()"
   ]
  },
  {
   "cell_type": "markdown",
   "id": "533b0d1a-c5af-42c2-b424-7654d6b7ca8f",
   "metadata": {},
   "source": [
    "> date column is not clean during extraction, to slice and convert to the correct datatype."
   ]
  },
  {
   "cell_type": "code",
   "execution_count": 9,
   "id": "1fe61ee9-3ce3-4d51-b5e7-c5ea41b593ca",
   "metadata": {},
   "outputs": [],
   "source": [
    "reviews.loc[:, 'date'] = reviews['date'].str.slice(stop=8)"
   ]
  },
  {
   "cell_type": "code",
   "execution_count": 10,
   "id": "65f07595-8c05-4a3c-9248-ee45d2adf448",
   "metadata": {},
   "outputs": [
    {
     "name": "stderr",
     "output_type": "stream",
     "text": [
      "C:\\Users\\darwi\\AppData\\Local\\Temp\\ipykernel_16848\\311490904.py:2: DeprecationWarning: In a future version, `df.iloc[:, i] = newvals` will attempt to set the values inplace instead of always setting a new array. To retain the old behavior, use either `df[df.columns[i]] = newvals` or, if columns are non-unique, `df.isetitem(i, newvals)`\n",
      "  reviews.loc[:, 'date'] = pd.to_datetime(reviews['date'], format='%b %Y')\n"
     ]
    }
   ],
   "source": [
    "# convert to date datatype\n",
    "reviews.loc[:, 'date'] = pd.to_datetime(reviews['date'], format='%b %Y')"
   ]
  },
  {
   "cell_type": "code",
   "execution_count": 11,
   "id": "a4425847-cb03-4ca1-b860-fed783d7a7a2",
   "metadata": {},
   "outputs": [
    {
     "name": "stdout",
     "output_type": "stream",
     "text": [
      "<class 'pandas.core.frame.DataFrame'>\n",
      "RangeIndex: 12675 entries, 0 to 12674\n",
      "Data columns (total 5 columns):\n",
      " #   Column      Non-Null Count  Dtype         \n",
      "---  ------      --------------  -----         \n",
      " 0   attraction  12675 non-null  object        \n",
      " 1   city        12675 non-null  object        \n",
      " 2   address     12675 non-null  object        \n",
      " 3   review      12675 non-null  object        \n",
      " 4   date        12675 non-null  datetime64[ns]\n",
      "dtypes: datetime64[ns](1), object(4)\n",
      "memory usage: 495.2+ KB\n"
     ]
    }
   ],
   "source": [
    "reviews.info()"
   ]
  },
  {
   "cell_type": "code",
   "execution_count": 12,
   "id": "66d6030d-1ef4-4f7b-b809-187f000c3052",
   "metadata": {
    "scrolled": true
   },
   "outputs": [
    {
     "data": {
      "text/html": [
       "<div>\n",
       "<style scoped>\n",
       "    .dataframe tbody tr th:only-of-type {\n",
       "        vertical-align: middle;\n",
       "    }\n",
       "\n",
       "    .dataframe tbody tr th {\n",
       "        vertical-align: top;\n",
       "    }\n",
       "\n",
       "    .dataframe thead th {\n",
       "        text-align: right;\n",
       "    }\n",
       "</style>\n",
       "<table border=\"1\" class=\"dataframe\">\n",
       "  <thead>\n",
       "    <tr style=\"text-align: right;\">\n",
       "      <th></th>\n",
       "      <th>attraction</th>\n",
       "      <th>city</th>\n",
       "      <th>address</th>\n",
       "      <th>review</th>\n",
       "      <th>date</th>\n",
       "    </tr>\n",
       "  </thead>\n",
       "  <tbody>\n",
       "    <tr>\n",
       "      <th>0</th>\n",
       "      <td>Fushimi Inari-taisha Shrine</td>\n",
       "      <td>Kyoto</td>\n",
       "      <td>68 Fukakusa Yabunouchicho, Fushimi-ku, Kyoto 6...</td>\n",
       "      <td>We visited Fushimi Inari as part of a tour (hi...</td>\n",
       "      <td>2020-03-01</td>\n",
       "    </tr>\n",
       "    <tr>\n",
       "      <th>1</th>\n",
       "      <td>Fushimi Inari-taisha Shrine</td>\n",
       "      <td>Kyoto</td>\n",
       "      <td>68 Fukakusa Yabunouchicho, Fushimi-ku, Kyoto 6...</td>\n",
       "      <td>We loved this shrine, so amazing and a nice ea...</td>\n",
       "      <td>2020-05-01</td>\n",
       "    </tr>\n",
       "    <tr>\n",
       "      <th>2</th>\n",
       "      <td>Fushimi Inari-taisha Shrine</td>\n",
       "      <td>Kyoto</td>\n",
       "      <td>68 Fukakusa Yabunouchicho, Fushimi-ku, Kyoto 6...</td>\n",
       "      <td>A trip to Kyoto is incomplete without visiting...</td>\n",
       "      <td>2019-12-01</td>\n",
       "    </tr>\n",
       "    <tr>\n",
       "      <th>3</th>\n",
       "      <td>Fushimi Inari-taisha Shrine</td>\n",
       "      <td>Kyoto</td>\n",
       "      <td>68 Fukakusa Yabunouchicho, Fushimi-ku, Kyoto 6...</td>\n",
       "      <td>One of Kyoto’s oldest historic landmarks!!The ...</td>\n",
       "      <td>2021-03-01</td>\n",
       "    </tr>\n",
       "    <tr>\n",
       "      <th>4</th>\n",
       "      <td>Fushimi Inari-taisha Shrine</td>\n",
       "      <td>Kyoto</td>\n",
       "      <td>68 Fukakusa Yabunouchicho, Fushimi-ku, Kyoto 6...</td>\n",
       "      <td>What you see in the pictures is just the very ...</td>\n",
       "      <td>2020-02-01</td>\n",
       "    </tr>\n",
       "    <tr>\n",
       "      <th>...</th>\n",
       "      <td>...</td>\n",
       "      <td>...</td>\n",
       "      <td>...</td>\n",
       "      <td>...</td>\n",
       "      <td>...</td>\n",
       "    </tr>\n",
       "    <tr>\n",
       "      <th>12670</th>\n",
       "      <td>Studio Escape</td>\n",
       "      <td>Osaka</td>\n",
       "      <td>1-6-17 Shikitsunishi, Naniwa-ku, Osaka 556-001...</td>\n",
       "      <td>We stumbled upon this by accident, having take...</td>\n",
       "      <td>2018-04-01</td>\n",
       "    </tr>\n",
       "    <tr>\n",
       "      <th>12671</th>\n",
       "      <td>Studio Escape</td>\n",
       "      <td>Osaka</td>\n",
       "      <td>1-6-17 Shikitsunishi, Naniwa-ku, Osaka 556-001...</td>\n",
       "      <td>This is my 70-something escape room and one of...</td>\n",
       "      <td>2019-10-01</td>\n",
       "    </tr>\n",
       "    <tr>\n",
       "      <th>12672</th>\n",
       "      <td>Studio Escape</td>\n",
       "      <td>Osaka</td>\n",
       "      <td>1-6-17 Shikitsunishi, Naniwa-ku, Osaka 556-001...</td>\n",
       "      <td>A friend wanted to try this, so he organised f...</td>\n",
       "      <td>2019-08-01</td>\n",
       "    </tr>\n",
       "    <tr>\n",
       "      <th>12673</th>\n",
       "      <td>Studio Escape</td>\n",
       "      <td>Osaka</td>\n",
       "      <td>1-6-17 Shikitsunishi, Naniwa-ku, Osaka 556-001...</td>\n",
       "      <td>Nice escape room. Can highly recommend. The ow...</td>\n",
       "      <td>2019-07-01</td>\n",
       "    </tr>\n",
       "    <tr>\n",
       "      <th>12674</th>\n",
       "      <td>Studio Escape</td>\n",
       "      <td>Osaka</td>\n",
       "      <td>1-6-17 Shikitsunishi, Naniwa-ku, Osaka 556-001...</td>\n",
       "      <td>My husband has done many escape rooms and this...</td>\n",
       "      <td>2019-03-01</td>\n",
       "    </tr>\n",
       "  </tbody>\n",
       "</table>\n",
       "<p>12675 rows × 5 columns</p>\n",
       "</div>"
      ],
      "text/plain": [
       "                        attraction   city  \\\n",
       "0      Fushimi Inari-taisha Shrine  Kyoto   \n",
       "1      Fushimi Inari-taisha Shrine  Kyoto   \n",
       "2      Fushimi Inari-taisha Shrine  Kyoto   \n",
       "3      Fushimi Inari-taisha Shrine  Kyoto   \n",
       "4      Fushimi Inari-taisha Shrine  Kyoto   \n",
       "...                            ...    ...   \n",
       "12670                Studio Escape  Osaka   \n",
       "12671                Studio Escape  Osaka   \n",
       "12672                Studio Escape  Osaka   \n",
       "12673                Studio Escape  Osaka   \n",
       "12674                Studio Escape  Osaka   \n",
       "\n",
       "                                                 address  \\\n",
       "0      68 Fukakusa Yabunouchicho, Fushimi-ku, Kyoto 6...   \n",
       "1      68 Fukakusa Yabunouchicho, Fushimi-ku, Kyoto 6...   \n",
       "2      68 Fukakusa Yabunouchicho, Fushimi-ku, Kyoto 6...   \n",
       "3      68 Fukakusa Yabunouchicho, Fushimi-ku, Kyoto 6...   \n",
       "4      68 Fukakusa Yabunouchicho, Fushimi-ku, Kyoto 6...   \n",
       "...                                                  ...   \n",
       "12670  1-6-17 Shikitsunishi, Naniwa-ku, Osaka 556-001...   \n",
       "12671  1-6-17 Shikitsunishi, Naniwa-ku, Osaka 556-001...   \n",
       "12672  1-6-17 Shikitsunishi, Naniwa-ku, Osaka 556-001...   \n",
       "12673  1-6-17 Shikitsunishi, Naniwa-ku, Osaka 556-001...   \n",
       "12674  1-6-17 Shikitsunishi, Naniwa-ku, Osaka 556-001...   \n",
       "\n",
       "                                                  review       date  \n",
       "0      We visited Fushimi Inari as part of a tour (hi... 2020-03-01  \n",
       "1      We loved this shrine, so amazing and a nice ea... 2020-05-01  \n",
       "2      A trip to Kyoto is incomplete without visiting... 2019-12-01  \n",
       "3      One of Kyoto’s oldest historic landmarks!!The ... 2021-03-01  \n",
       "4      What you see in the pictures is just the very ... 2020-02-01  \n",
       "...                                                  ...        ...  \n",
       "12670  We stumbled upon this by accident, having take... 2018-04-01  \n",
       "12671  This is my 70-something escape room and one of... 2019-10-01  \n",
       "12672  A friend wanted to try this, so he organised f... 2019-08-01  \n",
       "12673  Nice escape room. Can highly recommend. The ow... 2019-07-01  \n",
       "12674  My husband has done many escape rooms and this... 2019-03-01  \n",
       "\n",
       "[12675 rows x 5 columns]"
      ]
     },
     "execution_count": 12,
     "metadata": {},
     "output_type": "execute_result"
    }
   ],
   "source": [
    "reviews"
   ]
  },
  {
   "cell_type": "code",
   "execution_count": 13,
   "id": "58d465e7-656e-4f35-bae1-d38b9d45b4b0",
   "metadata": {
    "scrolled": true
   },
   "outputs": [],
   "source": [
    "# Create year and month feature\n",
    "reviews['year'] = reviews['date'].dt.year\n",
    "reviews['month'] = reviews['date'].dt.month"
   ]
  },
  {
   "cell_type": "code",
   "execution_count": 14,
   "id": "2e8b6c50-b056-401d-aea4-88cc58e39cb4",
   "metadata": {},
   "outputs": [
    {
     "data": {
      "text/html": [
       "<div>\n",
       "<style scoped>\n",
       "    .dataframe tbody tr th:only-of-type {\n",
       "        vertical-align: middle;\n",
       "    }\n",
       "\n",
       "    .dataframe tbody tr th {\n",
       "        vertical-align: top;\n",
       "    }\n",
       "\n",
       "    .dataframe thead th {\n",
       "        text-align: right;\n",
       "    }\n",
       "</style>\n",
       "<table border=\"1\" class=\"dataframe\">\n",
       "  <thead>\n",
       "    <tr style=\"text-align: right;\">\n",
       "      <th></th>\n",
       "      <th>attraction</th>\n",
       "      <th>city</th>\n",
       "      <th>address</th>\n",
       "      <th>review</th>\n",
       "      <th>date</th>\n",
       "      <th>year</th>\n",
       "      <th>month</th>\n",
       "    </tr>\n",
       "  </thead>\n",
       "  <tbody>\n",
       "    <tr>\n",
       "      <th>0</th>\n",
       "      <td>Fushimi Inari-taisha Shrine</td>\n",
       "      <td>Kyoto</td>\n",
       "      <td>68 Fukakusa Yabunouchicho, Fushimi-ku, Kyoto 6...</td>\n",
       "      <td>We visited Fushimi Inari as part of a tour (hi...</td>\n",
       "      <td>2020-03-01</td>\n",
       "      <td>2020</td>\n",
       "      <td>3</td>\n",
       "    </tr>\n",
       "    <tr>\n",
       "      <th>1</th>\n",
       "      <td>Fushimi Inari-taisha Shrine</td>\n",
       "      <td>Kyoto</td>\n",
       "      <td>68 Fukakusa Yabunouchicho, Fushimi-ku, Kyoto 6...</td>\n",
       "      <td>We loved this shrine, so amazing and a nice ea...</td>\n",
       "      <td>2020-05-01</td>\n",
       "      <td>2020</td>\n",
       "      <td>5</td>\n",
       "    </tr>\n",
       "    <tr>\n",
       "      <th>2</th>\n",
       "      <td>Fushimi Inari-taisha Shrine</td>\n",
       "      <td>Kyoto</td>\n",
       "      <td>68 Fukakusa Yabunouchicho, Fushimi-ku, Kyoto 6...</td>\n",
       "      <td>A trip to Kyoto is incomplete without visiting...</td>\n",
       "      <td>2019-12-01</td>\n",
       "      <td>2019</td>\n",
       "      <td>12</td>\n",
       "    </tr>\n",
       "    <tr>\n",
       "      <th>3</th>\n",
       "      <td>Fushimi Inari-taisha Shrine</td>\n",
       "      <td>Kyoto</td>\n",
       "      <td>68 Fukakusa Yabunouchicho, Fushimi-ku, Kyoto 6...</td>\n",
       "      <td>One of Kyoto’s oldest historic landmarks!!The ...</td>\n",
       "      <td>2021-03-01</td>\n",
       "      <td>2021</td>\n",
       "      <td>3</td>\n",
       "    </tr>\n",
       "    <tr>\n",
       "      <th>4</th>\n",
       "      <td>Fushimi Inari-taisha Shrine</td>\n",
       "      <td>Kyoto</td>\n",
       "      <td>68 Fukakusa Yabunouchicho, Fushimi-ku, Kyoto 6...</td>\n",
       "      <td>What you see in the pictures is just the very ...</td>\n",
       "      <td>2020-02-01</td>\n",
       "      <td>2020</td>\n",
       "      <td>2</td>\n",
       "    </tr>\n",
       "    <tr>\n",
       "      <th>...</th>\n",
       "      <td>...</td>\n",
       "      <td>...</td>\n",
       "      <td>...</td>\n",
       "      <td>...</td>\n",
       "      <td>...</td>\n",
       "      <td>...</td>\n",
       "      <td>...</td>\n",
       "    </tr>\n",
       "    <tr>\n",
       "      <th>12670</th>\n",
       "      <td>Studio Escape</td>\n",
       "      <td>Osaka</td>\n",
       "      <td>1-6-17 Shikitsunishi, Naniwa-ku, Osaka 556-001...</td>\n",
       "      <td>We stumbled upon this by accident, having take...</td>\n",
       "      <td>2018-04-01</td>\n",
       "      <td>2018</td>\n",
       "      <td>4</td>\n",
       "    </tr>\n",
       "    <tr>\n",
       "      <th>12671</th>\n",
       "      <td>Studio Escape</td>\n",
       "      <td>Osaka</td>\n",
       "      <td>1-6-17 Shikitsunishi, Naniwa-ku, Osaka 556-001...</td>\n",
       "      <td>This is my 70-something escape room and one of...</td>\n",
       "      <td>2019-10-01</td>\n",
       "      <td>2019</td>\n",
       "      <td>10</td>\n",
       "    </tr>\n",
       "    <tr>\n",
       "      <th>12672</th>\n",
       "      <td>Studio Escape</td>\n",
       "      <td>Osaka</td>\n",
       "      <td>1-6-17 Shikitsunishi, Naniwa-ku, Osaka 556-001...</td>\n",
       "      <td>A friend wanted to try this, so he organised f...</td>\n",
       "      <td>2019-08-01</td>\n",
       "      <td>2019</td>\n",
       "      <td>8</td>\n",
       "    </tr>\n",
       "    <tr>\n",
       "      <th>12673</th>\n",
       "      <td>Studio Escape</td>\n",
       "      <td>Osaka</td>\n",
       "      <td>1-6-17 Shikitsunishi, Naniwa-ku, Osaka 556-001...</td>\n",
       "      <td>Nice escape room. Can highly recommend. The ow...</td>\n",
       "      <td>2019-07-01</td>\n",
       "      <td>2019</td>\n",
       "      <td>7</td>\n",
       "    </tr>\n",
       "    <tr>\n",
       "      <th>12674</th>\n",
       "      <td>Studio Escape</td>\n",
       "      <td>Osaka</td>\n",
       "      <td>1-6-17 Shikitsunishi, Naniwa-ku, Osaka 556-001...</td>\n",
       "      <td>My husband has done many escape rooms and this...</td>\n",
       "      <td>2019-03-01</td>\n",
       "      <td>2019</td>\n",
       "      <td>3</td>\n",
       "    </tr>\n",
       "  </tbody>\n",
       "</table>\n",
       "<p>12675 rows × 7 columns</p>\n",
       "</div>"
      ],
      "text/plain": [
       "                        attraction   city  \\\n",
       "0      Fushimi Inari-taisha Shrine  Kyoto   \n",
       "1      Fushimi Inari-taisha Shrine  Kyoto   \n",
       "2      Fushimi Inari-taisha Shrine  Kyoto   \n",
       "3      Fushimi Inari-taisha Shrine  Kyoto   \n",
       "4      Fushimi Inari-taisha Shrine  Kyoto   \n",
       "...                            ...    ...   \n",
       "12670                Studio Escape  Osaka   \n",
       "12671                Studio Escape  Osaka   \n",
       "12672                Studio Escape  Osaka   \n",
       "12673                Studio Escape  Osaka   \n",
       "12674                Studio Escape  Osaka   \n",
       "\n",
       "                                                 address  \\\n",
       "0      68 Fukakusa Yabunouchicho, Fushimi-ku, Kyoto 6...   \n",
       "1      68 Fukakusa Yabunouchicho, Fushimi-ku, Kyoto 6...   \n",
       "2      68 Fukakusa Yabunouchicho, Fushimi-ku, Kyoto 6...   \n",
       "3      68 Fukakusa Yabunouchicho, Fushimi-ku, Kyoto 6...   \n",
       "4      68 Fukakusa Yabunouchicho, Fushimi-ku, Kyoto 6...   \n",
       "...                                                  ...   \n",
       "12670  1-6-17 Shikitsunishi, Naniwa-ku, Osaka 556-001...   \n",
       "12671  1-6-17 Shikitsunishi, Naniwa-ku, Osaka 556-001...   \n",
       "12672  1-6-17 Shikitsunishi, Naniwa-ku, Osaka 556-001...   \n",
       "12673  1-6-17 Shikitsunishi, Naniwa-ku, Osaka 556-001...   \n",
       "12674  1-6-17 Shikitsunishi, Naniwa-ku, Osaka 556-001...   \n",
       "\n",
       "                                                  review       date  year  \\\n",
       "0      We visited Fushimi Inari as part of a tour (hi... 2020-03-01  2020   \n",
       "1      We loved this shrine, so amazing and a nice ea... 2020-05-01  2020   \n",
       "2      A trip to Kyoto is incomplete without visiting... 2019-12-01  2019   \n",
       "3      One of Kyoto’s oldest historic landmarks!!The ... 2021-03-01  2021   \n",
       "4      What you see in the pictures is just the very ... 2020-02-01  2020   \n",
       "...                                                  ...        ...   ...   \n",
       "12670  We stumbled upon this by accident, having take... 2018-04-01  2018   \n",
       "12671  This is my 70-something escape room and one of... 2019-10-01  2019   \n",
       "12672  A friend wanted to try this, so he organised f... 2019-08-01  2019   \n",
       "12673  Nice escape room. Can highly recommend. The ow... 2019-07-01  2019   \n",
       "12674  My husband has done many escape rooms and this... 2019-03-01  2019   \n",
       "\n",
       "       month  \n",
       "0          3  \n",
       "1          5  \n",
       "2         12  \n",
       "3          3  \n",
       "4          2  \n",
       "...      ...  \n",
       "12670      4  \n",
       "12671     10  \n",
       "12672      8  \n",
       "12673      7  \n",
       "12674      3  \n",
       "\n",
       "[12675 rows x 7 columns]"
      ]
     },
     "execution_count": 14,
     "metadata": {},
     "output_type": "execute_result"
    }
   ],
   "source": [
    "reviews"
   ]
  },
  {
   "cell_type": "markdown",
   "id": "af34b779-5bcf-4c9f-a995-dfedb147127c",
   "metadata": {},
   "source": [
    "# Feature Engineering"
   ]
  },
  {
   "cell_type": "markdown",
   "id": "ea2819a1-f352-4647-a8d4-29a98e67bad8",
   "metadata": {},
   "source": [
    "## Tokenize, Lemmatize, Stop Words"
   ]
  },
  {
   "cell_type": "code",
   "execution_count": 15,
   "id": "e382068a-506f-4f8c-8c5c-f3158445515f",
   "metadata": {},
   "outputs": [],
   "source": [
    "# instantiate tokenizer to match word characters\n",
    "tokenizer = RegexpTokenizer(r'\\w+')"
   ]
  },
  {
   "cell_type": "code",
   "execution_count": 16,
   "id": "c5e05423-9a15-404e-99cf-c8186f152c4f",
   "metadata": {},
   "outputs": [],
   "source": [
    "# instantiate lemmatizer to convert to base word form\n",
    "lemmatizer = WordNetLemmatizer()"
   ]
  },
  {
   "cell_type": "code",
   "execution_count": 17,
   "id": "e3d91efd-d649-4215-83a4-8294fd2ece1f",
   "metadata": {
    "scrolled": true
   },
   "outputs": [
    {
     "name": "stderr",
     "output_type": "stream",
     "text": [
      "100%|████████████████████████████████████| 12675/12675 [04:49<00:00, 43.80it/s]\n"
     ]
    }
   ],
   "source": [
    "list_of_reviews = [] # to store all reviews\n",
    "\n",
    "for i, row in tqdm (reviews.iterrows(), total = len (reviews)):\n",
    "    review = row ['review']\n",
    "    \n",
    "    # tokenize\n",
    "    review_token = tokenizer.tokenize(review.lower())\n",
    "\n",
    "    # remove stop words\n",
    "    clean_review_token = []\n",
    "    for token in review_token:\n",
    "        if token not in stopwords.words('english'):\n",
    "            clean_review_token.append(token)\n",
    "    \n",
    "    # lemmatize token\n",
    "    for j in range(len(clean_review_token)):\n",
    "        clean_review_token[j] = lemmatizer.lemmatize(clean_review_token[j])\n",
    "        \n",
    "    # join back into a single string\n",
    "    lemmatize_clean_review_token = ' '.join(clean_review_token)\n",
    "    list_of_reviews.append(lemmatize_clean_review_token)"
   ]
  },
  {
   "cell_type": "code",
   "execution_count": 18,
   "id": "7413a1fa-77f3-40a4-b896-f35569be8e30",
   "metadata": {},
   "outputs": [],
   "source": [
    "# merge \"engineered review\" into the main df \n",
    "reviews.loc[:, 'engineered_review'] = list_of_reviews"
   ]
  },
  {
   "cell_type": "code",
   "execution_count": 19,
   "id": "adc62189-ad14-4fa1-96a2-5bedf7e3c91b",
   "metadata": {
    "scrolled": true
   },
   "outputs": [
    {
     "data": {
      "text/html": [
       "<div>\n",
       "<style scoped>\n",
       "    .dataframe tbody tr th:only-of-type {\n",
       "        vertical-align: middle;\n",
       "    }\n",
       "\n",
       "    .dataframe tbody tr th {\n",
       "        vertical-align: top;\n",
       "    }\n",
       "\n",
       "    .dataframe thead th {\n",
       "        text-align: right;\n",
       "    }\n",
       "</style>\n",
       "<table border=\"1\" class=\"dataframe\">\n",
       "  <thead>\n",
       "    <tr style=\"text-align: right;\">\n",
       "      <th></th>\n",
       "      <th>attraction</th>\n",
       "      <th>city</th>\n",
       "      <th>address</th>\n",
       "      <th>review</th>\n",
       "      <th>date</th>\n",
       "      <th>year</th>\n",
       "      <th>month</th>\n",
       "      <th>engineered_review</th>\n",
       "    </tr>\n",
       "  </thead>\n",
       "  <tbody>\n",
       "    <tr>\n",
       "      <th>0</th>\n",
       "      <td>Fushimi Inari-taisha Shrine</td>\n",
       "      <td>Kyoto</td>\n",
       "      <td>68 Fukakusa Yabunouchicho, Fushimi-ku, Kyoto 6...</td>\n",
       "      <td>We visited Fushimi Inari as part of a tour (hi...</td>\n",
       "      <td>2020-03-01</td>\n",
       "      <td>2020</td>\n",
       "      <td>3</td>\n",
       "      <td>visited fushimi inari part tour highly recomme...</td>\n",
       "    </tr>\n",
       "    <tr>\n",
       "      <th>1</th>\n",
       "      <td>Fushimi Inari-taisha Shrine</td>\n",
       "      <td>Kyoto</td>\n",
       "      <td>68 Fukakusa Yabunouchicho, Fushimi-ku, Kyoto 6...</td>\n",
       "      <td>We loved this shrine, so amazing and a nice ea...</td>\n",
       "      <td>2020-05-01</td>\n",
       "      <td>2020</td>\n",
       "      <td>5</td>\n",
       "      <td>loved shrine amazing nice easy hike went early...</td>\n",
       "    </tr>\n",
       "    <tr>\n",
       "      <th>2</th>\n",
       "      <td>Fushimi Inari-taisha Shrine</td>\n",
       "      <td>Kyoto</td>\n",
       "      <td>68 Fukakusa Yabunouchicho, Fushimi-ku, Kyoto 6...</td>\n",
       "      <td>A trip to Kyoto is incomplete without visiting...</td>\n",
       "      <td>2019-12-01</td>\n",
       "      <td>2019</td>\n",
       "      <td>12</td>\n",
       "      <td>trip kyoto incomplete without visiting fushimi...</td>\n",
       "    </tr>\n",
       "    <tr>\n",
       "      <th>3</th>\n",
       "      <td>Fushimi Inari-taisha Shrine</td>\n",
       "      <td>Kyoto</td>\n",
       "      <td>68 Fukakusa Yabunouchicho, Fushimi-ku, Kyoto 6...</td>\n",
       "      <td>One of Kyoto’s oldest historic landmarks!!The ...</td>\n",
       "      <td>2021-03-01</td>\n",
       "      <td>2021</td>\n",
       "      <td>3</td>\n",
       "      <td>one kyoto oldest historic landmark important i...</td>\n",
       "    </tr>\n",
       "    <tr>\n",
       "      <th>4</th>\n",
       "      <td>Fushimi Inari-taisha Shrine</td>\n",
       "      <td>Kyoto</td>\n",
       "      <td>68 Fukakusa Yabunouchicho, Fushimi-ku, Kyoto 6...</td>\n",
       "      <td>What you see in the pictures is just the very ...</td>\n",
       "      <td>2020-02-01</td>\n",
       "      <td>2020</td>\n",
       "      <td>2</td>\n",
       "      <td>see picture surface place spend hour recommend...</td>\n",
       "    </tr>\n",
       "    <tr>\n",
       "      <th>...</th>\n",
       "      <td>...</td>\n",
       "      <td>...</td>\n",
       "      <td>...</td>\n",
       "      <td>...</td>\n",
       "      <td>...</td>\n",
       "      <td>...</td>\n",
       "      <td>...</td>\n",
       "      <td>...</td>\n",
       "    </tr>\n",
       "    <tr>\n",
       "      <th>12670</th>\n",
       "      <td>Studio Escape</td>\n",
       "      <td>Osaka</td>\n",
       "      <td>1-6-17 Shikitsunishi, Naniwa-ku, Osaka 556-001...</td>\n",
       "      <td>We stumbled upon this by accident, having take...</td>\n",
       "      <td>2018-04-01</td>\n",
       "      <td>2018</td>\n",
       "      <td>4</td>\n",
       "      <td>stumbled upon accident taken food tour run one...</td>\n",
       "    </tr>\n",
       "    <tr>\n",
       "      <th>12671</th>\n",
       "      <td>Studio Escape</td>\n",
       "      <td>Osaka</td>\n",
       "      <td>1-6-17 Shikitsunishi, Naniwa-ku, Osaka 556-001...</td>\n",
       "      <td>This is my 70-something escape room and one of...</td>\n",
       "      <td>2019-10-01</td>\n",
       "      <td>2019</td>\n",
       "      <td>10</td>\n",
       "      <td>70 something escape room one favourite theme a...</td>\n",
       "    </tr>\n",
       "    <tr>\n",
       "      <th>12672</th>\n",
       "      <td>Studio Escape</td>\n",
       "      <td>Osaka</td>\n",
       "      <td>1-6-17 Shikitsunishi, Naniwa-ku, Osaka 556-001...</td>\n",
       "      <td>A friend wanted to try this, so he organised f...</td>\n",
       "      <td>2019-08-01</td>\n",
       "      <td>2019</td>\n",
       "      <td>8</td>\n",
       "      <td>friend wanted try organised three u together d...</td>\n",
       "    </tr>\n",
       "    <tr>\n",
       "      <th>12673</th>\n",
       "      <td>Studio Escape</td>\n",
       "      <td>Osaka</td>\n",
       "      <td>1-6-17 Shikitsunishi, Naniwa-ku, Osaka 556-001...</td>\n",
       "      <td>Nice escape room. Can highly recommend. The ow...</td>\n",
       "      <td>2019-07-01</td>\n",
       "      <td>2019</td>\n",
       "      <td>7</td>\n",
       "      <td>nice escape room highly recommend owner nice g...</td>\n",
       "    </tr>\n",
       "    <tr>\n",
       "      <th>12674</th>\n",
       "      <td>Studio Escape</td>\n",
       "      <td>Osaka</td>\n",
       "      <td>1-6-17 Shikitsunishi, Naniwa-ku, Osaka 556-001...</td>\n",
       "      <td>My husband has done many escape rooms and this...</td>\n",
       "      <td>2019-03-01</td>\n",
       "      <td>2019</td>\n",
       "      <td>3</td>\n",
       "      <td>husband done many escape room definitely creat...</td>\n",
       "    </tr>\n",
       "  </tbody>\n",
       "</table>\n",
       "<p>12675 rows × 8 columns</p>\n",
       "</div>"
      ],
      "text/plain": [
       "                        attraction   city  \\\n",
       "0      Fushimi Inari-taisha Shrine  Kyoto   \n",
       "1      Fushimi Inari-taisha Shrine  Kyoto   \n",
       "2      Fushimi Inari-taisha Shrine  Kyoto   \n",
       "3      Fushimi Inari-taisha Shrine  Kyoto   \n",
       "4      Fushimi Inari-taisha Shrine  Kyoto   \n",
       "...                            ...    ...   \n",
       "12670                Studio Escape  Osaka   \n",
       "12671                Studio Escape  Osaka   \n",
       "12672                Studio Escape  Osaka   \n",
       "12673                Studio Escape  Osaka   \n",
       "12674                Studio Escape  Osaka   \n",
       "\n",
       "                                                 address  \\\n",
       "0      68 Fukakusa Yabunouchicho, Fushimi-ku, Kyoto 6...   \n",
       "1      68 Fukakusa Yabunouchicho, Fushimi-ku, Kyoto 6...   \n",
       "2      68 Fukakusa Yabunouchicho, Fushimi-ku, Kyoto 6...   \n",
       "3      68 Fukakusa Yabunouchicho, Fushimi-ku, Kyoto 6...   \n",
       "4      68 Fukakusa Yabunouchicho, Fushimi-ku, Kyoto 6...   \n",
       "...                                                  ...   \n",
       "12670  1-6-17 Shikitsunishi, Naniwa-ku, Osaka 556-001...   \n",
       "12671  1-6-17 Shikitsunishi, Naniwa-ku, Osaka 556-001...   \n",
       "12672  1-6-17 Shikitsunishi, Naniwa-ku, Osaka 556-001...   \n",
       "12673  1-6-17 Shikitsunishi, Naniwa-ku, Osaka 556-001...   \n",
       "12674  1-6-17 Shikitsunishi, Naniwa-ku, Osaka 556-001...   \n",
       "\n",
       "                                                  review       date  year  \\\n",
       "0      We visited Fushimi Inari as part of a tour (hi... 2020-03-01  2020   \n",
       "1      We loved this shrine, so amazing and a nice ea... 2020-05-01  2020   \n",
       "2      A trip to Kyoto is incomplete without visiting... 2019-12-01  2019   \n",
       "3      One of Kyoto’s oldest historic landmarks!!The ... 2021-03-01  2021   \n",
       "4      What you see in the pictures is just the very ... 2020-02-01  2020   \n",
       "...                                                  ...        ...   ...   \n",
       "12670  We stumbled upon this by accident, having take... 2018-04-01  2018   \n",
       "12671  This is my 70-something escape room and one of... 2019-10-01  2019   \n",
       "12672  A friend wanted to try this, so he organised f... 2019-08-01  2019   \n",
       "12673  Nice escape room. Can highly recommend. The ow... 2019-07-01  2019   \n",
       "12674  My husband has done many escape rooms and this... 2019-03-01  2019   \n",
       "\n",
       "       month                                  engineered_review  \n",
       "0          3  visited fushimi inari part tour highly recomme...  \n",
       "1          5  loved shrine amazing nice easy hike went early...  \n",
       "2         12  trip kyoto incomplete without visiting fushimi...  \n",
       "3          3  one kyoto oldest historic landmark important i...  \n",
       "4          2  see picture surface place spend hour recommend...  \n",
       "...      ...                                                ...  \n",
       "12670      4  stumbled upon accident taken food tour run one...  \n",
       "12671     10  70 something escape room one favourite theme a...  \n",
       "12672      8  friend wanted try organised three u together d...  \n",
       "12673      7  nice escape room highly recommend owner nice g...  \n",
       "12674      3  husband done many escape room definitely creat...  \n",
       "\n",
       "[12675 rows x 8 columns]"
      ]
     },
     "execution_count": 19,
     "metadata": {},
     "output_type": "execute_result"
    }
   ],
   "source": [
    "reviews"
   ]
  },
  {
   "cell_type": "markdown",
   "id": "371fb425-e36d-4b48-99c5-5d09f2174639",
   "metadata": {},
   "source": [
    "## Feature Sentiment Analysis"
   ]
  },
  {
   "cell_type": "markdown",
   "id": "862939fb-d350-4e78-8ecc-b1c0260227b0",
   "metadata": {},
   "source": [
    "**Workflow:**\n",
    "\n",
    "* Identify suitable keywords from original review column to create sentiment score.\n",
    "* Check 'negated' version, preferrably <20% of total to assign sentiment correctly. Because when we engineered the review (remove stop words), we have no control over the negated portion.\n",
    "* When we transform the data in the latter section, need to adjust hyperparameter (max_features, min_df, max_df) to ensure that those words are captured in order to model accurately."
   ]
  },
  {
   "cell_type": "markdown",
   "id": "b5d6716d-133f-4b38-b6f7-b1a882fd2a85",
   "metadata": {},
   "source": [
    "### word #1 : crowd"
   ]
  },
  {
   "cell_type": "code",
   "execution_count": 20,
   "id": "353adb93-24e5-4a48-8323-4889a60f9e0a",
   "metadata": {},
   "outputs": [],
   "source": [
    "# identify all reviews with 'crowd' word included\n",
    "wait_list = []\n",
    "for review in reviews['review']:\n",
    "    if ('crowd' in review):\n",
    "        wait_list.append(review)"
   ]
  },
  {
   "cell_type": "code",
   "execution_count": 21,
   "id": "9fc13ba8-27cb-4103-b557-c2ed473c9047",
   "metadata": {
    "scrolled": true
   },
   "outputs": [
    {
     "name": "stdout",
     "output_type": "stream",
     "text": [
      "713\n"
     ]
    },
    {
     "data": {
      "text/plain": [
       "['We visited Fushimi Inari as part of a tour (highly recommend to do a tour so that you understand the stories and meanings behind each part of the shrine). This place is huge- it sits on a mountain and you can hike through the entire shrine. It was still crowded enough with locals and quite a lot of tourists despite all the virus hype, so I can’t imagine how much busier it is during normal tourist season! It is better to visit early in the morning. In one part of the shrine, there are small local stores, one of which sold boiled eggs- a must try! Delicious and boiled in the sacred waters of the shrine. Also, get ready for a major workout - if you plan to walk the entire length of it, there are many steps and lots of long, narrow trails.',\n",
       " \"We loved this shrine, so amazing and a nice easy hike. We went very early in the morning to avoid any crowds, I believe we arrived around 8am & there were very few people there. Took the subway system from Kyoto Station and it's only about a block from the station there (I can't remember the name of this stop). Must see if you're in Kyoto. \",\n",
       " 'One of Kyoto’s oldest historic landmarks!!The most important Inari Shinto shrine in Japan. It’s FREE (no charge) & so is the parking (parking attendants direct the parking). Stunning Romon Gate, Main Hall & Shrine. Be prepared for a 2-3 hr excursion just for the hike through all the toriis - climb the stairs & hike through over a thousand vermilion torii shrine gates to the summit of sacred Mt Inari. Descend back to the Fushimi Inari Taisha Shrine. We took frequent rest breaks while hiking upward. There are quite a few shops (for drinks, food, souvenirs, ice cream, etc), vending machines but maybe only 2 restroom areas along the hike. Best to get to the shrine & start the climb as early in the morning as possible...you’ll get wonderful photos before the crowds come. Majority of people wore masks for COVID precautions. ',\n",
       " 'We were there in the evening (about one hour before sunset, so the place definitely was not overcrowded. Orange/almost red Tori gates are absolutely unforgettable views. The whole shrine area is rather big. Tori gates lead to thetop of the hill, where there are a few platforms allowing for great views on Kyoto, other surrounding hills and even Osaka. Additionally, everywhere are everywhere stone fox statues, as the shrine is devoted to deity of foxes, which are the messengers observing people. Very nice place, with some quiet, contemplative places, especially when not overcrowded. Absolutely \"must see\" in Kyoto.',\n",
       " 'This giant shrine area with thousands of orange shinto gates and statues of the foxes are a must visit in Kyoto, and I have a small tip on how to avoid the crowds of tourists there. Officially the place is open till 5 pm. But in fact, it is safely accessible any time, so I recommend to come AFTER 5 pm.Firstly, the place has a great lighting around all the temples 24/7 so you will see them well even when it’s dark - I added the pics here.Secondly, it is not crowded at all in the evening, so you can enjoy your privacy on the nature side.Thirdly, you will still be able to make it to all the suggested walks. Have fun!',\n",
       " \"It's said that this is one of the most popular tourist destinations in Japan, and I can believe it: we were there on a cold day in December and the place was absolutely swarming. I hardly dare contemplate what it must be like in the high season.However, don't let that put you off. The temple complex covers the whole mountainside, and as you go up the mountain, the crowds fall away. The vast bulk of visitors only visit the lower part of the complex and of those who go further, most stop at the saddle where there is a great view of Kyoto, and a small restaurant. If you climb to the top (about a 15 minute walk from the saddle) and then take the loop path that leads you back  to the saddle, you can enjoy an uncrowded walk along the forest path, dotted with those iconic orange Torii gates. It's probably obvious, but it should be noted that this is NOT a destination for the mobility-impaired. The paths are steep and often narrow and there are a lot of irregular stone steps.\",\n",
       " 'What a neat and lovely place! Yes, it can be crowded. We got there early and it wasn’t too bad; the crowds also thin out the higher you climb. When we were there, everyone was very considerate and respectful, both of the shrine itself and of their fellow visitors.The views are lovely and it was definitely worth the climb. When you descend, you can take the back path and avoid those who are climbing up. It’s faster and it makes the torii gate path less crowded for those who are still going up, too!',\n",
       " 'We arrived at Fushimi Inari around 6pm, so it\\'s not yet that dark, but not really light as well... a twilight of sorts and it was magical (check the photo). I recommend visiting at around this time as there\\'s not much crowd, plus the view is so, shall we say \"instagram-worthy\". You can actually feel that this a holy place. Japan has many beautiful temples, and we\\'ve visited quite a few, but this is probably one of the best we\\'ve seen.',\n",
       " 'This shrine was one of the highlights of our time in Kyoto. Its much more extensive than we realized, with walking trails way up into the mountain with lookouts over the city. Most tourists get stuck at the entrance taking their selfies but the crowds are wild here and you cannot get a photo of you without 10 other people walking in it. But if you continue on the walking trail and dont turn back to the entrance at the first trail (which is about a 10 minute loop) but continue up the mountain, they still have the orange wood structures the whole way up and there were times where we didnt see anyone else for 5 whole minutes! So if you are visiting I would highly recommend take some extra time and do the longer trail to enjoy some peace and tranquility which is supposed to be the point of this place anyway. And some people-free photos never hurt either :)',\n",
       " 'We went on a day that it was raining and took an umbrella each. It was well worth it!! It was not overcrowded so plenty of opportunities for photos without other tourists in the background. It takes about 2.5 - 3 hours to get to the top of mt. Inari and back with a quick stop for a drink and souvenir shops. The train station is practically across the road and most people are heading there so follow the crowd and you’ll find it. Stop number 6 on the trail has an awesome view and a pit stop cafe/drinks/icecream. This is where most people stop and go back down and I wouldn’t have regretted turning back at this point but we pushed on to the top, which included lots of stairs, and at the very top there was not a designated good view spot, but a large collection of shrines. There was a small building that I don’t know if it opens to the public or not as it wasn’t open. The trail of tori gates and shrines really left you in awe and the forest was a refreshing contrast from the cityscape.My legs were jelly once we started descending (from the top) and I’d consider myself to be of average/above average level of fitness, which is why I think stop 6 on the trail is a good spot to turn back if I did it again']"
      ]
     },
     "execution_count": 21,
     "metadata": {},
     "output_type": "execute_result"
    }
   ],
   "source": [
    "print(len(wait_list))\n",
    "wait_list[:10]"
   ]
  },
  {
   "cell_type": "code",
   "execution_count": 22,
   "id": "8e3edff0-6c74-40de-b3ab-c27bcfab7404",
   "metadata": {},
   "outputs": [],
   "source": [
    "# identify all reviews with 'crowd' word AND EXCLUDE negated version\n",
    "wait_list = []\n",
    "for review in reviews['review']:\n",
    "    if ('crowd' in review) & ('no crowd' not in review) & ('not crowded' not in review) & ('n\\'t crowded' not in review)& ('not overcrowded' not in review) & ('n\\'t overcrowded' not in review) & ('unovercrowded' not in review):\n",
    "        wait_list.append(review)"
   ]
  },
  {
   "cell_type": "code",
   "execution_count": 23,
   "id": "a1c2882d-f649-42e0-b810-b9f775cf5b4f",
   "metadata": {
    "scrolled": true
   },
   "outputs": [
    {
     "name": "stdout",
     "output_type": "stream",
     "text": [
      "649\n"
     ]
    },
    {
     "data": {
      "text/plain": [
       "['We visited Fushimi Inari as part of a tour (highly recommend to do a tour so that you understand the stories and meanings behind each part of the shrine). This place is huge- it sits on a mountain and you can hike through the entire shrine. It was still crowded enough with locals and quite a lot of tourists despite all the virus hype, so I can’t imagine how much busier it is during normal tourist season! It is better to visit early in the morning. In one part of the shrine, there are small local stores, one of which sold boiled eggs- a must try! Delicious and boiled in the sacred waters of the shrine. Also, get ready for a major workout - if you plan to walk the entire length of it, there are many steps and lots of long, narrow trails.',\n",
       " \"We loved this shrine, so amazing and a nice easy hike. We went very early in the morning to avoid any crowds, I believe we arrived around 8am & there were very few people there. Took the subway system from Kyoto Station and it's only about a block from the station there (I can't remember the name of this stop). Must see if you're in Kyoto. \",\n",
       " 'One of Kyoto’s oldest historic landmarks!!The most important Inari Shinto shrine in Japan. It’s FREE (no charge) & so is the parking (parking attendants direct the parking). Stunning Romon Gate, Main Hall & Shrine. Be prepared for a 2-3 hr excursion just for the hike through all the toriis - climb the stairs & hike through over a thousand vermilion torii shrine gates to the summit of sacred Mt Inari. Descend back to the Fushimi Inari Taisha Shrine. We took frequent rest breaks while hiking upward. There are quite a few shops (for drinks, food, souvenirs, ice cream, etc), vending machines but maybe only 2 restroom areas along the hike. Best to get to the shrine & start the climb as early in the morning as possible...you’ll get wonderful photos before the crowds come. Majority of people wore masks for COVID precautions. ',\n",
       " \"It's said that this is one of the most popular tourist destinations in Japan, and I can believe it: we were there on a cold day in December and the place was absolutely swarming. I hardly dare contemplate what it must be like in the high season.However, don't let that put you off. The temple complex covers the whole mountainside, and as you go up the mountain, the crowds fall away. The vast bulk of visitors only visit the lower part of the complex and of those who go further, most stop at the saddle where there is a great view of Kyoto, and a small restaurant. If you climb to the top (about a 15 minute walk from the saddle) and then take the loop path that leads you back  to the saddle, you can enjoy an uncrowded walk along the forest path, dotted with those iconic orange Torii gates. It's probably obvious, but it should be noted that this is NOT a destination for the mobility-impaired. The paths are steep and often narrow and there are a lot of irregular stone steps.\",\n",
       " 'What a neat and lovely place! Yes, it can be crowded. We got there early and it wasn’t too bad; the crowds also thin out the higher you climb. When we were there, everyone was very considerate and respectful, both of the shrine itself and of their fellow visitors.The views are lovely and it was definitely worth the climb. When you descend, you can take the back path and avoid those who are climbing up. It’s faster and it makes the torii gate path less crowded for those who are still going up, too!',\n",
       " 'We arrived at Fushimi Inari around 6pm, so it\\'s not yet that dark, but not really light as well... a twilight of sorts and it was magical (check the photo). I recommend visiting at around this time as there\\'s not much crowd, plus the view is so, shall we say \"instagram-worthy\". You can actually feel that this a holy place. Japan has many beautiful temples, and we\\'ve visited quite a few, but this is probably one of the best we\\'ve seen.',\n",
       " 'This shrine was one of the highlights of our time in Kyoto. Its much more extensive than we realized, with walking trails way up into the mountain with lookouts over the city. Most tourists get stuck at the entrance taking their selfies but the crowds are wild here and you cannot get a photo of you without 10 other people walking in it. But if you continue on the walking trail and dont turn back to the entrance at the first trail (which is about a 10 minute loop) but continue up the mountain, they still have the orange wood structures the whole way up and there were times where we didnt see anyone else for 5 whole minutes! So if you are visiting I would highly recommend take some extra time and do the longer trail to enjoy some peace and tranquility which is supposed to be the point of this place anyway. And some people-free photos never hurt either :)',\n",
       " 'This shrine is very crowded because it is famous and have no entrance fee. But if you walk bit further you can enjoy this shrine, because most  of them only want to take photo in the famous torii. The path is actually quite long and steep, it is larger than expected so allocate  2-3 hours if you want to walk from start to finish.',\n",
       " 'Due to our schedule, and a desire to avoid crowds, we came in the evening after dark which turned out to be a great choice. Got the JR line from Kyoto centre and the entrance was just over the road. At night this place no doubt has a very different feel, all lit up by lanterns. The crowds had almost vanished and just a handful of people were making the walk up and down the hill through the gates. We went to the very top (lots of steps, some effort required) and I felt it was well worth it. Heard monkeys in the forest, saw plenty of joru spiders on their webs, and met a bunch of friendly feral cats. One of my favourite places in Kyoto, available all around the clock, and best of all completely free. This is a must do!',\n",
       " 'Make sure to get there early before the crowds come! We started climbing before 7am and there were several people at the base and already climbing as well. We were in a little bit of a hurry so we hiked straight up and down, stopping only for a picture or two, and we were able to complete it in an hour and 15 minutes. The climb is tough - stairs on stairs on stairs! We lost most of our layers on the way up and that’s saying a lot since it was around 33 degrees fahrenheit that day. But if you are able to do it, it’s pretty neat. The only frustrating part was that the top of the mountain literally had a piece of paper that said, “TOP.” There were no rewarding views at the top, which was a bummer, so make sure to take the time and hit the lookout point on the way up or down for a nice picture. ']"
      ]
     },
     "execution_count": 23,
     "metadata": {},
     "output_type": "execute_result"
    }
   ],
   "source": [
    "print(len(wait_list))\n",
    "wait_list[:10]"
   ]
  },
  {
   "cell_type": "markdown",
   "id": "523b4f78-23db-4d66-bab8-59a2e5fd57bc",
   "metadata": {},
   "source": [
    " There are 713 identified reviews that contains 'crowd' word, and 71 of them are actually negation of crowded. \n",
    " > Conclusion: Since negated version is only ~10% of the total identified one, `crowd` can be used to assign sentiment."
   ]
  },
  {
   "cell_type": "markdown",
   "id": "17476f25-5da2-4444-9bbf-1fadaca332eb",
   "metadata": {},
   "source": [
    "### word #2 : queue"
   ]
  },
  {
   "cell_type": "code",
   "execution_count": 24,
   "id": "cdc6027a-4607-4f74-b17b-9f9721f18138",
   "metadata": {},
   "outputs": [],
   "source": [
    "# identify all reviews with 'crowd' word included\n",
    "wait_list = []\n",
    "for review in reviews['review']:\n",
    "    if ('queue' in review):\n",
    "        wait_list.append(review)"
   ]
  },
  {
   "cell_type": "code",
   "execution_count": 25,
   "id": "9b6e72d3-ef88-4e2f-a2fa-5030f5a700e0",
   "metadata": {
    "scrolled": true
   },
   "outputs": [
    {
     "name": "stdout",
     "output_type": "stream",
     "text": [
      "75\n"
     ]
    },
    {
     "data": {
      "text/plain": [
       "['This temple is really beautiful to look at but:- pictures make it look bigger than it is- you are paying 400 yen to literally follow a really crowded pathway, try to find a gap to take a picture and then get herded along the path to the exit.We spent more time in the entrance queue than around the temple itself.If you are in the area, then you should do it but if you need to travel and plan to get there (we had to catch 2 buses to get here), then it is not worth the fuss.',\n",
       " 'Yes a spectacular building because its allshiny and gold. But. The experience spoils the whole effect. We did do as advised and get there early, before it even opened, but of  course lots of others did and the queue wrapped around the walls, so still busy and once through the gate it is a one way system around the lake to see the building.You see the temple almost straight away and frankly that first sighting spot is THE spot to take your pictures, no where else has nearly as good a view. Once you have walked past, this was themost commercial temple/shrine we visited it just felt like a trap. Given how off the main track this is, it really wasnt worth it.',\n",
       " 'Carefully curated museum displaying a very difficult moment in human history.  Learnt a lot more than I expected to.It was busy when we visited which I suspect is often the case.  Although the queue was very long we were kept moving along and were inside quicker than you might expect.Definitely worth the visit.',\n",
       " 'Before getting into the grounds of the temple, you will first be wowed by the Kaminarimon. That magnificent big red lantern at the gate is not to be missed. Remember to look for the dragon at the base of the lantern. I went in the evening and it was crowded. There was a long queue up the stairs to the temple for praying/wishing. I would definitely suggest this not to be missed.',\n",
       " 'We visited the area with kids in the afternoon and it was quite crowded. There were long queues at some of the popular food stalls. The walk up to the temple was pleasant, with interesting and colourful sights from the various shops. We were pleasantly surprised to see that a cherry blossom tree has bloomed. It was beautiful. We also managed to explore a couple of the streets off the main path to find more shops and food stalls. The temple and the surrounding area is definitely worth the visit!',\n",
       " 'Less than an hour by Shinkansen from Kyoto and walking distance from station, an ideal day trip.Combo ticket for castle and beautiful gardens 1050 yen.We visited at peak  Cherry blossom time and the views from outside were just stunning. Huge crowds and queues though , so much so that admission was suspended in the early afternoon, so get there early .Once in the keep you can climb , shoeless obviously, 6 floors to the top in one continuous queue , but I wouldn’t bother as the views are the same from each floor and the really best views are from outside.',\n",
       " 'beautiful from outside hell inside. A part from the crowd (you will have to queue for hours) the castle inside is only stairs and stairs. Nothing to see. ',\n",
       " 'We visited during November 2019 to catch the extraordinary autumn colours, which were breathtaking, especially with the reflections in the water.  Every vista was a photo opportunity. Many of the trees were pruned to show off their beauty. We visited 3 times during our stay -  early in the morning was best to beat any queues. Definitely recommended.',\n",
       " \"From Kanazawa Castle Park, we crossed the road to Kenrokuen Garden. This was April and the cherry blossoms were still flowering on the trees. At 28 acres, the garden's size was easy to cover at a leisurely pace. Foot paths link the points of interest and we did not have to walk far to cover all of them. Ponds and streams add interest to the landscaped gardens. They provide a scenic backdrop to the full canopies of cherry blossoms. Photo opportunities abound at every turn.As the garden is not expansive (unlike Shinjuku Gyoen in Shinjuku) and crowds were drawn to its popularity during hanami, we had to queue to take photos at popular spots. While waiting for our turn, we witnessed the ugly side of some tourists who took their time to preen and pose for their perfect shot or called out to their friends to join them one by one for photo-taking, while completely oblivious to others who were waiting for them to finish!Fortunately, these ugly behaviour of tourists were soon forgotten as our minds took in the scenic beauty of Kenrokuen Garden.\",\n",
       " 'Impressive castle on approach, a couple of acting Samurai in the queue to the castle which was fun, happy to have photos with the visitors and play along.Lots of staff directing the single file waiting visitors, shoes off we were instructed  ( which was tricky as it’s winter and wet) once inside it’s all timber and dark, some interesting displays of firearms used once in the castles defence. No swords which we thought was odd. The stairs up the 6 levels are very steep, not for everyone as coming down was a bit of a challenge. I came down backwards like you would on a ladder. I’m glad we went and it’s a beautiful old castle with much history. Surround by snow capped mountains & pristine gardensThere are voluntary guides at the front gate and I regret not using one. It would be good to have some stories to go with the castle Easy walk from the train station and loads of quaint shops and bars surround the castle grounds. Worth the 1.5 hour train trip from Hakuba.']"
      ]
     },
     "execution_count": 25,
     "metadata": {},
     "output_type": "execute_result"
    }
   ],
   "source": [
    "print(len(wait_list))\n",
    "wait_list[:10]"
   ]
  },
  {
   "cell_type": "code",
   "execution_count": 26,
   "id": "498d2c32-bf62-41a8-aa06-1d805ce05050",
   "metadata": {},
   "outputs": [],
   "source": [
    "# identify all reviews with 'crowd' word AND EXCLUDE negated version\n",
    "wait_list = []\n",
    "for review in reviews['review']:\n",
    "    if ('queue' in review) & ('no queue' not in review) & ('short queue' not in review):\n",
    "        wait_list.append(review)"
   ]
  },
  {
   "cell_type": "code",
   "execution_count": 27,
   "id": "942a451c-9a30-4276-843e-58b4374b216f",
   "metadata": {
    "scrolled": true
   },
   "outputs": [
    {
     "name": "stdout",
     "output_type": "stream",
     "text": [
      "72\n"
     ]
    },
    {
     "data": {
      "text/plain": [
       "['This temple is really beautiful to look at but:- pictures make it look bigger than it is- you are paying 400 yen to literally follow a really crowded pathway, try to find a gap to take a picture and then get herded along the path to the exit.We spent more time in the entrance queue than around the temple itself.If you are in the area, then you should do it but if you need to travel and plan to get there (we had to catch 2 buses to get here), then it is not worth the fuss.',\n",
       " 'Yes a spectacular building because its allshiny and gold. But. The experience spoils the whole effect. We did do as advised and get there early, before it even opened, but of  course lots of others did and the queue wrapped around the walls, so still busy and once through the gate it is a one way system around the lake to see the building.You see the temple almost straight away and frankly that first sighting spot is THE spot to take your pictures, no where else has nearly as good a view. Once you have walked past, this was themost commercial temple/shrine we visited it just felt like a trap. Given how off the main track this is, it really wasnt worth it.',\n",
       " 'Carefully curated museum displaying a very difficult moment in human history.  Learnt a lot more than I expected to.It was busy when we visited which I suspect is often the case.  Although the queue was very long we were kept moving along and were inside quicker than you might expect.Definitely worth the visit.',\n",
       " 'Before getting into the grounds of the temple, you will first be wowed by the Kaminarimon. That magnificent big red lantern at the gate is not to be missed. Remember to look for the dragon at the base of the lantern. I went in the evening and it was crowded. There was a long queue up the stairs to the temple for praying/wishing. I would definitely suggest this not to be missed.',\n",
       " 'We visited the area with kids in the afternoon and it was quite crowded. There were long queues at some of the popular food stalls. The walk up to the temple was pleasant, with interesting and colourful sights from the various shops. We were pleasantly surprised to see that a cherry blossom tree has bloomed. It was beautiful. We also managed to explore a couple of the streets off the main path to find more shops and food stalls. The temple and the surrounding area is definitely worth the visit!',\n",
       " 'Less than an hour by Shinkansen from Kyoto and walking distance from station, an ideal day trip.Combo ticket for castle and beautiful gardens 1050 yen.We visited at peak  Cherry blossom time and the views from outside were just stunning. Huge crowds and queues though , so much so that admission was suspended in the early afternoon, so get there early .Once in the keep you can climb , shoeless obviously, 6 floors to the top in one continuous queue , but I wouldn’t bother as the views are the same from each floor and the really best views are from outside.',\n",
       " 'beautiful from outside hell inside. A part from the crowd (you will have to queue for hours) the castle inside is only stairs and stairs. Nothing to see. ',\n",
       " 'We visited during November 2019 to catch the extraordinary autumn colours, which were breathtaking, especially with the reflections in the water.  Every vista was a photo opportunity. Many of the trees were pruned to show off their beauty. We visited 3 times during our stay -  early in the morning was best to beat any queues. Definitely recommended.',\n",
       " \"From Kanazawa Castle Park, we crossed the road to Kenrokuen Garden. This was April and the cherry blossoms were still flowering on the trees. At 28 acres, the garden's size was easy to cover at a leisurely pace. Foot paths link the points of interest and we did not have to walk far to cover all of them. Ponds and streams add interest to the landscaped gardens. They provide a scenic backdrop to the full canopies of cherry blossoms. Photo opportunities abound at every turn.As the garden is not expansive (unlike Shinjuku Gyoen in Shinjuku) and crowds were drawn to its popularity during hanami, we had to queue to take photos at popular spots. While waiting for our turn, we witnessed the ugly side of some tourists who took their time to preen and pose for their perfect shot or called out to their friends to join them one by one for photo-taking, while completely oblivious to others who were waiting for them to finish!Fortunately, these ugly behaviour of tourists were soon forgotten as our minds took in the scenic beauty of Kenrokuen Garden.\",\n",
       " 'Impressive castle on approach, a couple of acting Samurai in the queue to the castle which was fun, happy to have photos with the visitors and play along.Lots of staff directing the single file waiting visitors, shoes off we were instructed  ( which was tricky as it’s winter and wet) once inside it’s all timber and dark, some interesting displays of firearms used once in the castles defence. No swords which we thought was odd. The stairs up the 6 levels are very steep, not for everyone as coming down was a bit of a challenge. I came down backwards like you would on a ladder. I’m glad we went and it’s a beautiful old castle with much history. Surround by snow capped mountains & pristine gardensThere are voluntary guides at the front gate and I regret not using one. It would be good to have some stories to go with the castle Easy walk from the train station and loads of quaint shops and bars surround the castle grounds. Worth the 1.5 hour train trip from Hakuba.']"
      ]
     },
     "execution_count": 27,
     "metadata": {},
     "output_type": "execute_result"
    }
   ],
   "source": [
    "print(len(wait_list))\n",
    "wait_list[:10]"
   ]
  },
  {
   "cell_type": "markdown",
   "id": "1dac495f-31fc-4b6e-8774-8c87d55eb4cd",
   "metadata": {},
   "source": [
    " There are 75 identified reviews that contains 'queue' word, and only 3 of them are actually negation of crowded. \n",
    " > Conclusion: Since negated version is only <5% of the total identified one, `queue` can be used to assign sentiment."
   ]
  },
  {
   "cell_type": "markdown",
   "id": "16515a79-1259-423a-9ed4-f8f8197890ab",
   "metadata": {},
   "source": [
    "### word #3 : wait"
   ]
  },
  {
   "cell_type": "code",
   "execution_count": 28,
   "id": "ad47df19-7a7b-4d8f-88f0-a6fcc0ea1451",
   "metadata": {},
   "outputs": [],
   "source": [
    "# identify all reviews with 'crowd' word included\n",
    "wait_list = []\n",
    "for review in reviews['review']:\n",
    "    if ('wait' in review):\n",
    "        wait_list.append(review)"
   ]
  },
  {
   "cell_type": "code",
   "execution_count": 29,
   "id": "e7e21d7c-9b1c-449d-ab02-3289517c0e04",
   "metadata": {
    "scrolled": true
   },
   "outputs": [
    {
     "name": "stdout",
     "output_type": "stream",
     "text": [
      "415\n"
     ]
    },
    {
     "data": {
      "text/plain": [
       "['\"伏見稲荷大社” or \"Fushimi Inari Taisha\" is the most important Shrine in Kyoto. This Shrine is dedicated to the Shinto God of Rice \"Inari\", constructed by Imperial Order of the Empress Genmei, who reigned during the Wado Era [708-715].Empress Genmei Ordered to enshrine 3 deities in 3 mountains on the 1st day of the Horse of the second month of 711, so it\\'s believed that The God \"Inari\" was enshrined in that day.It\\'s really famous for its thousands of vermilion Torii 「千本鳥居」lining the road up to the main Shrine.It\\'s a must when visiting Kyoto! You can access from the JR Fushimi station or Keihan Fushimi Inari Station. Visit our YouTube channel [Let\\'s Go Lab JP] so you don\\'t miss any of our adventures! We will be giving you tips for your trip to Japan! What are you waiting for? Join Us!',\n",
       " \"The swathes of orange gates really do have a stunning appearance. It's easy to see why people flock here, you might be waiting a while if you want that perfect picture without someone walking through.It's a nice hike to the top with some beautiful views and definitely worth the trek to escape the crowds in the main areas. \",\n",
       " 'The Golden Temple a.k.a The Golden Pavilion was a beautiful sight to see. Was very easy to get by bus and is a short walk from the bus stop. Given it is quite the popular tourist attraction, there many people visiting during the holidays. I was told the best time to go is during or right after it snows. Just be patient when waiting to get your picture as everyone is trying to get their best angle.',\n",
       " 'I love the Kiyomizudera! My favorite place, but I was very upset because I had read they were working on it so when I got there, I asked if we could still see the main part of it and they assured me yes with a great smile and confidence. I asked twice mind you and both times they excitedly said yes. But the most beautiful part that I love was all covered. Grrrrr so mad!!!! Yes there are other areas that are nice but the reason I go there is for that main gorgeous part if it. I will wait until I know they have removed and all reconstruction is done before I go back and pay to see it.',\n",
       " 'Yes, this temple is as amazing as people say. It was my favorite spot (hands down) in Kyoto. Its worth a trip up there (mountain) because its easy to take many buses (100 or 206) from the Kyoto station and within the temple there is so much to see due to the different shrines within one area. Once you get off the bus you can easily follow people up the hill through the many shops leading to the temple. I found a lot of things here like - sake cup sets, tea cups, small plates, chopsticks, green tea icream and many more. Some things are unique to this place and I recommend buying things around the area because the prices for the product was unbeatable and I never found some of the things sold here any whereelse in Kyoto or other places in Japan. It takes about 15 mins up the hill to get to the temple but you forget your walking up the hill due to all the great shops.I like the simpler things in life and my favorite thing to do there was to buy a cup (200Yen) and drink from the three streams originating from Otowa waterfall. The best water I have ever had in my life and the best 200 yen I spent in my 2 week stay in Japan. You get to keep the cup! Do not drink from all 3 streams as it is believed to show sign of greediness. It is believed to bring wisdom and luck if you try the water. You do wait in line and it is more than worth it.My next favorite thing there was seeing the womb of buddha. And noticed that most people did not go to see it and might not even know about it. You donate 100 yen and have to remove your shoes and put it in a bag that they give you. They do have english directions which I did not read because I was so exited and had no idea what I was getting myself into. You hold on for your dear life to the beaded pathway in the dark leading to the womb where you make a wish. The womb is lit up so that is the only thing you will see. It was great and I was in the front so I was leading everyone behind me. Very peaceful eventhough you hear little girls screaming.They also have love stones in the love shrine area (Jishu Shrine). Tons of teenagers were there helping each other out from one stone to another. You should try it. It seems like a lot of fun. If you can get from one stone to another with your eyes closed it is said you will find your true love soon. If you do it with help then you will find your love with someones assistance in real life. Do not skip Jishu shrine. Not to forget but the architecture is breath taking and there was a great sense of energy in that place. The whole view of Kyoto is a added bonus. Bought charms for good luck and good welfare. Each around 300 yen to 450 yen. They have charms for everything you can think of.Also tried Omikuji (paper fortune) and it is in Japanese but wanted to try it. I ended up getting a symbol which represents bad luck and was told immediately to leave it in a certain area in the temple so I dont take the \"bad luck\" with me back home. That was a little dissapointing.Overall please do not miss this in Kyoto and wear great shoes, take money ready with you and keep a budget there because it is easy to shop quickly and spend it all away and go before it gets too hot during the middle of the day.Have fun!',\n",
       " \"There were several unfortunate. Unfortunate things about this day. the.. the first was no one told us we could walk there from the train station. And we tried to get a taxi for which we waited almost 1/2 hour. And they told us they refused to take us. Then when we finally did get a taxi, he was very upset. Dollars to go. Uh, about 1000 feet. Because we were so embarrassed.. the room was terrible. The lounge was great, and the manager and I came to a compromise as far as the fact that I didn't sleep at all due to A. Terrible bed. The manager really tried to make things right, but he cannot make a bed.\",\n",
       " \"I always go here whenever I visit Japan. It gets really crowded, but there are plenty of must-try food stalls and other restaurants to choose from. So if you're a foodie or if you're on a trip with friends/family with different preferred tastes, Dotonbori should definitely be in your list. If you're looking for souvenirs, there are a lot of tax free shops there too. If you want to go shopping, I recommend going in the morning because there aren't as many people. It's also a more relaxed atmosphere in general if you visit earlier in the day, and you won't have to wait in line for too long. It's a great place to feature on your social media accts too, if you're into that. 👍\",\n",
       " \"I bought the ticket online few days ago for the night entrance. It said it was open at 7 to 10pm. However, when I arrived at 8pm, the staff who didnt speak English well told me that the entrance were closed due to crowd control. I have explained to him and he just didn't want to respond me. And there were 50 guests waiting outside as well. He tried to tell the crowd to get refund on the website. But I couldn't find any information on the English website. I asked him to find his manager or someone who could speak English and assist the guest, he said his boss was off. Meanwhile, I saw some of the people still getting in other entrances.After almost an hour, another guy came out and shouted at us and want to leave with the ridiculous . Thats the rudest guy I have ever met in the tourist spot. I am a businessman who travel more than 30 countries. Thats the most nonsense place I have met. You pay and you wait for hours. But you only receive the rude rejection.\",\n",
       " 'Went in on my own to pass some time whilst waiting for a train.Was only 500 to get in and it was worth every penny.Such a beautiful tranquil place, it’s huge, I spent just over 2 hours walking about taking it all in, and could of stayed at least another 2.Plenty of seats scattered about and also food places. You really could be in the middle of no-where.The added bonus for me was, because of the corona virus scare, it was near empty.Really is worth a visit to just unwind.👍🏼👍🏼👍🏼',\n",
       " 'A beautiful temple awaits after a long but nice walk into the forest.  The main shrine is where you want to be.  It’s amazing how they have preserved the area despite so many tourists visiting it.  It’s near the city and just a train station away from Shinjuku station.  A must visit.']"
      ]
     },
     "execution_count": 29,
     "metadata": {},
     "output_type": "execute_result"
    }
   ],
   "source": [
    "print(len(wait_list))\n",
    "wait_list[:10]"
   ]
  },
  {
   "cell_type": "code",
   "execution_count": 30,
   "id": "562e86aa-8448-4d4f-a9c3-b7ca9768988c",
   "metadata": {},
   "outputs": [],
   "source": [
    "# identify all reviews with 'crowd' word AND EXCLUDE negated version\n",
    "wait_list = []\n",
    "for review in reviews['review']:\n",
    "    if ('wait' in review) & ('short wait' not in review) & ('no wait' not in review) & ('await' not in review):\n",
    "        wait_list.append(review)"
   ]
  },
  {
   "cell_type": "code",
   "execution_count": 31,
   "id": "8aa6dcb7-43a0-4bf5-bac8-2ccd4aebea12",
   "metadata": {
    "scrolled": true
   },
   "outputs": [
    {
     "name": "stdout",
     "output_type": "stream",
     "text": [
      "395\n"
     ]
    },
    {
     "data": {
      "text/plain": [
       "['\"伏見稲荷大社” or \"Fushimi Inari Taisha\" is the most important Shrine in Kyoto. This Shrine is dedicated to the Shinto God of Rice \"Inari\", constructed by Imperial Order of the Empress Genmei, who reigned during the Wado Era [708-715].Empress Genmei Ordered to enshrine 3 deities in 3 mountains on the 1st day of the Horse of the second month of 711, so it\\'s believed that The God \"Inari\" was enshrined in that day.It\\'s really famous for its thousands of vermilion Torii 「千本鳥居」lining the road up to the main Shrine.It\\'s a must when visiting Kyoto! You can access from the JR Fushimi station or Keihan Fushimi Inari Station. Visit our YouTube channel [Let\\'s Go Lab JP] so you don\\'t miss any of our adventures! We will be giving you tips for your trip to Japan! What are you waiting for? Join Us!',\n",
       " \"The swathes of orange gates really do have a stunning appearance. It's easy to see why people flock here, you might be waiting a while if you want that perfect picture without someone walking through.It's a nice hike to the top with some beautiful views and definitely worth the trek to escape the crowds in the main areas. \",\n",
       " 'The Golden Temple a.k.a The Golden Pavilion was a beautiful sight to see. Was very easy to get by bus and is a short walk from the bus stop. Given it is quite the popular tourist attraction, there many people visiting during the holidays. I was told the best time to go is during or right after it snows. Just be patient when waiting to get your picture as everyone is trying to get their best angle.',\n",
       " 'I love the Kiyomizudera! My favorite place, but I was very upset because I had read they were working on it so when I got there, I asked if we could still see the main part of it and they assured me yes with a great smile and confidence. I asked twice mind you and both times they excitedly said yes. But the most beautiful part that I love was all covered. Grrrrr so mad!!!! Yes there are other areas that are nice but the reason I go there is for that main gorgeous part if it. I will wait until I know they have removed and all reconstruction is done before I go back and pay to see it.',\n",
       " 'Yes, this temple is as amazing as people say. It was my favorite spot (hands down) in Kyoto. Its worth a trip up there (mountain) because its easy to take many buses (100 or 206) from the Kyoto station and within the temple there is so much to see due to the different shrines within one area. Once you get off the bus you can easily follow people up the hill through the many shops leading to the temple. I found a lot of things here like - sake cup sets, tea cups, small plates, chopsticks, green tea icream and many more. Some things are unique to this place and I recommend buying things around the area because the prices for the product was unbeatable and I never found some of the things sold here any whereelse in Kyoto or other places in Japan. It takes about 15 mins up the hill to get to the temple but you forget your walking up the hill due to all the great shops.I like the simpler things in life and my favorite thing to do there was to buy a cup (200Yen) and drink from the three streams originating from Otowa waterfall. The best water I have ever had in my life and the best 200 yen I spent in my 2 week stay in Japan. You get to keep the cup! Do not drink from all 3 streams as it is believed to show sign of greediness. It is believed to bring wisdom and luck if you try the water. You do wait in line and it is more than worth it.My next favorite thing there was seeing the womb of buddha. And noticed that most people did not go to see it and might not even know about it. You donate 100 yen and have to remove your shoes and put it in a bag that they give you. They do have english directions which I did not read because I was so exited and had no idea what I was getting myself into. You hold on for your dear life to the beaded pathway in the dark leading to the womb where you make a wish. The womb is lit up so that is the only thing you will see. It was great and I was in the front so I was leading everyone behind me. Very peaceful eventhough you hear little girls screaming.They also have love stones in the love shrine area (Jishu Shrine). Tons of teenagers were there helping each other out from one stone to another. You should try it. It seems like a lot of fun. If you can get from one stone to another with your eyes closed it is said you will find your true love soon. If you do it with help then you will find your love with someones assistance in real life. Do not skip Jishu shrine. Not to forget but the architecture is breath taking and there was a great sense of energy in that place. The whole view of Kyoto is a added bonus. Bought charms for good luck and good welfare. Each around 300 yen to 450 yen. They have charms for everything you can think of.Also tried Omikuji (paper fortune) and it is in Japanese but wanted to try it. I ended up getting a symbol which represents bad luck and was told immediately to leave it in a certain area in the temple so I dont take the \"bad luck\" with me back home. That was a little dissapointing.Overall please do not miss this in Kyoto and wear great shoes, take money ready with you and keep a budget there because it is easy to shop quickly and spend it all away and go before it gets too hot during the middle of the day.Have fun!',\n",
       " \"There were several unfortunate. Unfortunate things about this day. the.. the first was no one told us we could walk there from the train station. And we tried to get a taxi for which we waited almost 1/2 hour. And they told us they refused to take us. Then when we finally did get a taxi, he was very upset. Dollars to go. Uh, about 1000 feet. Because we were so embarrassed.. the room was terrible. The lounge was great, and the manager and I came to a compromise as far as the fact that I didn't sleep at all due to A. Terrible bed. The manager really tried to make things right, but he cannot make a bed.\",\n",
       " \"I always go here whenever I visit Japan. It gets really crowded, but there are plenty of must-try food stalls and other restaurants to choose from. So if you're a foodie or if you're on a trip with friends/family with different preferred tastes, Dotonbori should definitely be in your list. If you're looking for souvenirs, there are a lot of tax free shops there too. If you want to go shopping, I recommend going in the morning because there aren't as many people. It's also a more relaxed atmosphere in general if you visit earlier in the day, and you won't have to wait in line for too long. It's a great place to feature on your social media accts too, if you're into that. 👍\",\n",
       " \"I bought the ticket online few days ago for the night entrance. It said it was open at 7 to 10pm. However, when I arrived at 8pm, the staff who didnt speak English well told me that the entrance were closed due to crowd control. I have explained to him and he just didn't want to respond me. And there were 50 guests waiting outside as well. He tried to tell the crowd to get refund on the website. But I couldn't find any information on the English website. I asked him to find his manager or someone who could speak English and assist the guest, he said his boss was off. Meanwhile, I saw some of the people still getting in other entrances.After almost an hour, another guy came out and shouted at us and want to leave with the ridiculous . Thats the rudest guy I have ever met in the tourist spot. I am a businessman who travel more than 30 countries. Thats the most nonsense place I have met. You pay and you wait for hours. But you only receive the rude rejection.\",\n",
       " 'Went in on my own to pass some time whilst waiting for a train.Was only 500 to get in and it was worth every penny.Such a beautiful tranquil place, it’s huge, I spent just over 2 hours walking about taking it all in, and could of stayed at least another 2.Plenty of seats scattered about and also food places. You really could be in the middle of no-where.The added bonus for me was, because of the corona virus scare, it was near empty.Really is worth a visit to just unwind.👍🏼👍🏼👍🏼',\n",
       " \"It was a chilly, overcast day and it had started to lightly rain when we had just walked off the bus - the weather was fitting for our visit.Standing in front of the Dome after seeing it in documentaries, books and photos was surreal. Standing in front of the Dome, you can only imagine the chaos and confusion that had happen after the bomb had exploded on top of the City. This structure is one of the greatest representation and reminder of the devastation that had happen to it in 1945.But you're in a modern and bustling City. With modern trams going pass you. Office buildings around you. And cars with their music quietly playing. And you'll learn of how this City rose out of its ashes.Starting from the Dome, take in the structure. Closely study it. Memorise every inch of it. Read the memorial plaque that is in front of it. Take a photo of the Dome so that you have evidence for yourself that indeed you stood in front of this structure. It wasn't a dream.We spent a few minutes in front of the building just taking it all in. Breaking the silence with conversation about it was weird because of how quiet it was - despite the busy road that was in front of it. Maybe it was the day that we visited but there weren't that many people around. Here and there a foreign tourist will be standing in front of an information sign or taking photos of the area but other than that, it was just quiet.HOW TO GET THERE:Since the building is part of the Hiroshima Peace Memorial Park, there is a Hiroshima Sightseeing Loop Bus which will transport you there.Before exiting the station, look up and read the signs. One will point you to the exit of the station and the other will have the sign for the Loop Bus. Follow the latter's direction. Making your way out of the building you'll come across a Bus Stop Area. Go to Bus Stop #1 and wait for a red bus to arrive.JR Pass holders, you guys ride for free. Just give the gentleman your Pass, he'll take a photo of it for their records and return it back to you.Everyone else, it will cost you 200 yen (pay the bus driver) for one ride OR you can purchase a One Day Ticket for 400 yen (you can purchase this on the bus as well).Once you're on the bus, just sit back and take in the City sights. If you're riding in the newer buses, they'll have screens that will announce the next stop. If you're in the older buses...I believe the bus driver will announce the next stop? Atomic Bomb Dome is stop number Six.There are a few more bus stops littered around the park for your convenience. Located at each bus stop is a timetable but you'll be able to pick one up in the bus.\"]"
      ]
     },
     "execution_count": 31,
     "metadata": {},
     "output_type": "execute_result"
    }
   ],
   "source": [
    "print(len(wait_list))\n",
    "wait_list[:10]"
   ]
  },
  {
   "cell_type": "markdown",
   "id": "31ff7d8a-97c3-4a02-ac35-eb47effd20d7",
   "metadata": {},
   "source": [
    " There are 415 identified reviews that contains 'wait' word, and only 395 of them are actually negation of crowded. \n",
    " > Conclusion: Since negated version is only <5% of the total identified one, `wait` can be used to assign sentiment."
   ]
  },
  {
   "cell_type": "markdown",
   "id": "8a29c075-ad66-48a6-b92e-8577f763e87a",
   "metadata": {},
   "source": [
    "### Create `crowded` binary features"
   ]
  },
  {
   "cell_type": "code",
   "execution_count": 32,
   "id": "c2b4b1d2-71fb-4efb-a2c7-f68c5a5ce6ea",
   "metadata": {},
   "outputs": [],
   "source": [
    "keywords = ['crowd','queue','wait'] # keywords for sentiment analysis"
   ]
  },
  {
   "cell_type": "code",
   "execution_count": 33,
   "id": "9e9b0a1b-8be9-4729-bee5-d356fd1c8dfc",
   "metadata": {},
   "outputs": [],
   "source": [
    "# define function to assign sentiment\n",
    "def map_keywords(review):\n",
    "    for keyword in keywords:\n",
    "        if keyword in review:\n",
    "            return 1\n",
    "    return 0"
   ]
  },
  {
   "cell_type": "code",
   "execution_count": 34,
   "id": "f110ef15-8ae8-4095-9979-d0757ea0208d",
   "metadata": {},
   "outputs": [],
   "source": [
    "reviews['crowded'] = reviews['engineered_review'].apply(map_keywords) # create new column"
   ]
  },
  {
   "cell_type": "code",
   "execution_count": 35,
   "id": "607c9688-a802-464f-a6b3-6f19b3c0ae47",
   "metadata": {
    "scrolled": true
   },
   "outputs": [
    {
     "data": {
      "text/html": [
       "<div>\n",
       "<style scoped>\n",
       "    .dataframe tbody tr th:only-of-type {\n",
       "        vertical-align: middle;\n",
       "    }\n",
       "\n",
       "    .dataframe tbody tr th {\n",
       "        vertical-align: top;\n",
       "    }\n",
       "\n",
       "    .dataframe thead th {\n",
       "        text-align: right;\n",
       "    }\n",
       "</style>\n",
       "<table border=\"1\" class=\"dataframe\">\n",
       "  <thead>\n",
       "    <tr style=\"text-align: right;\">\n",
       "      <th></th>\n",
       "      <th>attraction</th>\n",
       "      <th>city</th>\n",
       "      <th>address</th>\n",
       "      <th>review</th>\n",
       "      <th>date</th>\n",
       "      <th>year</th>\n",
       "      <th>month</th>\n",
       "      <th>engineered_review</th>\n",
       "      <th>crowded</th>\n",
       "    </tr>\n",
       "  </thead>\n",
       "  <tbody>\n",
       "    <tr>\n",
       "      <th>0</th>\n",
       "      <td>Fushimi Inari-taisha Shrine</td>\n",
       "      <td>Kyoto</td>\n",
       "      <td>68 Fukakusa Yabunouchicho, Fushimi-ku, Kyoto 6...</td>\n",
       "      <td>We visited Fushimi Inari as part of a tour (hi...</td>\n",
       "      <td>2020-03-01</td>\n",
       "      <td>2020</td>\n",
       "      <td>3</td>\n",
       "      <td>visited fushimi inari part tour highly recomme...</td>\n",
       "      <td>1</td>\n",
       "    </tr>\n",
       "    <tr>\n",
       "      <th>1</th>\n",
       "      <td>Fushimi Inari-taisha Shrine</td>\n",
       "      <td>Kyoto</td>\n",
       "      <td>68 Fukakusa Yabunouchicho, Fushimi-ku, Kyoto 6...</td>\n",
       "      <td>We loved this shrine, so amazing and a nice ea...</td>\n",
       "      <td>2020-05-01</td>\n",
       "      <td>2020</td>\n",
       "      <td>5</td>\n",
       "      <td>loved shrine amazing nice easy hike went early...</td>\n",
       "      <td>1</td>\n",
       "    </tr>\n",
       "    <tr>\n",
       "      <th>2</th>\n",
       "      <td>Fushimi Inari-taisha Shrine</td>\n",
       "      <td>Kyoto</td>\n",
       "      <td>68 Fukakusa Yabunouchicho, Fushimi-ku, Kyoto 6...</td>\n",
       "      <td>A trip to Kyoto is incomplete without visiting...</td>\n",
       "      <td>2019-12-01</td>\n",
       "      <td>2019</td>\n",
       "      <td>12</td>\n",
       "      <td>trip kyoto incomplete without visiting fushimi...</td>\n",
       "      <td>0</td>\n",
       "    </tr>\n",
       "    <tr>\n",
       "      <th>3</th>\n",
       "      <td>Fushimi Inari-taisha Shrine</td>\n",
       "      <td>Kyoto</td>\n",
       "      <td>68 Fukakusa Yabunouchicho, Fushimi-ku, Kyoto 6...</td>\n",
       "      <td>One of Kyoto’s oldest historic landmarks!!The ...</td>\n",
       "      <td>2021-03-01</td>\n",
       "      <td>2021</td>\n",
       "      <td>3</td>\n",
       "      <td>one kyoto oldest historic landmark important i...</td>\n",
       "      <td>1</td>\n",
       "    </tr>\n",
       "    <tr>\n",
       "      <th>4</th>\n",
       "      <td>Fushimi Inari-taisha Shrine</td>\n",
       "      <td>Kyoto</td>\n",
       "      <td>68 Fukakusa Yabunouchicho, Fushimi-ku, Kyoto 6...</td>\n",
       "      <td>What you see in the pictures is just the very ...</td>\n",
       "      <td>2020-02-01</td>\n",
       "      <td>2020</td>\n",
       "      <td>2</td>\n",
       "      <td>see picture surface place spend hour recommend...</td>\n",
       "      <td>0</td>\n",
       "    </tr>\n",
       "  </tbody>\n",
       "</table>\n",
       "</div>"
      ],
      "text/plain": [
       "                    attraction   city  \\\n",
       "0  Fushimi Inari-taisha Shrine  Kyoto   \n",
       "1  Fushimi Inari-taisha Shrine  Kyoto   \n",
       "2  Fushimi Inari-taisha Shrine  Kyoto   \n",
       "3  Fushimi Inari-taisha Shrine  Kyoto   \n",
       "4  Fushimi Inari-taisha Shrine  Kyoto   \n",
       "\n",
       "                                             address  \\\n",
       "0  68 Fukakusa Yabunouchicho, Fushimi-ku, Kyoto 6...   \n",
       "1  68 Fukakusa Yabunouchicho, Fushimi-ku, Kyoto 6...   \n",
       "2  68 Fukakusa Yabunouchicho, Fushimi-ku, Kyoto 6...   \n",
       "3  68 Fukakusa Yabunouchicho, Fushimi-ku, Kyoto 6...   \n",
       "4  68 Fukakusa Yabunouchicho, Fushimi-ku, Kyoto 6...   \n",
       "\n",
       "                                              review       date  year  month  \\\n",
       "0  We visited Fushimi Inari as part of a tour (hi... 2020-03-01  2020      3   \n",
       "1  We loved this shrine, so amazing and a nice ea... 2020-05-01  2020      5   \n",
       "2  A trip to Kyoto is incomplete without visiting... 2019-12-01  2019     12   \n",
       "3  One of Kyoto’s oldest historic landmarks!!The ... 2021-03-01  2021      3   \n",
       "4  What you see in the pictures is just the very ... 2020-02-01  2020      2   \n",
       "\n",
       "                                   engineered_review  crowded  \n",
       "0  visited fushimi inari part tour highly recomme...        1  \n",
       "1  loved shrine amazing nice easy hike went early...        1  \n",
       "2  trip kyoto incomplete without visiting fushimi...        0  \n",
       "3  one kyoto oldest historic landmark important i...        1  \n",
       "4  see picture surface place spend hour recommend...        0  "
      ]
     },
     "execution_count": 35,
     "metadata": {},
     "output_type": "execute_result"
    }
   ],
   "source": [
    "reviews.head()"
   ]
  },
  {
   "cell_type": "code",
   "execution_count": 36,
   "id": "3874bae6-b773-45ae-9012-e6287fc84770",
   "metadata": {},
   "outputs": [
    {
     "data": {
      "text/plain": [
       "0    11541\n",
       "1     1134\n",
       "Name: crowded, dtype: int64"
      ]
     },
     "execution_count": 36,
     "metadata": {},
     "output_type": "execute_result"
    }
   ],
   "source": [
    "reviews['crowded'].value_counts()"
   ]
  },
  {
   "cell_type": "markdown",
   "id": "280ae186-4936-4757-acc3-fd3b1b713090",
   "metadata": {},
   "source": [
    "> After extraction is done, observe there is data imbalance between crowded and not crowded classes. This could potentially result in inaccurate and unreliable results. Need to consider assigning class weight or resampling by generating synthetic data points technique during train-test split."
   ]
  },
  {
   "cell_type": "code",
   "execution_count": 37,
   "id": "2417e5a0-4106-4447-8e7f-ef74f5794514",
   "metadata": {},
   "outputs": [],
   "source": [
    "# export to data with sentiment score\n",
    "reviews.to_csv('../data/reviews_sentimental.csv', index=False) "
   ]
  },
  {
   "cell_type": "markdown",
   "id": "9aefbafc-1a87-495e-b459-f7caf32b3b57",
   "metadata": {},
   "source": [
    "## Get Coordinate using GoogleMaps Geocoding API"
   ]
  },
  {
   "cell_type": "code",
   "execution_count": 38,
   "id": "1d5c57b7-0218-4bee-b01c-ed48bad9c5e0",
   "metadata": {},
   "outputs": [],
   "source": [
    "# google map API key\n",
    "api_key = '#your_API_key' "
   ]
  },
  {
   "cell_type": "code",
   "execution_count": 39,
   "id": "50f01be1-46fe-4c4f-b952-073871bd180d",
   "metadata": {},
   "outputs": [],
   "source": [
    "# google map base URL\n",
    "base_url = \"https://maps.googleapis.com/maps/api/geocode/json\""
   ]
  },
  {
   "cell_type": "code",
   "execution_count": 40,
   "id": "e7385222-187a-4ffc-b743-9db1cd61b489",
   "metadata": {
    "scrolled": true
   },
   "outputs": [
    {
     "data": {
      "text/plain": [
       "array(['68 Fukakusa Yabunouchicho, Fushimi-ku, Kyoto 612-0882 Kyoto Prefecture',\n",
       "       '1 Kinkakujicho, Kita-ku, Kyoto 603-8361 Kyoto Prefecture',\n",
       "       '1-294 Kiyomizu, Higashiyama-ku, Kyoto 605-0862 Kyoto Prefecture',\n",
       "       '1-2 Nakajima-cho, Naka-ku, Hiroshima 730-0811 Hiroshima Prefecture',\n",
       "       'Chuo-ku, Dotombori, Chuo, Osaka 542-0076 Osaka Prefecture',\n",
       "       '2-3-1, Asakusa, Taito 111-0032 Tokyo Prefecture',\n",
       "       '11 Naito-machi, Shinjuku 160-0014 Tokyo Prefecture',\n",
       "       '1-1 Yoyogi-Kamizono-cho, Shibuya 151-8857 Tokyo Prefecture',\n",
       "       '1-10 Otemachi Naka-ku, Hiroshima 730-0051 Hiroshima Prefecture',\n",
       "       '406-1 Zoushi-cho, Nara 630-8587 Nara Prefecture',\n",
       "       '469 Zoshicho, Nara 630-8501 Nara Prefecture',\n",
       "       '68 Hommachi, Himeji 670-0012 Hyogo Prefecture', 'Visit website',\n",
       "       '1-1 Marunouchi, Kanazawa 920-0937 Ishikawa Prefecture',\n",
       "       'Miyajima-cho, Hatsukaichi 738-8501 Hiroshima Prefecture',\n",
       "       '657 Sanjusangendo Mawaricho, Higashiyama-Ku, Kyoto 605-0941 Kyoto Prefecture',\n",
       "       '424 Ishikawa Okinawa Memorial Park Ocean Expo Park, Motobu-cho, Kunigami-gun 905-0206 Okinawa Prefecture',\n",
       "       '1-2 Nakajimacho, Naka-Ku, Hiroshima 730-0811 Hiroshima Prefecture',\n",
       "       '4-1 Marunouchi, Matsumoto 390-0873 Nagano Prefecture',\n",
       "       '1-1 Miyajimacho, Hatsukaichi 739-0588 Hiroshima Prefecture',\n",
       "       '1121 Ninotaira, Hakone-machi, Ashigarashimo-gun 250-0493 Kanagawa Prefecture',\n",
       "       '2 Ginakuji-cho, Sakyo-ku, Kyoto 606-8402 Kyoto Prefecture',\n",
       "       '1 Ujitachicho, Ise 516-0023 Mie Prefecture',\n",
       "       '6845 Heion, Yamanouchi-machi, Shimotakai-gun 381-0401 Nagano Prefecture',\n",
       "       '2301 Sannai, Nikko 321-1431 Tochigi Prefecture',\n",
       "       '2-8-1 45th floor, TMG No.1 Building, Nishishinjuku, Shinjuku 163-8001 Tokyo Prefecture',\n",
       "       '48 Eikandocho, Sakyo-ku, Kyoto 606-8445 Kyoto Prefecture',\n",
       "       '550 Koyasan, Koya-cho, Ito-gun 648-0211 Wakayama Prefecture',\n",
       "       '195 Taishacho Kizukihigashi, Izumo 699-0701 Shimane Prefecture',\n",
       "       'Call',\n",
       "       '15-778 Hommachi, Higashiyama-Ku, Kyoto 605-0981 Kyoto Prefecture',\n",
       "       '1-20-16 Ritsurincho, Takamatsu 760-0073 Kagawa Prefecture',\n",
       "       '4-1-35 Noritakeshinmachi, Nishi-Ku, Nagoya 451-0051 Aichi Prefecture',\n",
       "       '292 Higashi Daimonjicho, Nakagyo-Ku Utano koji Building 2F, Kyoto 604-8043 Kyoto Prefecture',\n",
       "       '1 Narita, Narita 286-0023 Chiba Prefecture',\n",
       "       'I-491 Motoyoshicho, Nagano 380-0851 Nagano Prefecture',\n",
       "       '3-11-2 Hase, Kamakura 248-0016 Kanagawa Prefecture',\n",
       "       '1-4-1 Yokoami, Sumida 130-0015 Tokyo Prefecture',\n",
       "       'Shimijiyonaha, Miyakojima 906-0305 Okinawa Prefecture',\n",
       "       '116 Uji Renge, Uji 611-0021 Kyoto Prefecture',\n",
       "       '67 Kanda Neribeicho Akiba Fukurou Bldg. 1F, Chiyoda 101-0022 Tokyo Prefecture',\n",
       "       '1 Kujyomachi, Minami-ku, Kyoto 601-8473 Kyoto Prefecture',\n",
       "       '6-5-1 Minamiaoyama, Minato 107-0062 Tokyo Prefecture',\n",
       "       'Okuse, Towada 034-0301 Aomori Prefecture',\n",
       "       'Ashikuraji, Tateyama-machi, Nakaniikawa-gun 930-1406 Toyama Prefecture',\n",
       "       '3-28, 1 Chome, Yokoami, Sumida 130-0015 Tokyo Prefecture',\n",
       "       'Miyajimacho, Hatsukaichi 739-0588 Hiroshima Prefecture',\n",
       "       '1-4-3 Kitanocho, Chuo-Ku, Kobe 650-0002 Hyogo Prefecture',\n",
       "       '1-1 Kitanomarukoen, Chiyoda 102-0091 Tokyo Prefecture',\n",
       "       '65-1 Tosadomariura Fukuike, Narutocho, Naruto 772-0053 Tokushima Prefecture',\n",
       "       '33 Omuro Ouchi, Ukyo-Ku, Kyoto 616-8092 Kyoto Prefecture',\n",
       "       '607 Hasamacho, Ashikaga 329-4216 Tochigi Prefecture',\n",
       "       '7-6 Kurokawacho, Yoichi-cho, Yoichi-gun 046-0003 Hokkaido',\n",
       "       '2146 Chibana, Okinawa City 904-2143 Okinawa Prefecture',\n",
       "       '540 Ohara Raikoin-cho, Sakyo-ku, Kyoto 601-1242 Kyoto Prefecture',\n",
       "       'Hohokucho Kanda, Shimonoseki 759-5331 Yamaguchi Prefecture',\n",
       "       '68 Honmachi, Himeji 670-0012 Hyogo Prefecture',\n",
       "       '1 Nakajima-cho Naka-ku, Hiroshima 730-0811 Hiroshima Prefecture',\n",
       "       '2-2-1, Minatomirai, Nishi, Yokohama 220-0012 Kanagawa Prefecture',\n",
       "       'Miyanoura, Yakushima-cho, Kumage-gun 891-4200 Kagoshima Prefecture',\n",
       "       '584 Yamatooji Yojo-sagaru Komatsucho, Higashiyama-ku, Kyoto 605-0933 Kyoto Prefecture',\n",
       "       'Nomachi 2-26-1, Kanazawa 921-8031 Ishikawa Prefecture',\n",
       "       '51-11 Murokocho Terao, Katsuyama 911-8601 Fukui Prefecture',\n",
       "       '17881 Chirancho Kori, Minamikyushu 897-0302 Kagoshima Prefecture',\n",
       "       '1-1-15 Chuo, Kurashiki 710-8575 Okayama Prefecture',\n",
       "       '3 Ikenocho, Nara 630-8361 Nara Prefecture',\n",
       "       'Nachiyama, Nachikatsura-cho, Higashimuro-gun 649-5301 Wakayama Prefecture',\n",
       "       '69-1 Awataguchi Sanjobocho, Higashiyama-ku, Kyoto 605-0035 Kyoto Prefecture',\n",
       "       'Katsuramisono, Nishikyo-Ku, Kyoto 615-8014 Kyoto Prefecture',\n",
       "       '204 Yamada, Kutchan-cho, Abuta-gun 044-0081 Hokkaido',\n",
       "       'Hirara, Miyakojima 906-0015 Okinawa Prefecture',\n",
       "       '1-82 Koshiencho, Nishinomiya 663-8152 Hyogo Prefecture',\n",
       "       'Kozakicho, Shakotan-cho, Shakotan-gun 046-0321 Hokkaido',\n",
       "       'Togakushi, Nagano 381-4101 Nagano Prefecture',\n",
       "       '5-15 Shihi, Eiheiji-cho, Yoshida-gun 910-1228 Fukui Prefecture',\n",
       "       '2090-8 Yamada, Aso 869-2313 Kumamoto Prefecture',\n",
       "       '2-3-1 Minamikaniya, Minami-ku, Hiroshima 732-0803 Hiroshima Prefecture',\n",
       "       '8-3 Sagaogurayama Tabuchiyamacho, Ukyo-ku, Kyoto 616-8394 Kyoto Prefecture',\n",
       "       '4-1 Kioicho, Chiyoda 102-0094 Tokyo Prefecture',\n",
       "       '406-1 Zoshicho Todaiji Temple, Nara 630-8587 Nara Prefecture',\n",
       "       '3232 Miyaura, Nichinan 887-0101 Miyazaki Prefecture',\n",
       "       'Kankijicho, Shimogyo-ku, Kyoto 600-8835 Kyoto Prefecture',\n",
       "       'Sakyo-Ku, Kyoto 601-1111 Kyoto Prefecture',\n",
       "       'Yukomambetsu, Higashikawa-cho, Kamikawa-gun 071-1472 Hokkaido',\n",
       "       '298-1 Mitsumine, Chichibu 369-1902 Saitama Prefecture',\n",
       "       '1-6 Nakajimacho, Naka-ku, Hiroshima 730-0811 Hiroshima Prefecture',\n",
       "       '279 Toyokawacho, Ise 516-0042 Mie Prefecture',\n",
       "       'Gusukubearagusuku, Miyakojima 906-0102 Okinawa Prefecture',\n",
       "       '1-1 Horyuji Sannai, Ikaruga-cho, Ikoma-gun 636-0115 Nara Prefecture',\n",
       "       'Hateruma, Taketomi-cho, Yaeyama-gun 907-1751 Okinawa Prefecture',\n",
       "       '849 Harunasanmachi, Takasaki 370-3341 Gunma Prefecture',\n",
       "       '3506-2 Shuhocho Akiyoshi, Mine 754-0511 Yamaguchi Prefecture',\n",
       "       '2083-17 Yuyama Hukubecho, Tottori 689-0105 Tottori Prefecture',\n",
       "       '210 Miyajimacho, Hatsukaichi 739-0592 Hiroshima Prefecture',\n",
       "       '2968 Shosha, Himeji 671-2201 Hyogo Prefecture',\n",
       "       '132 Koyasan, Koya-cho, Ito-gun 648-0211 Wakayama Prefecture',\n",
       "       'Kinosakicho Yushima, Toyooka 669-6101 Hyogo Prefecture',\n",
       "       '300 Shigarakicho Tashiro Momotani, Koka 529-1814 Shiga Prefecture',\n",
       "       '339 Kamigamomotoyama Kita-ku, Kyoto 603-8047 Kyoto Prefecture',\n",
       "       '1-3 Shugakuin-Yabusoe, Sakyo-Ku, Kyoto 602-8611 Kyoto Prefecture',\n",
       "       '731-1 Hase, Sakurai 633-0112 Nara Prefecture',\n",
       "       'Hongucho Hongu, Tanabe 647-1731 Wakayama Prefecture',\n",
       "       '7-1-9 Minatojima Minamimachi, Chuo-Ku, Kobe 650-0047 Hyogo Prefecture',\n",
       "       'Sannai, Nikko 321-1431 Tochigi Prefecture',\n",
       "       '3353 Arakura Arakurayama Sengen Park, Fujiyoshida 403-0011 Yamanashi Prefecture',\n",
       "       'Aza Taketomi, Taketomi-cho, Yaeyama-gun 907-1101 Okinawa Prefecture',\n",
       "       'Koyasan, Koya-cho, Ito-gun 648-0211 Wakayama Prefecture',\n",
       "       'Ogimachi, Shirakawa-mura, Ono-gun 501-5627 Gifu Prefecture',\n",
       "       '7-8 Dokken-Daikanyama-Heights1F, Daikanyama, Shibuya 150-0034 Tokyo Prefecture',\n",
       "       '1 Shimoshiroganecho, Hirosaki 036-8356 Aomori Prefecture',\n",
       "       '247 Takino, Minami-Ku, Sapporo 005-0862 Hokkaido',\n",
       "       '3360-1 Arakura, Fujiyoshida 403-0011 Yamanashi Prefecture',\n",
       "       'Anbo, Yakushima-cho, Kumage-gun 891-4311 Kagoshima Prefecture',\n",
       "       'Email',\n",
       "       '607 Teshimakarato, Tonosho-cho, Shozu-gun 761-4662 Kagawa Prefecture',\n",
       "       '2-5 Saga Toriimotofukatanicho, Ukyo-ku, Kyoto 616-8439 Kyoto Prefecture',\n",
       "       '7-1 Kozan-cho, Yamaguchi 753-0081 Yamaguchi Prefecture',\n",
       "       '2859 Minami Usa, Usa 872-0102 Oita Prefecture',\n",
       "       '3-7-1 Sakuracho Koganei Park, Koganei 184-0005 Tokyo Prefecture',\n",
       "       '2255 Kawaguchi, Fujikawaguchiko-machi, Minamitsuru-gun 401-0304 Yamanashi Prefecture',\n",
       "       '1-19-11 Jingumae Harajuku Ash Bldg 1F, Shibuya 150-0001 Tokyo Prefecture',\n",
       "       'Yumoto, Nikko 321-1662 Tochigi Prefecture',\n",
       "       '2-23-1 Furinkaikan B2F, Kabukicho, Shinjuku 160-0021 Tokyo Prefecture',\n",
       "       '2499 Ogimachi, Shirakawa-mura, Ono-gun 501-5627 Gifu Prefecture',\n",
       "       'Haguromachi Toge, Tsuruoka 997-0211 Yamagata Prefecture',\n",
       "       '671-1 Ihara, Itoman 901-0344 Okinawa Prefecture',\n",
       "       '528 Hakurakutencho, Shimogyo-Ku 2f, Kyoto 600-8422 Kyoto Prefecture',\n",
       "       '4200-6 Godaisan, Kochi 781-8125 Kochi Prefecture',\n",
       "       'Kurio, Yakushima-cho, Kumage-gun 891-4409 Kagoshima Prefecture',\n",
       "       \"2-34-8, Nishiogu Meeting Place: YUCa's Japanese Cooking, Arakawa 116-0011 Tokyo Prefecture\",\n",
       "       '8-27 Honcho, Nikko 321-1434 Tochigi Prefecture',\n",
       "       '111 Inabacho, Nakagyo-ku, Kyoto 604-8803 Kyoto Prefecture',\n",
       "       'Aharen, Tokashiki-son, Shimajiri-gun 901-3500 Okinawa Prefecture',\n",
       "       '1 Uchisange, Takahashi 716-0004 Okayama Prefecture',\n",
       "       'Azumi Kamikochi, Matsumoto 390-1516 Nagano Prefecture',\n",
       "       'Shigakogen, Yamanouchi-machi, Shimotakai-gun 381-0401 Nagano Prefecture',\n",
       "       'Kiyoizumi, Kiyosato-cho, Shari-gun 099-4526 Hokkaido',\n",
       "       'Iwato, Takachiho-cho, Nishiusuki-gun 882-1621 Miyazaki Prefecture',\n",
       "       'Ainokura, Nanto 939-1915 Toyama Prefecture', 'Contact',\n",
       "       'Akaho, Komagane 399-4117 Nagano Prefecture',\n",
       "       '1422 Miwa, Sakurai 633-0001 Nara Prefecture',\n",
       "       'Zamami, Zamami-son, Shimajiri-gun 901-3402 Okinawa Prefecture',\n",
       "       '203 Yumoto, Nasu-machi, Nasu-gun 325-0301 Tochigi Prefecture',\n",
       "       'Uehara, Taketomi-cho, Yaeyama-gun 907-1541 Okinawa Prefecture',\n",
       "       '506-10 Omachi, Goshogawara 037-0063 Aomori Prefecture',\n",
       "       '5558 Kamiyoshida, Fujiyoshida 403-0005 Yamanashi Prefecture',\n",
       "       '1-19 Oyamacho, Shibuya 151-0065 Tokyo Prefecture',\n",
       "       'Yoshiumichomyo, Imabari 794-2115 Ehime Prefecture',\n",
       "       '1260-2 Yatsukacho, Hanyu, Matsue 690-1404 Shimane Prefecture',\n",
       "       '10-9 Nishi Nibancho, Towada 034-0082 Aomori Prefecture',\n",
       "       '3353-1 Arakura, Fujiyoshida 403-0011 Yamanashi Prefecture',\n",
       "       '2768 Yonashiromiyagi, Uruma 904-2423 Okinawa Prefecture',\n",
       "       '3 Saga Ogurayamaoguracho, Ukyo-Ku, Kyoto 616-8397 Kyoto Prefecture',\n",
       "       'Kamikura, Shingu 647-0044 Wakayama Prefecture',\n",
       "       '964 Higashikawaracho, Higashiyama-ku, Kyoto 605-0951 Kyoto Prefecture',\n",
       "       '2-24-1 Nomachi, Kanazawa 921-8031 Ishikawa Prefecture',\n",
       "       '202 Hiraizumi Koromonoseki, Hiraizumi-cho, Nishiiwai-gun 029-4102 Iwate Prefecture',\n",
       "       '585-74 Akakura ibis Hotel, Myoko 949-2111 Niigata Prefecture',\n",
       "       'Chinen, Nanjo 901-1400 Okinawa Prefecture',\n",
       "       '11 Bunasaka Ashikuraji, Tateyama-machi, Nakaniikawa-gun 930-1414 Toyama Prefecture',\n",
       "       '679 Funayacho Higashi Nakasuji Matsubara Agaru, Shimogyo-ku, Kyoto 600-8466 Kyoto Prefecture',\n",
       "       '709 Higashishiokojicho, Karasumadori Shichijo-Sagaru, Shimogyo-Ku Jotokuji, Kyoto 600-8119 Kyoto Prefecture',\n",
       "       '199 Tawarayacho Tominokojidori Nijo-Sagaru, Nakagyo-Ku in front of Doshin Jidokan, Kyoto 604-0952 Kyoto Prefecture',\n",
       "       '12-13 Ekimaecho Beppu BIS South Bldg., Beppu 874-0935 Oita Prefecture',\n",
       "       '757-2 Minamiiseyacho, Kamigyo-ku Plantan building B1, Kyoto 602-0841 Kyoto Prefecture',\n",
       "       '5-6 Maruyamacho King Bldg. 7F, Shibuya 150-0044 Tokyo Prefecture',\n",
       "       '3-6 Osakajo, Chuo, Osaka 540-0002 Osaka Prefecture',\n",
       "       '35-7 Sanchome, Higashiyama-Ku GOZAN Hotel B1F, Kyoto 605-0005 Kyoto Prefecture',\n",
       "       '56 Benkeiishicho, Nakagyo-Ku 1928 Bldg. 3F, Kyoto 604-8082 Kyoto Prefecture',\n",
       "       '166-32 Shimogamo Miyazakicho, Sakyo-Ku, Kyoto 606-0802 Kyoto Prefecture',\n",
       "       '2-4-3 Kanda Jinbocho, Chiyoda 101-0051 Tokyo Prefecture',\n",
       "       '537 Ichinofunairicho, Nakagyo-ku 9f.901, Kyoto 604-0924 Kyoto Prefecture',\n",
       "       '4-11-3, Meguro, Meguro 153-0063 Tokyo Prefecture',\n",
       "       '349-12 Masuyacho Kodaijiminamidori Shimogawara-Higashiiru, Higashiyama-Ku, Kyoto 605-0826 Kyoto Prefecture',\n",
       "       'Toyosato, Nozawaonsen-mura, Shimotakai-gun 389-2502 Nagano Prefecture',\n",
       "       '373-26 Horiike-cho, Higashiyama-ku, Kyoto 605-0038 Kyoto Prefecture',\n",
       "       '357-1 Kinosakicho Yushima, Toyooka 669-6101 Hyogo Prefecture',\n",
       "       '3-47 Onari-Cho, Omiya-Ku, Saitama 330-0852 Saitama Prefecture',\n",
       "       '18 Maya Shinanomachi II, Room No. 314, Shinano-machi, Shinjuku 160-0016 Tokyo Prefecture',\n",
       "       '179 Zaimokucho Kiyamachidori Sanjosagaru, Nakagyo-ku FS Kiyamachi Bldg. 3 to 4F, Kyoto 604-8017 Kyoto Prefecture',\n",
       "       '349-7 Masuyacho, Higashiyama-ku, Kyoto 605-0826 Kyoto Prefecture',\n",
       "       '4-16-9 Morishita, Koto 135-0004 Tokyo Prefecture',\n",
       "       '1-4-7 Ebisu Higashi, Naniwa-ku, Osaka 556-0002 Osaka Prefecture',\n",
       "       '7-15-13 Roppongi Daiya Heights 4F, Roppongi, Minato 106-0032 Tokyo Prefecture',\n",
       "       '1-11-4 Hanakawado NW Bldg. 1F, Taito 111-0033 Tokyo Prefecture',\n",
       "       '3-5 Senju Asahicho, Adachi 120-0026 Tokyo Prefecture',\n",
       "       '38-1 JR Shinjuku Station East Entrance, Shinjuku 3 Chome, Shinjuku 160-0022 Tokyo Prefecture',\n",
       "       'Manganji Kurokawa Sakuradori, Minamioguni-machi, Aso-gun 869-2402 Kumamoto Prefecture',\n",
       "       '1-5-9 Dogenzaka The Brick Bldg. 3F-D, Shibuya 150-0043 Tokyo Prefecture',\n",
       "       '30-3 Udagawacho 5F Atlas Shibuya Bldg., Shibuya 150-0042 Tokyo Prefecture',\n",
       "       '1-2-5 Higashishimbashi 1chome Bldg. 6F, Minato 105-0021 Tokyo Prefecture',\n",
       "       '741-1, Hatsukaichi 739-0588 Hiroshima Prefecture',\n",
       "       '1 Chome-4-7 Ebisuhigashi, Naniwa-Ku, Osaka 556-0002 Osaka Prefecture',\n",
       "       '2-16-13 Nishishinsaibashi 1F Hosen Buildg. B1, Chuo, Osaka 542-0082 Osaka Prefecture',\n",
       "       '1-1-1, Shirokanedai, Minato 108-8631 Tokyo Prefecture',\n",
       "       '499-8 Shimogawaracho, Higashiyama-Ku, Kyoto 605-0825 Kyoto Prefecture',\n",
       "       '5-15-1 Nankai Tokyo Bldg. 1F Stockplus, Ginza, Chuo 104-0061 Tokyo Prefecture',\n",
       "       '3-15-18 Oimazato, Higashinari-ku Imazato Station, Chuo, Osaka 537-0012 Osaka Prefecture',\n",
       "       '2-10-32 Nishishinsaibashi 2F Smile Step Bldg, Chuo, Osaka 542-0086 Osaka Prefecture',\n",
       "       '6-26 Soemoncho 3F, Chuo, Osaka 542-0084 Osaka Prefecture',\n",
       "       '3-7-6 Niseko Hirafu 1 jo, Kutchan-cho, Abuta-gun 044-0080 Hokkaido',\n",
       "       '1-17-20, Kitahorie, Nishi-ku Felista Horie 401, Osaka 550-0014 Osaka Prefecture',\n",
       "       '560-2 Shinkyogokudori Shijo Agaru Nakanocho, Nakagyo-ku, Kyoto 604-8042 Kyoto Prefecture',\n",
       "       '35-3 Fukakusa Ichinotsubocho, Fushimi-Ku, Kyoto 612-0012 Kyoto Prefecture',\n",
       "       '1-13-13 Hanakawado, Taito 111-0033 Tokyo Prefecture',\n",
       "       '138-9 Saisekidori, Shijosagaru, Saitocho, Shimogyo-ku, Kyoto 600-8012 Kyoto Prefecture',\n",
       "       '291-1 Karuizawa Higashi, Karuizawa-machi, Kitasaku-gun 389-0104 Nagano Prefecture',\n",
       "       '2-24-13 Kamiosaki #804 Meguro Nishiguchi Mansion 1, Shinagawa 141-0021 Tokyo Prefecture',\n",
       "       '3292 Yamagawafukumoto, Ibusuki 891-0511 Kagoshima Prefecture',\n",
       "       '3-9-5 Zeches Baum Bldg. B1, Roppongi, Minato 106-0032 Tokyo Prefecture',\n",
       "       '1-15-4 Jingumae, Shibuya 150-0001 Tokyo Prefecture',\n",
       "       '2-8-17 Nishishinsaibashi 1f, 3, Chuo, Osaka 542-0086 Osaka Prefecture',\n",
       "       '52 Tokiwagicho, Teramachi-dori Nijo, Nakagyo-ku, Kyoto 604-0915 Kyoto Prefecture',\n",
       "       '1-20-2 Kishi Bldg. 1F, Asakusa, Taito 111-0032 Tokyo Prefecture',\n",
       "       '3-6-7 Kaida Bldg 2F, Yotsuya, Shinjuku 160-0004 Tokyo Prefecture',\n",
       "       '2-17-13 Nishiasakusa 1f, Taito 111-0035 Tokyo Prefecture',\n",
       "       '15-8 Sakuragaokacho Room 207, Shibuya 150-0031 Tokyo Prefecture',\n",
       "       '3-35-10 Yoyogi Ocean Bldg. 3F, Yoyogi, Shibuya 151-0053 Tokyo Prefecture',\n",
       "       '352 Rokkakucho, Nakagyo-ku 7min walk from Shijo Karasuma station, Kyoto 604-8212 Kyoto Prefecture',\n",
       "       '113-4 Takatsujiomiyacho, Shimogyo-ku, Kyoto 600-8387 Kyoto Prefecture',\n",
       "       '153-9 Nagaharacho, Shimogyo-ku 2f, Kyoto 600-8073 Kyoto Prefecture',\n",
       "       '2-1-18 Daimyo Broom Fukuoka 5F-C, Chuo, Fukuoka 810-0041 Fukuoka Prefecture',\n",
       "       '18 Ryoanji Ikenoshitacho, Ukyo-ku, Kyoto 616-8003 Kyoto Prefecture',\n",
       "       '2-9-10 Dogenzaka 3F Matsumoto Bldg, Shibuya 150-0043 Tokyo Prefecture',\n",
       "       '6-34-14 Jingumae Omotesando Bldg. B2 Floor, Shibuya 150-0001 Tokyo Prefecture',\n",
       "       'Kita-Ku, Osaka 540-0035 Osaka Prefecture',\n",
       "       '37 Kinugasanishi Goshonouchicho, Kita-ku, Kyoto 603-8377 Kyoto Prefecture',\n",
       "       '660 Izumicho, Nishinotoin Higashi-Iru ,Ebisugawa-dori, Nakagyo-ku, Kyoto 604-0015 Kyoto Prefecture',\n",
       "       '1-1-8 Tsunashima Nishi, Kohoku-Ku Tsunashima Station, Yokohama 223-0052 Kanagawa Prefecture',\n",
       "       '2-22-7 Kitaueno Estate Kitaueno 101, Koto 110-0014 Tokyo Prefecture',\n",
       "       '495-2 Sakuranocho Shin Kyogokudori Sanjo Sagaru, Nakagyo-ku, Kyoto 604-8035 Kyoto Prefecture',\n",
       "       '1-6-17 Shikitsunishi, Naniwa-ku, Osaka 556-0015 Osaka Prefecture'],\n",
       "      dtype=object)"
      ]
     },
     "execution_count": 40,
     "metadata": {},
     "output_type": "execute_result"
    }
   ],
   "source": [
    "# address of all attractons\n",
    "addresses = reviews['address'].unique()\n",
    "addresses"
   ]
  },
  {
   "cell_type": "code",
   "execution_count": 41,
   "id": "35bc44eb-b65b-4c8a-b1e3-10c54c449873",
   "metadata": {},
   "outputs": [
    {
     "data": {
      "text/plain": [
       "233"
      ]
     },
     "execution_count": 41,
     "metadata": {},
     "output_type": "execute_result"
    }
   ],
   "source": [
    "len(addresses)"
   ]
  },
  {
   "cell_type": "code",
   "execution_count": 42,
   "id": "0d2ddf50-c2fa-4b7f-8a00-3eaedfad5e7e",
   "metadata": {
    "scrolled": true
   },
   "outputs": [
    {
     "name": "stderr",
     "output_type": "stream",
     "text": [
      "  6%|██▎                                      | 13/233 [00:10<02:40,  1.37it/s]"
     ]
    },
    {
     "name": "stdout",
     "output_type": "stream",
     "text": [
      "Geocoding request for Visit website failed.\n"
     ]
    },
    {
     "name": "stderr",
     "output_type": "stream",
     "text": [
      " 13%|█████▎                                   | 30/233 [00:19<01:34,  2.15it/s]"
     ]
    },
    {
     "name": "stdout",
     "output_type": "stream",
     "text": [
      "Geocoding request for Call failed.\n"
     ]
    },
    {
     "name": "stderr",
     "output_type": "stream",
     "text": [
      " 49%|███████████████████▌                    | 114/233 [01:03<00:56,  2.11it/s]"
     ]
    },
    {
     "name": "stdout",
     "output_type": "stream",
     "text": [
      "Geocoding request for Email failed.\n"
     ]
    },
    {
     "name": "stderr",
     "output_type": "stream",
     "text": [
      " 60%|████████████████████████                | 140/233 [01:16<00:43,  2.13it/s]"
     ]
    },
    {
     "name": "stdout",
     "output_type": "stream",
     "text": [
      "Geocoding request for Contact failed.\n"
     ]
    },
    {
     "name": "stderr",
     "output_type": "stream",
     "text": [
      "100%|████████████████████████████████████████| 233/233 [02:04<00:00,  1.87it/s]\n"
     ]
    }
   ],
   "source": [
    "# Create an empty DataFrame to store coordinates\n",
    "coordinates = pd.DataFrame(columns=['address', 'latitude', 'longitude'])\n",
    "\n",
    "for address in tqdm(addresses[:233]):\n",
    "    params = {\n",
    "        \"address\": address,\n",
    "        \"key\": api_key\n",
    "    }\n",
    "\n",
    "    response = requests.get(base_url, params=params)\n",
    "    data = response.json()\n",
    "\n",
    "    if data[\"status\"] == \"OK\":\n",
    "        location = data[\"results\"][0][\"geometry\"][\"location\"]\n",
    "        latitude = location[\"lat\"]\n",
    "        longitude = location[\"lng\"]\n",
    "\n",
    "        # Create a DataFrame for the current address\n",
    "        address_data = pd.DataFrame({'address': [address],\n",
    "                                     'latitude': [latitude],\n",
    "                                     'longitude': [longitude]})\n",
    "\n",
    "        # Concatenate the current address DataFrame with the main coordinates DataFrame\n",
    "        coordinates = pd.concat([coordinates, address_data], ignore_index=True)\n",
    "    else:\n",
    "        print(\"Geocoding request for\", address, \"failed.\")"
   ]
  },
  {
   "cell_type": "code",
   "execution_count": 43,
   "id": "f079e52b-003b-4728-9166-56e257362fb2",
   "metadata": {
    "scrolled": true
   },
   "outputs": [
    {
     "data": {
      "text/html": [
       "<div>\n",
       "<style scoped>\n",
       "    .dataframe tbody tr th:only-of-type {\n",
       "        vertical-align: middle;\n",
       "    }\n",
       "\n",
       "    .dataframe tbody tr th {\n",
       "        vertical-align: top;\n",
       "    }\n",
       "\n",
       "    .dataframe thead th {\n",
       "        text-align: right;\n",
       "    }\n",
       "</style>\n",
       "<table border=\"1\" class=\"dataframe\">\n",
       "  <thead>\n",
       "    <tr style=\"text-align: right;\">\n",
       "      <th></th>\n",
       "      <th>address</th>\n",
       "      <th>latitude</th>\n",
       "      <th>longitude</th>\n",
       "    </tr>\n",
       "  </thead>\n",
       "  <tbody>\n",
       "    <tr>\n",
       "      <th>0</th>\n",
       "      <td>68 Fukakusa Yabunouchicho, Fushimi-ku, Kyoto 6...</td>\n",
       "      <td>34.967190</td>\n",
       "      <td>135.773167</td>\n",
       "    </tr>\n",
       "    <tr>\n",
       "      <th>1</th>\n",
       "      <td>1 Kinkakujicho, Kita-ku, Kyoto 603-8361 Kyoto ...</td>\n",
       "      <td>35.040070</td>\n",
       "      <td>135.729855</td>\n",
       "    </tr>\n",
       "    <tr>\n",
       "      <th>2</th>\n",
       "      <td>1-294 Kiyomizu, Higashiyama-ku, Kyoto 605-0862...</td>\n",
       "      <td>34.994962</td>\n",
       "      <td>135.784334</td>\n",
       "    </tr>\n",
       "    <tr>\n",
       "      <th>3</th>\n",
       "      <td>1-2 Nakajima-cho, Naka-ku, Hiroshima 730-0811 ...</td>\n",
       "      <td>34.391498</td>\n",
       "      <td>132.453553</td>\n",
       "    </tr>\n",
       "    <tr>\n",
       "      <th>4</th>\n",
       "      <td>Chuo-ku, Dotombori, Chuo, Osaka 542-0076 Osaka...</td>\n",
       "      <td>34.665753</td>\n",
       "      <td>135.501036</td>\n",
       "    </tr>\n",
       "    <tr>\n",
       "      <th>...</th>\n",
       "      <td>...</td>\n",
       "      <td>...</td>\n",
       "      <td>...</td>\n",
       "    </tr>\n",
       "    <tr>\n",
       "      <th>224</th>\n",
       "      <td>660 Izumicho, Nishinotoin Higashi-Iru ,Ebisuga...</td>\n",
       "      <td>35.015074</td>\n",
       "      <td>135.755268</td>\n",
       "    </tr>\n",
       "    <tr>\n",
       "      <th>225</th>\n",
       "      <td>1-1-8 Tsunashima Nishi, Kohoku-Ku Tsunashima S...</td>\n",
       "      <td>35.536753</td>\n",
       "      <td>139.634817</td>\n",
       "    </tr>\n",
       "    <tr>\n",
       "      <th>226</th>\n",
       "      <td>2-22-7 Kitaueno Estate Kitaueno 101, Koto 110-...</td>\n",
       "      <td>35.717736</td>\n",
       "      <td>139.783740</td>\n",
       "    </tr>\n",
       "    <tr>\n",
       "      <th>227</th>\n",
       "      <td>495-2 Sakuranocho Shin Kyogokudori Sanjo Sagar...</td>\n",
       "      <td>35.008487</td>\n",
       "      <td>135.767370</td>\n",
       "    </tr>\n",
       "    <tr>\n",
       "      <th>228</th>\n",
       "      <td>1-6-17 Shikitsunishi, Naniwa-ku, Osaka 556-001...</td>\n",
       "      <td>34.659187</td>\n",
       "      <td>135.495863</td>\n",
       "    </tr>\n",
       "  </tbody>\n",
       "</table>\n",
       "<p>229 rows × 3 columns</p>\n",
       "</div>"
      ],
      "text/plain": [
       "                                               address   latitude   longitude\n",
       "0    68 Fukakusa Yabunouchicho, Fushimi-ku, Kyoto 6...  34.967190  135.773167\n",
       "1    1 Kinkakujicho, Kita-ku, Kyoto 603-8361 Kyoto ...  35.040070  135.729855\n",
       "2    1-294 Kiyomizu, Higashiyama-ku, Kyoto 605-0862...  34.994962  135.784334\n",
       "3    1-2 Nakajima-cho, Naka-ku, Hiroshima 730-0811 ...  34.391498  132.453553\n",
       "4    Chuo-ku, Dotombori, Chuo, Osaka 542-0076 Osaka...  34.665753  135.501036\n",
       "..                                                 ...        ...         ...\n",
       "224  660 Izumicho, Nishinotoin Higashi-Iru ,Ebisuga...  35.015074  135.755268\n",
       "225  1-1-8 Tsunashima Nishi, Kohoku-Ku Tsunashima S...  35.536753  139.634817\n",
       "226  2-22-7 Kitaueno Estate Kitaueno 101, Koto 110-...  35.717736  139.783740\n",
       "227  495-2 Sakuranocho Shin Kyogokudori Sanjo Sagar...  35.008487  135.767370\n",
       "228  1-6-17 Shikitsunishi, Naniwa-ku, Osaka 556-001...  34.659187  135.495863\n",
       "\n",
       "[229 rows x 3 columns]"
      ]
     },
     "execution_count": 43,
     "metadata": {},
     "output_type": "execute_result"
    }
   ],
   "source": [
    "coordinates"
   ]
  },
  {
   "cell_type": "markdown",
   "id": "2cbffade-3d0d-470a-9f98-adbe072a190a",
   "metadata": {},
   "source": [
    "> Noticed that some of the addresses were not correctly pulled from Tripadvisor website."
   ]
  },
  {
   "cell_type": "code",
   "execution_count": 44,
   "id": "a982445d-afab-4cc7-ae70-f86d109c6dd2",
   "metadata": {},
   "outputs": [
    {
     "data": {
      "text/plain": [
       "229"
      ]
     },
     "execution_count": 44,
     "metadata": {},
     "output_type": "execute_result"
    }
   ],
   "source": [
    "len(coordinates['address'])"
   ]
  },
  {
   "cell_type": "code",
   "execution_count": 45,
   "id": "0789bde6-c766-4bd2-aeef-48120e97c18a",
   "metadata": {},
   "outputs": [
    {
     "data": {
      "text/plain": [
       "array(['Visit website', 'Call', 'Email', 'Contact'], dtype=object)"
      ]
     },
     "execution_count": 45,
     "metadata": {},
     "output_type": "execute_result"
    }
   ],
   "source": [
    "reviews[reviews['address'].apply(len) < 20]['address'].unique()"
   ]
  },
  {
   "cell_type": "markdown",
   "id": "53a6471c-bd3f-46a8-bf48-afb6e71e891c",
   "metadata": {},
   "source": [
    "> Noticed 4 addresses with systematical error. To remove attractions with these addresses."
   ]
  },
  {
   "cell_type": "code",
   "execution_count": 46,
   "id": "30eb2717-1c3d-4d4f-9026-0ea6a057928d",
   "metadata": {},
   "outputs": [
    {
     "data": {
      "text/plain": [
       "2475"
      ]
     },
     "execution_count": 46,
     "metadata": {},
     "output_type": "execute_result"
    }
   ],
   "source": [
    "len(reviews[reviews['address'].apply(len) < 20])"
   ]
  },
  {
   "cell_type": "markdown",
   "id": "052c5d92-f73b-4fc2-bb09-a28235316110",
   "metadata": {},
   "source": [
    "> 2475 entries will be removed from main df"
   ]
  },
  {
   "cell_type": "code",
   "execution_count": 47,
   "id": "29e28aa9-4b05-47c4-954c-ad354a3af679",
   "metadata": {},
   "outputs": [],
   "source": [
    "reviews = reviews[reviews['address'].apply(len) > 20].reset_index(drop=True)"
   ]
  },
  {
   "cell_type": "code",
   "execution_count": 48,
   "id": "fe30d0f7-0b70-49f9-8913-b1a17397c3d9",
   "metadata": {
    "scrolled": true
   },
   "outputs": [],
   "source": [
    "reviews = pd.merge(left = reviews,\n",
    "                   right = coordinates,\n",
    "                   on = 'address')"
   ]
  },
  {
   "cell_type": "code",
   "execution_count": 49,
   "id": "65d46832-4d3c-4554-b353-34dd49c826d3",
   "metadata": {
    "scrolled": true
   },
   "outputs": [
    {
     "name": "stdout",
     "output_type": "stream",
     "text": [
      "<class 'pandas.core.frame.DataFrame'>\n",
      "Int64Index: 10200 entries, 0 to 10199\n",
      "Data columns (total 11 columns):\n",
      " #   Column             Non-Null Count  Dtype         \n",
      "---  ------             --------------  -----         \n",
      " 0   attraction         10200 non-null  object        \n",
      " 1   city               10200 non-null  object        \n",
      " 2   address            10200 non-null  object        \n",
      " 3   review             10200 non-null  object        \n",
      " 4   date               10200 non-null  datetime64[ns]\n",
      " 5   year               10200 non-null  int64         \n",
      " 6   month              10200 non-null  int64         \n",
      " 7   engineered_review  10200 non-null  object        \n",
      " 8   crowded            10200 non-null  int64         \n",
      " 9   latitude           10200 non-null  float64       \n",
      " 10  longitude          10200 non-null  float64       \n",
      "dtypes: datetime64[ns](1), float64(2), int64(3), object(5)\n",
      "memory usage: 956.2+ KB\n"
     ]
    }
   ],
   "source": [
    "reviews.info()"
   ]
  },
  {
   "cell_type": "markdown",
   "id": "53580282-f70c-4496-987f-972be01acf51",
   "metadata": {},
   "source": [
    "# Exploratory Data Analysis"
   ]
  },
  {
   "cell_type": "markdown",
   "id": "81a6e63d-afee-4bbf-ba11-7e0edfaebb4d",
   "metadata": {},
   "source": [
    "## Review Count by Year"
   ]
  },
  {
   "cell_type": "code",
   "execution_count": 50,
   "id": "53c8e86c-e2c6-4fdf-8145-5a4541a6b44a",
   "metadata": {},
   "outputs": [
    {
     "data": {
      "text/html": [
       "<div>\n",
       "<style scoped>\n",
       "    .dataframe tbody tr th:only-of-type {\n",
       "        vertical-align: middle;\n",
       "    }\n",
       "\n",
       "    .dataframe tbody tr th {\n",
       "        vertical-align: top;\n",
       "    }\n",
       "\n",
       "    .dataframe thead th {\n",
       "        text-align: right;\n",
       "    }\n",
       "</style>\n",
       "<table border=\"1\" class=\"dataframe\">\n",
       "  <thead>\n",
       "    <tr style=\"text-align: right;\">\n",
       "      <th></th>\n",
       "      <th>year</th>\n",
       "      <th>review</th>\n",
       "    </tr>\n",
       "  </thead>\n",
       "  <tbody>\n",
       "    <tr>\n",
       "      <th>0</th>\n",
       "      <td>2010</td>\n",
       "      <td>4</td>\n",
       "    </tr>\n",
       "    <tr>\n",
       "      <th>1</th>\n",
       "      <td>2011</td>\n",
       "      <td>62</td>\n",
       "    </tr>\n",
       "    <tr>\n",
       "      <th>2</th>\n",
       "      <td>2012</td>\n",
       "      <td>142</td>\n",
       "    </tr>\n",
       "    <tr>\n",
       "      <th>3</th>\n",
       "      <td>2013</td>\n",
       "      <td>225</td>\n",
       "    </tr>\n",
       "    <tr>\n",
       "      <th>4</th>\n",
       "      <td>2014</td>\n",
       "      <td>447</td>\n",
       "    </tr>\n",
       "    <tr>\n",
       "      <th>5</th>\n",
       "      <td>2015</td>\n",
       "      <td>755</td>\n",
       "    </tr>\n",
       "    <tr>\n",
       "      <th>6</th>\n",
       "      <td>2016</td>\n",
       "      <td>1055</td>\n",
       "    </tr>\n",
       "    <tr>\n",
       "      <th>7</th>\n",
       "      <td>2017</td>\n",
       "      <td>1191</td>\n",
       "    </tr>\n",
       "    <tr>\n",
       "      <th>8</th>\n",
       "      <td>2018</td>\n",
       "      <td>1595</td>\n",
       "    </tr>\n",
       "    <tr>\n",
       "      <th>9</th>\n",
       "      <td>2019</td>\n",
       "      <td>2212</td>\n",
       "    </tr>\n",
       "    <tr>\n",
       "      <th>10</th>\n",
       "      <td>2020</td>\n",
       "      <td>803</td>\n",
       "    </tr>\n",
       "    <tr>\n",
       "      <th>11</th>\n",
       "      <td>2021</td>\n",
       "      <td>207</td>\n",
       "    </tr>\n",
       "    <tr>\n",
       "      <th>12</th>\n",
       "      <td>2022</td>\n",
       "      <td>396</td>\n",
       "    </tr>\n",
       "    <tr>\n",
       "      <th>13</th>\n",
       "      <td>2023</td>\n",
       "      <td>1106</td>\n",
       "    </tr>\n",
       "  </tbody>\n",
       "</table>\n",
       "</div>"
      ],
      "text/plain": [
       "    year  review\n",
       "0   2010       4\n",
       "1   2011      62\n",
       "2   2012     142\n",
       "3   2013     225\n",
       "4   2014     447\n",
       "5   2015     755\n",
       "6   2016    1055\n",
       "7   2017    1191\n",
       "8   2018    1595\n",
       "9   2019    2212\n",
       "10  2020     803\n",
       "11  2021     207\n",
       "12  2022     396\n",
       "13  2023    1106"
      ]
     },
     "execution_count": 50,
     "metadata": {},
     "output_type": "execute_result"
    }
   ],
   "source": [
    "review_by_year = reviews.groupby('year')['review'].count().reset_index()\n",
    "review_by_year"
   ]
  },
  {
   "cell_type": "code",
   "execution_count": 52,
   "id": "5c2f4db8-6a23-459c-a503-e09286091a09",
   "metadata": {},
   "outputs": [
    {
     "data": {
      "image/png": "[encoded data removed]",
      "text/plain": [
       "<Figure size 800x400 with 1 Axes>"
      ]
     },
     "metadata": {},
     "output_type": "display_data"
    }
   ],
   "source": [
    "# Create a figure\n",
    "plt.figure(figsize=(8, 4))\n",
    "plt.bar(review_by_year['year'],review_by_year['review']);\n",
    "plt.xlabel('Year')\n",
    "plt.ylabel('Number of Review')\n",
    "plt.title('Number of Review on Japan Attractions in TripAdvisor')\n",
    "plt.xticks(ticks = review_by_year['year'] )\n",
    "plt.tight_layout()\n",
    "plt.show()"
   ]
  },
  {
   "cell_type": "markdown",
   "id": "8bb967d3-a8a1-4b25-aa86-5500dc9d9275",
   "metadata": {},
   "source": [
    "> * Because data is scraped directly from Tripadvisor website, it follows pattern where fewer reviews are extracted further into the past (2019 --> 2010)\n",
    "> * However, based on chart above, fewer reviews are seen from 2020 and further down in 2022, which is highly likely due to border restriction where COVID-19 pandemic was at its peak.\n",
    "> * Increasing number of reviews are seen from 2022 onwards when vaccines effectiveness was kicking in and countries are starting to welcome more tourists. "
   ]
  },
  {
   "cell_type": "markdown",
   "id": "eb32ce1b-cc42-4825-b565-ce72ac83df82",
   "metadata": {},
   "source": [
    "## Review Count by Month"
   ]
  },
  {
   "cell_type": "code",
   "execution_count": 53,
   "id": "1f8c2e9b-e21d-42fd-be90-9de9f6de34c0",
   "metadata": {},
   "outputs": [
    {
     "data": {
      "text/html": [
       "<div>\n",
       "<style scoped>\n",
       "    .dataframe tbody tr th:only-of-type {\n",
       "        vertical-align: middle;\n",
       "    }\n",
       "\n",
       "    .dataframe tbody tr th {\n",
       "        vertical-align: top;\n",
       "    }\n",
       "\n",
       "    .dataframe thead th {\n",
       "        text-align: right;\n",
       "    }\n",
       "</style>\n",
       "<table border=\"1\" class=\"dataframe\">\n",
       "  <thead>\n",
       "    <tr style=\"text-align: right;\">\n",
       "      <th></th>\n",
       "      <th>month</th>\n",
       "      <th>review</th>\n",
       "    </tr>\n",
       "  </thead>\n",
       "  <tbody>\n",
       "    <tr>\n",
       "      <th>0</th>\n",
       "      <td>1</td>\n",
       "      <td>859</td>\n",
       "    </tr>\n",
       "    <tr>\n",
       "      <th>1</th>\n",
       "      <td>2</td>\n",
       "      <td>698</td>\n",
       "    </tr>\n",
       "    <tr>\n",
       "      <th>2</th>\n",
       "      <td>3</td>\n",
       "      <td>880</td>\n",
       "    </tr>\n",
       "    <tr>\n",
       "      <th>3</th>\n",
       "      <td>4</td>\n",
       "      <td>1146</td>\n",
       "    </tr>\n",
       "    <tr>\n",
       "      <th>4</th>\n",
       "      <td>5</td>\n",
       "      <td>972</td>\n",
       "    </tr>\n",
       "    <tr>\n",
       "      <th>5</th>\n",
       "      <td>6</td>\n",
       "      <td>730</td>\n",
       "    </tr>\n",
       "    <tr>\n",
       "      <th>6</th>\n",
       "      <td>7</td>\n",
       "      <td>831</td>\n",
       "    </tr>\n",
       "    <tr>\n",
       "      <th>7</th>\n",
       "      <td>8</td>\n",
       "      <td>637</td>\n",
       "    </tr>\n",
       "    <tr>\n",
       "      <th>8</th>\n",
       "      <td>9</td>\n",
       "      <td>727</td>\n",
       "    </tr>\n",
       "    <tr>\n",
       "      <th>9</th>\n",
       "      <td>10</td>\n",
       "      <td>939</td>\n",
       "    </tr>\n",
       "    <tr>\n",
       "      <th>10</th>\n",
       "      <td>11</td>\n",
       "      <td>939</td>\n",
       "    </tr>\n",
       "    <tr>\n",
       "      <th>11</th>\n",
       "      <td>12</td>\n",
       "      <td>842</td>\n",
       "    </tr>\n",
       "  </tbody>\n",
       "</table>\n",
       "</div>"
      ],
      "text/plain": [
       "    month  review\n",
       "0       1     859\n",
       "1       2     698\n",
       "2       3     880\n",
       "3       4    1146\n",
       "4       5     972\n",
       "5       6     730\n",
       "6       7     831\n",
       "7       8     637\n",
       "8       9     727\n",
       "9      10     939\n",
       "10     11     939\n",
       "11     12     842"
      ]
     },
     "execution_count": 53,
     "metadata": {},
     "output_type": "execute_result"
    }
   ],
   "source": [
    "review_by_month = reviews.groupby('month')['review'].count().reset_index()\n",
    "review_by_month"
   ]
  },
  {
   "cell_type": "code",
   "execution_count": 54,
   "id": "bb104d77-a6f0-46ee-b285-21f5e3a5321f",
   "metadata": {},
   "outputs": [
    {
     "data": {
      "image/png": "[encoded data removed]",
      "text/plain": [
       "<Figure size 800x400 with 1 Axes>"
      ]
     },
     "metadata": {},
     "output_type": "display_data"
    }
   ],
   "source": [
    "plt.figure(figsize=(8, 4))\n",
    "plt.bar(review_by_month['month'],review_by_month['review']);\n",
    "plt.xlabel('Month')\n",
    "plt.ylabel('Number of Review')\n",
    "plt.title('Number of Review on Japan Attractions in TripAdvisor')\n",
    "plt.xticks(ticks = review_by_month['month'] )\n",
    "plt.tight_layout()\n",
    "plt.show()"
   ]
  },
  {
   "cell_type": "markdown",
   "id": "9e69850a-a1a6-40c5-b138-ce040f8e3815",
   "metadata": {},
   "source": [
    "> * Based on distribution across different months, we can see that more reviews are coming from March-May and October-January.\n",
    "> * This is when Japan is famous of its cherry blossom season which is happening during spring, and end-beginning of the year is winter season which is also a popular among tourists.\n",
    "> * We would also expect these months to be more crowded as more number of reviews implying more number of tourists."
   ]
  },
  {
   "cell_type": "markdown",
   "id": "9efb1c73-426d-4963-bfe7-55b7f7c0b222",
   "metadata": {},
   "source": [
    "## Crowdedness by Month"
   ]
  },
  {
   "cell_type": "code",
   "execution_count": 55,
   "id": "f6768902-e40f-448a-a0e2-b0ba5b2fe1b5",
   "metadata": {
    "scrolled": true
   },
   "outputs": [
    {
     "data": {
      "text/html": [
       "<div>\n",
       "<style scoped>\n",
       "    .dataframe tbody tr th:only-of-type {\n",
       "        vertical-align: middle;\n",
       "    }\n",
       "\n",
       "    .dataframe tbody tr th {\n",
       "        vertical-align: top;\n",
       "    }\n",
       "\n",
       "    .dataframe thead th {\n",
       "        text-align: right;\n",
       "    }\n",
       "</style>\n",
       "<table border=\"1\" class=\"dataframe\">\n",
       "  <thead>\n",
       "    <tr style=\"text-align: right;\">\n",
       "      <th></th>\n",
       "      <th>month</th>\n",
       "      <th>crowded</th>\n",
       "    </tr>\n",
       "  </thead>\n",
       "  <tbody>\n",
       "    <tr>\n",
       "      <th>0</th>\n",
       "      <td>1</td>\n",
       "      <td>0.122235</td>\n",
       "    </tr>\n",
       "    <tr>\n",
       "      <th>1</th>\n",
       "      <td>2</td>\n",
       "      <td>0.073066</td>\n",
       "    </tr>\n",
       "    <tr>\n",
       "      <th>2</th>\n",
       "      <td>3</td>\n",
       "      <td>0.105682</td>\n",
       "    </tr>\n",
       "    <tr>\n",
       "      <th>3</th>\n",
       "      <td>4</td>\n",
       "      <td>0.104712</td>\n",
       "    </tr>\n",
       "    <tr>\n",
       "      <th>4</th>\n",
       "      <td>5</td>\n",
       "      <td>0.103909</td>\n",
       "    </tr>\n",
       "    <tr>\n",
       "      <th>5</th>\n",
       "      <td>6</td>\n",
       "      <td>0.065753</td>\n",
       "    </tr>\n",
       "    <tr>\n",
       "      <th>6</th>\n",
       "      <td>7</td>\n",
       "      <td>0.078219</td>\n",
       "    </tr>\n",
       "    <tr>\n",
       "      <th>7</th>\n",
       "      <td>8</td>\n",
       "      <td>0.086342</td>\n",
       "    </tr>\n",
       "    <tr>\n",
       "      <th>8</th>\n",
       "      <td>9</td>\n",
       "      <td>0.092160</td>\n",
       "    </tr>\n",
       "    <tr>\n",
       "      <th>9</th>\n",
       "      <td>10</td>\n",
       "      <td>0.105431</td>\n",
       "    </tr>\n",
       "    <tr>\n",
       "      <th>10</th>\n",
       "      <td>11</td>\n",
       "      <td>0.089457</td>\n",
       "    </tr>\n",
       "    <tr>\n",
       "      <th>11</th>\n",
       "      <td>12</td>\n",
       "      <td>0.095012</td>\n",
       "    </tr>\n",
       "  </tbody>\n",
       "</table>\n",
       "</div>"
      ],
      "text/plain": [
       "    month   crowded\n",
       "0       1  0.122235\n",
       "1       2  0.073066\n",
       "2       3  0.105682\n",
       "3       4  0.104712\n",
       "4       5  0.103909\n",
       "5       6  0.065753\n",
       "6       7  0.078219\n",
       "7       8  0.086342\n",
       "8       9  0.092160\n",
       "9      10  0.105431\n",
       "10     11  0.089457\n",
       "11     12  0.095012"
      ]
     },
     "execution_count": 55,
     "metadata": {},
     "output_type": "execute_result"
    }
   ],
   "source": [
    "review_crowd_by_month = reviews.groupby('month')['crowded'].mean().reset_index()\n",
    "review_crowd_by_month"
   ]
  },
  {
   "cell_type": "code",
   "execution_count": 56,
   "id": "219de3a6-89d7-4266-a365-7363d580beb7",
   "metadata": {},
   "outputs": [
    {
     "data": {
      "image/png": "[encoded data removed]",
      "text/plain": [
       "<Figure size 800x400 with 1 Axes>"
      ]
     },
     "metadata": {},
     "output_type": "display_data"
    }
   ],
   "source": [
    "plt.figure(figsize=(8, 4))\n",
    "plt.bar(review_crowd_by_month['month'],review_crowd_by_month['crowded']);\n",
    "plt.xlabel('Month')\n",
    "plt.ylabel('Crowdedness')\n",
    "plt.title('Crowdedness of Japan Attractions across Months')\n",
    "plt.xticks(ticks = review_crowd_by_month['month'] )\n",
    "plt.tight_layout()\n",
    "plt.show()"
   ]
  },
  {
   "cell_type": "markdown",
   "id": "76fd1860-e28d-43dc-8db7-bb4086d3d575",
   "metadata": {},
   "source": [
    "> As expected, we see similarity of crowdedness in annual trend, where spring and winter periods are most crowded."
   ]
  },
  {
   "cell_type": "markdown",
   "id": "bf86743c-bed5-4355-be61-e2e43a98ee52",
   "metadata": {},
   "source": [
    "## Crowdedness in Geomap"
   ]
  },
  {
   "cell_type": "code",
   "execution_count": 57,
   "id": "ba1f5e69-b46d-4f99-b725-0a31df40a57b",
   "metadata": {
    "scrolled": true
   },
   "outputs": [
    {
     "data": {
      "text/html": [
       "<div>\n",
       "<style scoped>\n",
       "    .dataframe tbody tr th:only-of-type {\n",
       "        vertical-align: middle;\n",
       "    }\n",
       "\n",
       "    .dataframe tbody tr th {\n",
       "        vertical-align: top;\n",
       "    }\n",
       "\n",
       "    .dataframe thead th {\n",
       "        text-align: right;\n",
       "    }\n",
       "</style>\n",
       "<table border=\"1\" class=\"dataframe\">\n",
       "  <thead>\n",
       "    <tr style=\"text-align: right;\">\n",
       "      <th></th>\n",
       "      <th>latitude</th>\n",
       "      <th>longitude</th>\n",
       "      <th>crowded</th>\n",
       "    </tr>\n",
       "  </thead>\n",
       "  <tbody>\n",
       "    <tr>\n",
       "      <th>0</th>\n",
       "      <td>24.063168</td>\n",
       "      <td>123.779705</td>\n",
       "      <td>0.058824</td>\n",
       "    </tr>\n",
       "    <tr>\n",
       "      <th>1</th>\n",
       "      <td>24.326876</td>\n",
       "      <td>124.089197</td>\n",
       "      <td>0.087719</td>\n",
       "    </tr>\n",
       "    <tr>\n",
       "      <th>2</th>\n",
       "      <td>24.385058</td>\n",
       "      <td>123.807630</td>\n",
       "      <td>0.000000</td>\n",
       "    </tr>\n",
       "    <tr>\n",
       "      <th>3</th>\n",
       "      <td>24.739091</td>\n",
       "      <td>125.267034</td>\n",
       "      <td>0.250000</td>\n",
       "    </tr>\n",
       "    <tr>\n",
       "      <th>4</th>\n",
       "      <td>24.747343</td>\n",
       "      <td>125.417917</td>\n",
       "      <td>0.000000</td>\n",
       "    </tr>\n",
       "    <tr>\n",
       "      <th>...</th>\n",
       "      <td>...</td>\n",
       "      <td>...</td>\n",
       "      <td>...</td>\n",
       "    </tr>\n",
       "    <tr>\n",
       "      <th>221</th>\n",
       "      <td>42.918790</td>\n",
       "      <td>141.378350</td>\n",
       "      <td>0.183673</td>\n",
       "    </tr>\n",
       "    <tr>\n",
       "      <th>222</th>\n",
       "      <td>43.187396</td>\n",
       "      <td>140.791258</td>\n",
       "      <td>0.052632</td>\n",
       "    </tr>\n",
       "    <tr>\n",
       "      <th>223</th>\n",
       "      <td>43.256817</td>\n",
       "      <td>140.391944</td>\n",
       "      <td>0.102564</td>\n",
       "    </tr>\n",
       "    <tr>\n",
       "      <th>224</th>\n",
       "      <td>43.640709</td>\n",
       "      <td>142.849462</td>\n",
       "      <td>0.210526</td>\n",
       "    </tr>\n",
       "    <tr>\n",
       "      <th>225</th>\n",
       "      <td>43.657232</td>\n",
       "      <td>144.561503</td>\n",
       "      <td>0.000000</td>\n",
       "    </tr>\n",
       "  </tbody>\n",
       "</table>\n",
       "<p>226 rows × 3 columns</p>\n",
       "</div>"
      ],
      "text/plain": [
       "      latitude   longitude   crowded\n",
       "0    24.063168  123.779705  0.058824\n",
       "1    24.326876  124.089197  0.087719\n",
       "2    24.385058  123.807630  0.000000\n",
       "3    24.739091  125.267034  0.250000\n",
       "4    24.747343  125.417917  0.000000\n",
       "..         ...         ...       ...\n",
       "221  42.918790  141.378350  0.183673\n",
       "222  43.187396  140.791258  0.052632\n",
       "223  43.256817  140.391944  0.102564\n",
       "224  43.640709  142.849462  0.210526\n",
       "225  43.657232  144.561503  0.000000\n",
       "\n",
       "[226 rows x 3 columns]"
      ]
     },
     "execution_count": 57,
     "metadata": {},
     "output_type": "execute_result"
    }
   ],
   "source": [
    "# obtain average 'crowdedness' across different locations\n",
    "average_values = reviews.groupby(['latitude', 'longitude'])['crowded'].mean().reset_index()\n",
    "average_values"
   ]
  },
  {
   "cell_type": "code",
   "execution_count": 58,
   "id": "ab639c17-53bd-41d0-9b1b-5153c2acd0ff",
   "metadata": {},
   "outputs": [],
   "source": [
    "# Load Japan's shapefile or GeoJSON\n",
    "japan_boundary = gpd.read_file('../japan_map/japan_.geojson')"
   ]
  },
  {
   "cell_type": "code",
   "execution_count": 59,
   "id": "4aaaf8ec-5213-4f87-aef9-691ca74329b3",
   "metadata": {},
   "outputs": [
    {
     "data": {
      "image/png": "[encoded data removed]",
      "text/plain": [
       "<Figure size 800x600 with 1 Axes>"
      ]
     },
     "metadata": {},
     "output_type": "display_data"
    }
   ],
   "source": [
    "# Create a GeoDataFrame for average values\n",
    "gdf = gpd.GeoDataFrame(average_values, geometry=gpd.points_from_xy(average_values.longitude, average_values.latitude))\n",
    "\n",
    "# Plot the base map of Japan using geopandas\n",
    "fig, ax = plt.subplots(figsize=(8,6))\n",
    "japan_boundary.boundary.plot(ax=ax, color='black', linewidth=0.1)\n",
    "gdf.plot(ax=ax, markersize=gdf['crowded']*200, alpha=0.7,legend=True)\n",
    "\n",
    "plt.xlabel('Longitude')\n",
    "plt.ylabel('Latitude')\n",
    "plt.title('Japan Attraction Based on Crowdedness')\n",
    "plt.show()"
   ]
  },
  {
   "cell_type": "markdown",
   "id": "be2024d7-4bdf-4ea2-bc22-c936d3a26502",
   "metadata": {},
   "source": [
    "> Based on the size of markers (large --> more crowded), we can see that more crowded places are distributed around central Japan, more specifically Tokyo and Kyoto.\n",
    "\n",
    "\n",
    "<img src=\"https://www.worldatlas.com/r/w960-q80/upload/4a/5a/54/jp-01.jpg\"  width=\"30%\" >"
   ]
  }
 ],
 "metadata": {
  "kernelspec": {
   "display_name": "Python 3 (ipykernel)",
   "language": "python",
   "name": "python3"
  },
  "language_info": {
   "codemirror_mode": {
    "name": "ipython",
    "version": 3
   },
   "file_extension": ".py",
   "mimetype": "text/x-python",
   "name": "python",
   "nbconvert_exporter": "python",
   "pygments_lexer": "ipython3",
   "version": "3.8.17"
  }
 },
 "nbformat": 4,
 "nbformat_minor": 5
}
