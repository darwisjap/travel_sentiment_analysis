{
 "cells": [
  {
   "cell_type": "markdown",
   "id": "38d2e004-7f1d-497e-95b4-045464ff7ae3",
   "metadata": {},
   "source": [
    "# Import Library"
   ]
  },
  {
   "cell_type": "code",
   "execution_count": 2,
   "id": "6232603b-33c7-4d36-adf6-e38686b145a8",
   "metadata": {},
   "outputs": [],
   "source": [
    "# dataframe\n",
    "import pandas as pd\n",
    "\n",
    "# data prep\n",
    "from sklearn.model_selection import train_test_split, GridSearchCV\n",
    "\n",
    "# classification model\n",
    "from sklearn.naive_bayes import MultinomialNB\n",
    "from sklearn.ensemble import RandomForestClassifier\n",
    "\n",
    "# iterator\n",
    "from sklearn.metrics import confusion_matrix, ConfusionMatrixDisplay, accuracy_score, recall_score, precision_score, f1_score, classification_report\n",
    "from sklearn.pipeline import Pipeline\n",
    "\n",
    "# Import CountVectorizer and TFIDFVectorizer from feature_extraction.text.\n",
    "from sklearn.feature_extraction.text import CountVectorizer, TfidfVectorizer\n",
    "\n",
    "# viz\n",
    "import matplotlib.pyplot as plt\n",
    "import seaborn as sns"
   ]
  },
  {
   "cell_type": "markdown",
   "id": "48f6aa5d-491c-4412-ba54-117d79d67ce7",
   "metadata": {},
   "source": [
    "# Import Data"
   ]
  },
  {
   "cell_type": "code",
   "execution_count": 3,
   "id": "ca81e134-b85c-4d09-bd82-5fb3b6c9eadb",
   "metadata": {},
   "outputs": [],
   "source": [
    "reviews = pd.read_csv('../data/reviews_sentimental.csv')"
   ]
  },
  {
   "cell_type": "code",
   "execution_count": 4,
   "id": "ada7dd27-b857-4870-9885-6c2023c187b8",
   "metadata": {},
   "outputs": [
    {
     "data": {
      "text/html": [
       "<div>\n",
       "<style scoped>\n",
       "    .dataframe tbody tr th:only-of-type {\n",
       "        vertical-align: middle;\n",
       "    }\n",
       "\n",
       "    .dataframe tbody tr th {\n",
       "        vertical-align: top;\n",
       "    }\n",
       "\n",
       "    .dataframe thead th {\n",
       "        text-align: right;\n",
       "    }\n",
       "</style>\n",
       "<table border=\"1\" class=\"dataframe\">\n",
       "  <thead>\n",
       "    <tr style=\"text-align: right;\">\n",
       "      <th></th>\n",
       "      <th>attraction</th>\n",
       "      <th>city</th>\n",
       "      <th>address</th>\n",
       "      <th>review</th>\n",
       "      <th>date</th>\n",
       "      <th>year</th>\n",
       "      <th>month</th>\n",
       "      <th>engineered_review</th>\n",
       "      <th>crowded</th>\n",
       "    </tr>\n",
       "  </thead>\n",
       "  <tbody>\n",
       "    <tr>\n",
       "      <th>0</th>\n",
       "      <td>Fushimi Inari-taisha Shrine</td>\n",
       "      <td>Kyoto</td>\n",
       "      <td>68 Fukakusa Yabunouchicho, Fushimi-ku, Kyoto 6...</td>\n",
       "      <td>We visited Fushimi Inari as part of a tour (hi...</td>\n",
       "      <td>2020-03-01</td>\n",
       "      <td>2020</td>\n",
       "      <td>3</td>\n",
       "      <td>visited fushimi inari part tour highly recomme...</td>\n",
       "      <td>1</td>\n",
       "    </tr>\n",
       "    <tr>\n",
       "      <th>1</th>\n",
       "      <td>Fushimi Inari-taisha Shrine</td>\n",
       "      <td>Kyoto</td>\n",
       "      <td>68 Fukakusa Yabunouchicho, Fushimi-ku, Kyoto 6...</td>\n",
       "      <td>We loved this shrine, so amazing and a nice ea...</td>\n",
       "      <td>2020-05-01</td>\n",
       "      <td>2020</td>\n",
       "      <td>5</td>\n",
       "      <td>loved shrine amazing nice easy hike went early...</td>\n",
       "      <td>1</td>\n",
       "    </tr>\n",
       "    <tr>\n",
       "      <th>2</th>\n",
       "      <td>Fushimi Inari-taisha Shrine</td>\n",
       "      <td>Kyoto</td>\n",
       "      <td>68 Fukakusa Yabunouchicho, Fushimi-ku, Kyoto 6...</td>\n",
       "      <td>A trip to Kyoto is incomplete without visiting...</td>\n",
       "      <td>2019-12-01</td>\n",
       "      <td>2019</td>\n",
       "      <td>12</td>\n",
       "      <td>trip kyoto incomplete without visiting fushimi...</td>\n",
       "      <td>0</td>\n",
       "    </tr>\n",
       "    <tr>\n",
       "      <th>3</th>\n",
       "      <td>Fushimi Inari-taisha Shrine</td>\n",
       "      <td>Kyoto</td>\n",
       "      <td>68 Fukakusa Yabunouchicho, Fushimi-ku, Kyoto 6...</td>\n",
       "      <td>One of Kyoto’s oldest historic landmarks!!The ...</td>\n",
       "      <td>2021-03-01</td>\n",
       "      <td>2021</td>\n",
       "      <td>3</td>\n",
       "      <td>one kyoto oldest historic landmark important i...</td>\n",
       "      <td>1</td>\n",
       "    </tr>\n",
       "    <tr>\n",
       "      <th>4</th>\n",
       "      <td>Fushimi Inari-taisha Shrine</td>\n",
       "      <td>Kyoto</td>\n",
       "      <td>68 Fukakusa Yabunouchicho, Fushimi-ku, Kyoto 6...</td>\n",
       "      <td>What you see in the pictures is just the very ...</td>\n",
       "      <td>2020-02-01</td>\n",
       "      <td>2020</td>\n",
       "      <td>2</td>\n",
       "      <td>see picture surface place spend hour recommend...</td>\n",
       "      <td>0</td>\n",
       "    </tr>\n",
       "    <tr>\n",
       "      <th>...</th>\n",
       "      <td>...</td>\n",
       "      <td>...</td>\n",
       "      <td>...</td>\n",
       "      <td>...</td>\n",
       "      <td>...</td>\n",
       "      <td>...</td>\n",
       "      <td>...</td>\n",
       "      <td>...</td>\n",
       "      <td>...</td>\n",
       "    </tr>\n",
       "    <tr>\n",
       "      <th>12670</th>\n",
       "      <td>Studio Escape</td>\n",
       "      <td>Osaka</td>\n",
       "      <td>1-6-17 Shikitsunishi, Naniwa-ku, Osaka 556-001...</td>\n",
       "      <td>We stumbled upon this by accident, having take...</td>\n",
       "      <td>2018-04-01</td>\n",
       "      <td>2018</td>\n",
       "      <td>4</td>\n",
       "      <td>stumbled upon accident taken food tour run one...</td>\n",
       "      <td>0</td>\n",
       "    </tr>\n",
       "    <tr>\n",
       "      <th>12671</th>\n",
       "      <td>Studio Escape</td>\n",
       "      <td>Osaka</td>\n",
       "      <td>1-6-17 Shikitsunishi, Naniwa-ku, Osaka 556-001...</td>\n",
       "      <td>This is my 70-something escape room and one of...</td>\n",
       "      <td>2019-10-01</td>\n",
       "      <td>2019</td>\n",
       "      <td>10</td>\n",
       "      <td>70 something escape room one favourite theme a...</td>\n",
       "      <td>0</td>\n",
       "    </tr>\n",
       "    <tr>\n",
       "      <th>12672</th>\n",
       "      <td>Studio Escape</td>\n",
       "      <td>Osaka</td>\n",
       "      <td>1-6-17 Shikitsunishi, Naniwa-ku, Osaka 556-001...</td>\n",
       "      <td>A friend wanted to try this, so he organised f...</td>\n",
       "      <td>2019-08-01</td>\n",
       "      <td>2019</td>\n",
       "      <td>8</td>\n",
       "      <td>friend wanted try organised three u together d...</td>\n",
       "      <td>1</td>\n",
       "    </tr>\n",
       "    <tr>\n",
       "      <th>12673</th>\n",
       "      <td>Studio Escape</td>\n",
       "      <td>Osaka</td>\n",
       "      <td>1-6-17 Shikitsunishi, Naniwa-ku, Osaka 556-001...</td>\n",
       "      <td>Nice escape room. Can highly recommend. The ow...</td>\n",
       "      <td>2019-07-01</td>\n",
       "      <td>2019</td>\n",
       "      <td>7</td>\n",
       "      <td>nice escape room highly recommend owner nice g...</td>\n",
       "      <td>0</td>\n",
       "    </tr>\n",
       "    <tr>\n",
       "      <th>12674</th>\n",
       "      <td>Studio Escape</td>\n",
       "      <td>Osaka</td>\n",
       "      <td>1-6-17 Shikitsunishi, Naniwa-ku, Osaka 556-001...</td>\n",
       "      <td>My husband has done many escape rooms and this...</td>\n",
       "      <td>2019-03-01</td>\n",
       "      <td>2019</td>\n",
       "      <td>3</td>\n",
       "      <td>husband done many escape room definitely creat...</td>\n",
       "      <td>0</td>\n",
       "    </tr>\n",
       "  </tbody>\n",
       "</table>\n",
       "<p>12675 rows × 9 columns</p>\n",
       "</div>"
      ],
      "text/plain": [
       "                        attraction   city  \\\n",
       "0      Fushimi Inari-taisha Shrine  Kyoto   \n",
       "1      Fushimi Inari-taisha Shrine  Kyoto   \n",
       "2      Fushimi Inari-taisha Shrine  Kyoto   \n",
       "3      Fushimi Inari-taisha Shrine  Kyoto   \n",
       "4      Fushimi Inari-taisha Shrine  Kyoto   \n",
       "...                            ...    ...   \n",
       "12670                Studio Escape  Osaka   \n",
       "12671                Studio Escape  Osaka   \n",
       "12672                Studio Escape  Osaka   \n",
       "12673                Studio Escape  Osaka   \n",
       "12674                Studio Escape  Osaka   \n",
       "\n",
       "                                                 address  \\\n",
       "0      68 Fukakusa Yabunouchicho, Fushimi-ku, Kyoto 6...   \n",
       "1      68 Fukakusa Yabunouchicho, Fushimi-ku, Kyoto 6...   \n",
       "2      68 Fukakusa Yabunouchicho, Fushimi-ku, Kyoto 6...   \n",
       "3      68 Fukakusa Yabunouchicho, Fushimi-ku, Kyoto 6...   \n",
       "4      68 Fukakusa Yabunouchicho, Fushimi-ku, Kyoto 6...   \n",
       "...                                                  ...   \n",
       "12670  1-6-17 Shikitsunishi, Naniwa-ku, Osaka 556-001...   \n",
       "12671  1-6-17 Shikitsunishi, Naniwa-ku, Osaka 556-001...   \n",
       "12672  1-6-17 Shikitsunishi, Naniwa-ku, Osaka 556-001...   \n",
       "12673  1-6-17 Shikitsunishi, Naniwa-ku, Osaka 556-001...   \n",
       "12674  1-6-17 Shikitsunishi, Naniwa-ku, Osaka 556-001...   \n",
       "\n",
       "                                                  review        date  year  \\\n",
       "0      We visited Fushimi Inari as part of a tour (hi...  2020-03-01  2020   \n",
       "1      We loved this shrine, so amazing and a nice ea...  2020-05-01  2020   \n",
       "2      A trip to Kyoto is incomplete without visiting...  2019-12-01  2019   \n",
       "3      One of Kyoto’s oldest historic landmarks!!The ...  2021-03-01  2021   \n",
       "4      What you see in the pictures is just the very ...  2020-02-01  2020   \n",
       "...                                                  ...         ...   ...   \n",
       "12670  We stumbled upon this by accident, having take...  2018-04-01  2018   \n",
       "12671  This is my 70-something escape room and one of...  2019-10-01  2019   \n",
       "12672  A friend wanted to try this, so he organised f...  2019-08-01  2019   \n",
       "12673  Nice escape room. Can highly recommend. The ow...  2019-07-01  2019   \n",
       "12674  My husband has done many escape rooms and this...  2019-03-01  2019   \n",
       "\n",
       "       month                                  engineered_review  crowded  \n",
       "0          3  visited fushimi inari part tour highly recomme...        1  \n",
       "1          5  loved shrine amazing nice easy hike went early...        1  \n",
       "2         12  trip kyoto incomplete without visiting fushimi...        0  \n",
       "3          3  one kyoto oldest historic landmark important i...        1  \n",
       "4          2  see picture surface place spend hour recommend...        0  \n",
       "...      ...                                                ...      ...  \n",
       "12670      4  stumbled upon accident taken food tour run one...        0  \n",
       "12671     10  70 something escape room one favourite theme a...        0  \n",
       "12672      8  friend wanted try organised three u together d...        1  \n",
       "12673      7  nice escape room highly recommend owner nice g...        0  \n",
       "12674      3  husband done many escape room definitely creat...        0  \n",
       "\n",
       "[12675 rows x 9 columns]"
      ]
     },
     "execution_count": 4,
     "metadata": {},
     "output_type": "execute_result"
    }
   ],
   "source": [
    "reviews"
   ]
  },
  {
   "cell_type": "code",
   "execution_count": 5,
   "id": "24826da1-f98a-4f34-964e-374e3c079e0a",
   "metadata": {},
   "outputs": [],
   "source": [
    "X = reviews['engineered_review']"
   ]
  },
  {
   "cell_type": "code",
   "execution_count": 6,
   "id": "72a39c08-1152-451e-a770-7ee79036c0d8",
   "metadata": {},
   "outputs": [],
   "source": [
    "y = reviews['crowded']"
   ]
  },
  {
   "cell_type": "code",
   "execution_count": 7,
   "id": "c946b1bb-8b56-4668-bb9f-b2aa7e8d0b83",
   "metadata": {
    "scrolled": true
   },
   "outputs": [
    {
     "data": {
      "text/plain": [
       "0    11541\n",
       "1     1134\n",
       "Name: crowded, dtype: int64"
      ]
     },
     "execution_count": 7,
     "metadata": {},
     "output_type": "execute_result"
    }
   ],
   "source": [
    "y.value_counts()"
   ]
  },
  {
   "cell_type": "code",
   "execution_count": 8,
   "id": "e112e72e-a357-40c4-8a32-317d1dd43b64",
   "metadata": {},
   "outputs": [
    {
     "data": {
      "text/plain": [
       "0    0.910533\n",
       "1    0.089467\n",
       "Name: crowded, dtype: float64"
      ]
     },
     "execution_count": 8,
     "metadata": {},
     "output_type": "execute_result"
    }
   ],
   "source": [
    "y.value_counts(normalize =True)"
   ]
  },
  {
   "cell_type": "markdown",
   "id": "27a39fe6-2728-40bb-8a35-1ab61f882560",
   "metadata": {},
   "source": [
    "> There is data imbalance between different classes. We may want to generate synthetic data points to address this imbalance in subsequent models if our baseline model does not perform well."
   ]
  },
  {
   "cell_type": "markdown",
   "id": "1f80cf88-c050-4681-82e8-07491ba55e12",
   "metadata": {},
   "source": [
    "# Data Transformation"
   ]
  },
  {
   "cell_type": "markdown",
   "id": "387c0249-244a-4014-bd48-9754ef9e0f1e",
   "metadata": {},
   "source": [
    "## Trial"
   ]
  },
  {
   "cell_type": "markdown",
   "id": "b46bbc61-fd7f-4288-8e88-aaeb05400629",
   "metadata": {},
   "source": [
    "In this section, we try adjusting hyperparameter (max_features, min_df, max_df) to ensure that the identified sentimental keywords (crowd, queue, wait) words are captured."
   ]
  },
  {
   "cell_type": "code",
   "execution_count": 9,
   "id": "526562aa-17ab-4004-a07d-d43840f02592",
   "metadata": {},
   "outputs": [],
   "source": [
    "# initiate with these hyperparameters\n",
    "cvec = CountVectorizer(max_features = 2000, min_df = 5, max_df = 0.9, ngram_range = (1,2))"
   ]
  },
  {
   "cell_type": "code",
   "execution_count": 10,
   "id": "2e4339d1-a4e9-48b7-8380-23a102db81f0",
   "metadata": {},
   "outputs": [],
   "source": [
    "X_wait = cvec.fit_transform(X)"
   ]
  },
  {
   "cell_type": "code",
   "execution_count": 11,
   "id": "28c6fd71-9e94-4177-b83e-e76b09e92a52",
   "metadata": {
    "scrolled": true
   },
   "outputs": [
    {
     "data": {
      "text/html": [
       "<div>\n",
       "<style scoped>\n",
       "    .dataframe tbody tr th:only-of-type {\n",
       "        vertical-align: middle;\n",
       "    }\n",
       "\n",
       "    .dataframe tbody tr th {\n",
       "        vertical-align: top;\n",
       "    }\n",
       "\n",
       "    .dataframe thead th {\n",
       "        text-align: right;\n",
       "    }\n",
       "</style>\n",
       "<table border=\"1\" class=\"dataframe\">\n",
       "  <thead>\n",
       "    <tr style=\"text-align: right;\">\n",
       "      <th></th>\n",
       "      <th>00</th>\n",
       "      <th>000</th>\n",
       "      <th>000 yen</th>\n",
       "      <th>10</th>\n",
       "      <th>10 min</th>\n",
       "      <th>10 minute</th>\n",
       "      <th>100</th>\n",
       "      <th>1000</th>\n",
       "      <th>1000 yen</th>\n",
       "      <th>11</th>\n",
       "      <th>...</th>\n",
       "      <th>yen</th>\n",
       "      <th>yen per</th>\n",
       "      <th>yes</th>\n",
       "      <th>yet</th>\n",
       "      <th>young</th>\n",
       "      <th>yuca</th>\n",
       "      <th>yukata</th>\n",
       "      <th>yuki</th>\n",
       "      <th>yurico</th>\n",
       "      <th>zen</th>\n",
       "    </tr>\n",
       "  </thead>\n",
       "  <tbody>\n",
       "    <tr>\n",
       "      <th>0</th>\n",
       "      <td>0</td>\n",
       "      <td>0</td>\n",
       "      <td>0</td>\n",
       "      <td>0</td>\n",
       "      <td>0</td>\n",
       "      <td>0</td>\n",
       "      <td>0</td>\n",
       "      <td>0</td>\n",
       "      <td>0</td>\n",
       "      <td>0</td>\n",
       "      <td>...</td>\n",
       "      <td>0</td>\n",
       "      <td>0</td>\n",
       "      <td>0</td>\n",
       "      <td>0</td>\n",
       "      <td>0</td>\n",
       "      <td>0</td>\n",
       "      <td>0</td>\n",
       "      <td>0</td>\n",
       "      <td>0</td>\n",
       "      <td>0</td>\n",
       "    </tr>\n",
       "    <tr>\n",
       "      <th>1</th>\n",
       "      <td>0</td>\n",
       "      <td>0</td>\n",
       "      <td>0</td>\n",
       "      <td>0</td>\n",
       "      <td>0</td>\n",
       "      <td>0</td>\n",
       "      <td>0</td>\n",
       "      <td>0</td>\n",
       "      <td>0</td>\n",
       "      <td>0</td>\n",
       "      <td>...</td>\n",
       "      <td>0</td>\n",
       "      <td>0</td>\n",
       "      <td>0</td>\n",
       "      <td>0</td>\n",
       "      <td>0</td>\n",
       "      <td>0</td>\n",
       "      <td>0</td>\n",
       "      <td>0</td>\n",
       "      <td>0</td>\n",
       "      <td>0</td>\n",
       "    </tr>\n",
       "    <tr>\n",
       "      <th>2</th>\n",
       "      <td>0</td>\n",
       "      <td>0</td>\n",
       "      <td>0</td>\n",
       "      <td>0</td>\n",
       "      <td>0</td>\n",
       "      <td>0</td>\n",
       "      <td>0</td>\n",
       "      <td>0</td>\n",
       "      <td>0</td>\n",
       "      <td>0</td>\n",
       "      <td>...</td>\n",
       "      <td>0</td>\n",
       "      <td>0</td>\n",
       "      <td>0</td>\n",
       "      <td>0</td>\n",
       "      <td>0</td>\n",
       "      <td>0</td>\n",
       "      <td>0</td>\n",
       "      <td>0</td>\n",
       "      <td>0</td>\n",
       "      <td>0</td>\n",
       "    </tr>\n",
       "    <tr>\n",
       "      <th>3</th>\n",
       "      <td>0</td>\n",
       "      <td>0</td>\n",
       "      <td>0</td>\n",
       "      <td>0</td>\n",
       "      <td>0</td>\n",
       "      <td>0</td>\n",
       "      <td>0</td>\n",
       "      <td>0</td>\n",
       "      <td>0</td>\n",
       "      <td>0</td>\n",
       "      <td>...</td>\n",
       "      <td>0</td>\n",
       "      <td>0</td>\n",
       "      <td>0</td>\n",
       "      <td>0</td>\n",
       "      <td>0</td>\n",
       "      <td>0</td>\n",
       "      <td>0</td>\n",
       "      <td>0</td>\n",
       "      <td>0</td>\n",
       "      <td>0</td>\n",
       "    </tr>\n",
       "    <tr>\n",
       "      <th>4</th>\n",
       "      <td>0</td>\n",
       "      <td>0</td>\n",
       "      <td>0</td>\n",
       "      <td>0</td>\n",
       "      <td>0</td>\n",
       "      <td>0</td>\n",
       "      <td>0</td>\n",
       "      <td>0</td>\n",
       "      <td>0</td>\n",
       "      <td>0</td>\n",
       "      <td>...</td>\n",
       "      <td>0</td>\n",
       "      <td>0</td>\n",
       "      <td>0</td>\n",
       "      <td>0</td>\n",
       "      <td>0</td>\n",
       "      <td>0</td>\n",
       "      <td>0</td>\n",
       "      <td>0</td>\n",
       "      <td>0</td>\n",
       "      <td>0</td>\n",
       "    </tr>\n",
       "    <tr>\n",
       "      <th>...</th>\n",
       "      <td>...</td>\n",
       "      <td>...</td>\n",
       "      <td>...</td>\n",
       "      <td>...</td>\n",
       "      <td>...</td>\n",
       "      <td>...</td>\n",
       "      <td>...</td>\n",
       "      <td>...</td>\n",
       "      <td>...</td>\n",
       "      <td>...</td>\n",
       "      <td>...</td>\n",
       "      <td>...</td>\n",
       "      <td>...</td>\n",
       "      <td>...</td>\n",
       "      <td>...</td>\n",
       "      <td>...</td>\n",
       "      <td>...</td>\n",
       "      <td>...</td>\n",
       "      <td>...</td>\n",
       "      <td>...</td>\n",
       "      <td>...</td>\n",
       "    </tr>\n",
       "    <tr>\n",
       "      <th>12670</th>\n",
       "      <td>0</td>\n",
       "      <td>0</td>\n",
       "      <td>0</td>\n",
       "      <td>0</td>\n",
       "      <td>0</td>\n",
       "      <td>0</td>\n",
       "      <td>0</td>\n",
       "      <td>0</td>\n",
       "      <td>0</td>\n",
       "      <td>0</td>\n",
       "      <td>...</td>\n",
       "      <td>0</td>\n",
       "      <td>0</td>\n",
       "      <td>0</td>\n",
       "      <td>0</td>\n",
       "      <td>0</td>\n",
       "      <td>0</td>\n",
       "      <td>0</td>\n",
       "      <td>0</td>\n",
       "      <td>0</td>\n",
       "      <td>0</td>\n",
       "    </tr>\n",
       "    <tr>\n",
       "      <th>12671</th>\n",
       "      <td>0</td>\n",
       "      <td>0</td>\n",
       "      <td>0</td>\n",
       "      <td>0</td>\n",
       "      <td>0</td>\n",
       "      <td>0</td>\n",
       "      <td>0</td>\n",
       "      <td>0</td>\n",
       "      <td>0</td>\n",
       "      <td>0</td>\n",
       "      <td>...</td>\n",
       "      <td>0</td>\n",
       "      <td>0</td>\n",
       "      <td>0</td>\n",
       "      <td>0</td>\n",
       "      <td>0</td>\n",
       "      <td>0</td>\n",
       "      <td>0</td>\n",
       "      <td>0</td>\n",
       "      <td>0</td>\n",
       "      <td>0</td>\n",
       "    </tr>\n",
       "    <tr>\n",
       "      <th>12672</th>\n",
       "      <td>0</td>\n",
       "      <td>0</td>\n",
       "      <td>0</td>\n",
       "      <td>0</td>\n",
       "      <td>0</td>\n",
       "      <td>0</td>\n",
       "      <td>0</td>\n",
       "      <td>0</td>\n",
       "      <td>0</td>\n",
       "      <td>0</td>\n",
       "      <td>...</td>\n",
       "      <td>0</td>\n",
       "      <td>0</td>\n",
       "      <td>0</td>\n",
       "      <td>0</td>\n",
       "      <td>0</td>\n",
       "      <td>0</td>\n",
       "      <td>0</td>\n",
       "      <td>0</td>\n",
       "      <td>0</td>\n",
       "      <td>0</td>\n",
       "    </tr>\n",
       "    <tr>\n",
       "      <th>12673</th>\n",
       "      <td>0</td>\n",
       "      <td>0</td>\n",
       "      <td>0</td>\n",
       "      <td>0</td>\n",
       "      <td>0</td>\n",
       "      <td>0</td>\n",
       "      <td>0</td>\n",
       "      <td>0</td>\n",
       "      <td>0</td>\n",
       "      <td>0</td>\n",
       "      <td>...</td>\n",
       "      <td>0</td>\n",
       "      <td>0</td>\n",
       "      <td>0</td>\n",
       "      <td>0</td>\n",
       "      <td>0</td>\n",
       "      <td>0</td>\n",
       "      <td>0</td>\n",
       "      <td>0</td>\n",
       "      <td>0</td>\n",
       "      <td>0</td>\n",
       "    </tr>\n",
       "    <tr>\n",
       "      <th>12674</th>\n",
       "      <td>0</td>\n",
       "      <td>0</td>\n",
       "      <td>0</td>\n",
       "      <td>0</td>\n",
       "      <td>0</td>\n",
       "      <td>0</td>\n",
       "      <td>0</td>\n",
       "      <td>0</td>\n",
       "      <td>0</td>\n",
       "      <td>0</td>\n",
       "      <td>...</td>\n",
       "      <td>0</td>\n",
       "      <td>0</td>\n",
       "      <td>0</td>\n",
       "      <td>0</td>\n",
       "      <td>0</td>\n",
       "      <td>0</td>\n",
       "      <td>0</td>\n",
       "      <td>0</td>\n",
       "      <td>0</td>\n",
       "      <td>0</td>\n",
       "    </tr>\n",
       "  </tbody>\n",
       "</table>\n",
       "<p>12675 rows × 2000 columns</p>\n",
       "</div>"
      ],
      "text/plain": [
       "       00  000  000 yen  10  10 min  10 minute  100  1000  1000 yen  11  ...  \\\n",
       "0       0    0        0   0       0          0    0     0         0   0  ...   \n",
       "1       0    0        0   0       0          0    0     0         0   0  ...   \n",
       "2       0    0        0   0       0          0    0     0         0   0  ...   \n",
       "3       0    0        0   0       0          0    0     0         0   0  ...   \n",
       "4       0    0        0   0       0          0    0     0         0   0  ...   \n",
       "...    ..  ...      ...  ..     ...        ...  ...   ...       ...  ..  ...   \n",
       "12670   0    0        0   0       0          0    0     0         0   0  ...   \n",
       "12671   0    0        0   0       0          0    0     0         0   0  ...   \n",
       "12672   0    0        0   0       0          0    0     0         0   0  ...   \n",
       "12673   0    0        0   0       0          0    0     0         0   0  ...   \n",
       "12674   0    0        0   0       0          0    0     0         0   0  ...   \n",
       "\n",
       "       yen  yen per  yes  yet  young  yuca  yukata  yuki  yurico  zen  \n",
       "0        0        0    0    0      0     0       0     0       0    0  \n",
       "1        0        0    0    0      0     0       0     0       0    0  \n",
       "2        0        0    0    0      0     0       0     0       0    0  \n",
       "3        0        0    0    0      0     0       0     0       0    0  \n",
       "4        0        0    0    0      0     0       0     0       0    0  \n",
       "...    ...      ...  ...  ...    ...   ...     ...   ...     ...  ...  \n",
       "12670    0        0    0    0      0     0       0     0       0    0  \n",
       "12671    0        0    0    0      0     0       0     0       0    0  \n",
       "12672    0        0    0    0      0     0       0     0       0    0  \n",
       "12673    0        0    0    0      0     0       0     0       0    0  \n",
       "12674    0        0    0    0      0     0       0     0       0    0  \n",
       "\n",
       "[12675 rows x 2000 columns]"
      ]
     },
     "execution_count": 11,
     "metadata": {},
     "output_type": "execute_result"
    }
   ],
   "source": [
    "X_wait_df = pd.DataFrame(X_wait.todense(), \n",
    "                          columns=cvec.get_feature_names_out())\n",
    "X_wait_df"
   ]
  },
  {
   "cell_type": "code",
   "execution_count": 12,
   "id": "95aace72-6416-485b-9be4-501e7a020661",
   "metadata": {
    "scrolled": true
   },
   "outputs": [
    {
     "data": {
      "text/html": [
       "<div>\n",
       "<style scoped>\n",
       "    .dataframe tbody tr th:only-of-type {\n",
       "        vertical-align: middle;\n",
       "    }\n",
       "\n",
       "    .dataframe tbody tr th {\n",
       "        vertical-align: top;\n",
       "    }\n",
       "\n",
       "    .dataframe thead th {\n",
       "        text-align: right;\n",
       "    }\n",
       "</style>\n",
       "<table border=\"1\" class=\"dataframe\">\n",
       "  <thead>\n",
       "    <tr style=\"text-align: right;\">\n",
       "      <th></th>\n",
       "      <th>word</th>\n",
       "      <th>count</th>\n",
       "    </tr>\n",
       "  </thead>\n",
       "  <tbody>\n",
       "    <tr>\n",
       "      <th>0</th>\n",
       "      <td>00</td>\n",
       "      <td>80</td>\n",
       "    </tr>\n",
       "    <tr>\n",
       "      <th>1</th>\n",
       "      <td>000</td>\n",
       "      <td>152</td>\n",
       "    </tr>\n",
       "    <tr>\n",
       "      <th>2</th>\n",
       "      <td>000 yen</td>\n",
       "      <td>56</td>\n",
       "    </tr>\n",
       "    <tr>\n",
       "      <th>3</th>\n",
       "      <td>10</td>\n",
       "      <td>586</td>\n",
       "    </tr>\n",
       "    <tr>\n",
       "      <th>4</th>\n",
       "      <td>10 min</td>\n",
       "      <td>53</td>\n",
       "    </tr>\n",
       "    <tr>\n",
       "      <th>...</th>\n",
       "      <td>...</td>\n",
       "      <td>...</td>\n",
       "    </tr>\n",
       "    <tr>\n",
       "      <th>1995</th>\n",
       "      <td>yuca</td>\n",
       "      <td>58</td>\n",
       "    </tr>\n",
       "    <tr>\n",
       "      <th>1996</th>\n",
       "      <td>yukata</td>\n",
       "      <td>99</td>\n",
       "    </tr>\n",
       "    <tr>\n",
       "      <th>1997</th>\n",
       "      <td>yuki</td>\n",
       "      <td>61</td>\n",
       "    </tr>\n",
       "    <tr>\n",
       "      <th>1998</th>\n",
       "      <td>yurico</td>\n",
       "      <td>219</td>\n",
       "    </tr>\n",
       "    <tr>\n",
       "      <th>1999</th>\n",
       "      <td>zen</td>\n",
       "      <td>142</td>\n",
       "    </tr>\n",
       "  </tbody>\n",
       "</table>\n",
       "<p>2000 rows × 2 columns</p>\n",
       "</div>"
      ],
      "text/plain": [
       "         word  count\n",
       "0          00     80\n",
       "1         000    152\n",
       "2     000 yen     56\n",
       "3          10    586\n",
       "4      10 min     53\n",
       "...       ...    ...\n",
       "1995     yuca     58\n",
       "1996   yukata     99\n",
       "1997     yuki     61\n",
       "1998   yurico    219\n",
       "1999      zen    142\n",
       "\n",
       "[2000 rows x 2 columns]"
      ]
     },
     "execution_count": 12,
     "metadata": {},
     "output_type": "execute_result"
    }
   ],
   "source": [
    "X_wait_word = pd.DataFrame(X_wait_df.sum().items(), columns=['word', 'count'])\n",
    "X_wait_word"
   ]
  },
  {
   "cell_type": "code",
   "execution_count": 13,
   "id": "0dbe57c3-0dea-4b49-92bc-7c9c102e1435",
   "metadata": {},
   "outputs": [],
   "source": [
    "# sentiment keywords\n",
    "keywords = ['crowd','queue','wait']"
   ]
  },
  {
   "cell_type": "code",
   "execution_count": 14,
   "id": "c0c59f62-a46b-454a-9340-dcfd2720ff1d",
   "metadata": {},
   "outputs": [
    {
     "name": "stdout",
     "output_type": "stream",
     "text": [
      "crowd\n",
      "crowded\n",
      "queue\n",
      "wait\n",
      "waiting\n"
     ]
    }
   ],
   "source": [
    "for word in X_wait_word['word']:\n",
    "    for keyword in keywords:\n",
    "        if keyword in word:\n",
    "            print(word)"
   ]
  },
  {
   "cell_type": "markdown",
   "id": "0b4f4276-9724-440c-8383-bb03e8da6915",
   "metadata": {},
   "source": [
    "> Below hyperparametes can successfully identify the keywords\n",
    "> * max_features = 2000\n",
    "> * min_df = 5\n",
    "> * max_df = 0.9\n",
    "> * ngram_range = (1,2)"
   ]
  },
  {
   "cell_type": "markdown",
   "id": "6243dd0e-b688-4acc-a9d5-fcb495557931",
   "metadata": {},
   "source": [
    "## Train-test split"
   ]
  },
  {
   "cell_type": "code",
   "execution_count": 15,
   "id": "083c4bfc-966d-4c9c-9ed9-6fc794ebea26",
   "metadata": {},
   "outputs": [],
   "source": [
    "X_train, X_test, y_train, y_test = train_test_split(X,\n",
    "                                                    y,\n",
    "                                                    test_size=0.3,\n",
    "                                                    stratify=y,\n",
    "                                                    random_state=99)"
   ]
  },
  {
   "cell_type": "markdown",
   "id": "48f06257-2d3f-44d0-8991-ca65fac84192",
   "metadata": {},
   "source": [
    "# Data Modeling"
   ]
  },
  {
   "cell_type": "markdown",
   "id": "50fe5c93-0288-4b26-9e3f-13310e35b985",
   "metadata": {},
   "source": [
    "## Model #1: MultinomialNB, CountVectorizer"
   ]
  },
  {
   "cell_type": "markdown",
   "id": "0b8c0486-b09a-4af0-9d7e-87c0193c9726",
   "metadata": {},
   "source": [
    "We initiate our baseline model using MultinomialNB. Since we have obtained desired CountVectorizer hyperparameter in above trial, to further optimized it, we use gridsearch and skew the parameters further."
   ]
  },
  {
   "cell_type": "code",
   "execution_count": 15,
   "id": "0b0b51fa-362e-427e-b936-97313cf66da9",
   "metadata": {},
   "outputs": [],
   "source": [
    "pipe = Pipeline([\n",
    "    ('cvec', CountVectorizer()),\n",
    "    ('nb', MultinomialNB())\n",
    "])"
   ]
  },
  {
   "cell_type": "code",
   "execution_count": 16,
   "id": "e47d3807-f160-4250-b90f-95212e8cfa99",
   "metadata": {},
   "outputs": [],
   "source": [
    "pipe_params = {\n",
    "    'cvec__max_features': [1_000, 2_000, 3_000],\n",
    "    'cvec__min_df': [5, 10],\n",
    "    'cvec__max_df': [0.8, 0.9, 0.95],\n",
    "    'cvec__ngram_range': [(1,1), (1,2), (1,3)]\n",
    "}"
   ]
  },
  {
   "cell_type": "code",
   "execution_count": 17,
   "id": "5d5b5225-b1e9-4f8a-bacf-00d2cff6b50d",
   "metadata": {},
   "outputs": [],
   "source": [
    "gs = GridSearchCV(pipe,\n",
    "                  param_grid=pipe_params,\n",
    "                  cv=3,\n",
    "                  n_jobs = -1)"
   ]
  },
  {
   "cell_type": "code",
   "execution_count": 18,
   "id": "0cfaaaff-68e8-484f-97b1-01e5ef34d312",
   "metadata": {},
   "outputs": [
    {
     "data": {
      "text/html": [
       "<style>#sk-container-id-1 {color: black;background-color: white;}#sk-container-id-1 pre{padding: 0;}#sk-container-id-1 div.sk-toggleable {background-color: white;}#sk-container-id-1 label.sk-toggleable__label {cursor: pointer;display: block;width: 100%;margin-bottom: 0;padding: 0.3em;box-sizing: border-box;text-align: center;}#sk-container-id-1 label.sk-toggleable__label-arrow:before {content: \"▸\";float: left;margin-right: 0.25em;color: #696969;}#sk-container-id-1 label.sk-toggleable__label-arrow:hover:before {color: black;}#sk-container-id-1 div.sk-estimator:hover label.sk-toggleable__label-arrow:before {color: black;}#sk-container-id-1 div.sk-toggleable__content {max-height: 0;max-width: 0;overflow: hidden;text-align: left;background-color: #f0f8ff;}#sk-container-id-1 div.sk-toggleable__content pre {margin: 0.2em;color: black;border-radius: 0.25em;background-color: #f0f8ff;}#sk-container-id-1 input.sk-toggleable__control:checked~div.sk-toggleable__content {max-height: 200px;max-width: 100%;overflow: auto;}#sk-container-id-1 input.sk-toggleable__control:checked~label.sk-toggleable__label-arrow:before {content: \"▾\";}#sk-container-id-1 div.sk-estimator input.sk-toggleable__control:checked~label.sk-toggleable__label {background-color: #d4ebff;}#sk-container-id-1 div.sk-label input.sk-toggleable__control:checked~label.sk-toggleable__label {background-color: #d4ebff;}#sk-container-id-1 input.sk-hidden--visually {border: 0;clip: rect(1px 1px 1px 1px);clip: rect(1px, 1px, 1px, 1px);height: 1px;margin: -1px;overflow: hidden;padding: 0;position: absolute;width: 1px;}#sk-container-id-1 div.sk-estimator {font-family: monospace;background-color: #f0f8ff;border: 1px dotted black;border-radius: 0.25em;box-sizing: border-box;margin-bottom: 0.5em;}#sk-container-id-1 div.sk-estimator:hover {background-color: #d4ebff;}#sk-container-id-1 div.sk-parallel-item::after {content: \"\";width: 100%;border-bottom: 1px solid gray;flex-grow: 1;}#sk-container-id-1 div.sk-label:hover label.sk-toggleable__label {background-color: #d4ebff;}#sk-container-id-1 div.sk-serial::before {content: \"\";position: absolute;border-left: 1px solid gray;box-sizing: border-box;top: 0;bottom: 0;left: 50%;z-index: 0;}#sk-container-id-1 div.sk-serial {display: flex;flex-direction: column;align-items: center;background-color: white;padding-right: 0.2em;padding-left: 0.2em;position: relative;}#sk-container-id-1 div.sk-item {position: relative;z-index: 1;}#sk-container-id-1 div.sk-parallel {display: flex;align-items: stretch;justify-content: center;background-color: white;position: relative;}#sk-container-id-1 div.sk-item::before, #sk-container-id-1 div.sk-parallel-item::before {content: \"\";position: absolute;border-left: 1px solid gray;box-sizing: border-box;top: 0;bottom: 0;left: 50%;z-index: -1;}#sk-container-id-1 div.sk-parallel-item {display: flex;flex-direction: column;z-index: 1;position: relative;background-color: white;}#sk-container-id-1 div.sk-parallel-item:first-child::after {align-self: flex-end;width: 50%;}#sk-container-id-1 div.sk-parallel-item:last-child::after {align-self: flex-start;width: 50%;}#sk-container-id-1 div.sk-parallel-item:only-child::after {width: 0;}#sk-container-id-1 div.sk-dashed-wrapped {border: 1px dashed gray;margin: 0 0.4em 0.5em 0.4em;box-sizing: border-box;padding-bottom: 0.4em;background-color: white;}#sk-container-id-1 div.sk-label label {font-family: monospace;font-weight: bold;display: inline-block;line-height: 1.2em;}#sk-container-id-1 div.sk-label-container {text-align: center;}#sk-container-id-1 div.sk-container {/* jupyter's `normalize.less` sets `[hidden] { display: none; }` but bootstrap.min.css set `[hidden] { display: none !important; }` so we also need the `!important` here to be able to override the default hidden behavior on the sphinx rendered scikit-learn.org. See: https://github.com/scikit-learn/scikit-learn/issues/21755 */display: inline-block !important;position: relative;}#sk-container-id-1 div.sk-text-repr-fallback {display: none;}</style><div id=\"sk-container-id-1\" class=\"sk-top-container\"><div class=\"sk-text-repr-fallback\"><pre>GridSearchCV(cv=3,\n",
       "             estimator=Pipeline(steps=[(&#x27;cvec&#x27;, CountVectorizer()),\n",
       "                                       (&#x27;nb&#x27;, MultinomialNB())]),\n",
       "             n_jobs=-1,\n",
       "             param_grid={&#x27;cvec__max_df&#x27;: [0.8, 0.9, 0.95],\n",
       "                         &#x27;cvec__max_features&#x27;: [1000, 2000, 3000],\n",
       "                         &#x27;cvec__min_df&#x27;: [5, 10],\n",
       "                         &#x27;cvec__ngram_range&#x27;: [(1, 1), (1, 2), (1, 3)]})</pre><b>In a Jupyter environment, please rerun this cell to show the HTML representation or trust the notebook. <br />On GitHub, the HTML representation is unable to render, please try loading this page with nbviewer.org.</b></div><div class=\"sk-container\" hidden><div class=\"sk-item sk-dashed-wrapped\"><div class=\"sk-label-container\"><div class=\"sk-label sk-toggleable\"><input class=\"sk-toggleable__control sk-hidden--visually\" id=\"sk-estimator-id-1\" type=\"checkbox\" ><label for=\"sk-estimator-id-1\" class=\"sk-toggleable__label sk-toggleable__label-arrow\">GridSearchCV</label><div class=\"sk-toggleable__content\"><pre>GridSearchCV(cv=3,\n",
       "             estimator=Pipeline(steps=[(&#x27;cvec&#x27;, CountVectorizer()),\n",
       "                                       (&#x27;nb&#x27;, MultinomialNB())]),\n",
       "             n_jobs=-1,\n",
       "             param_grid={&#x27;cvec__max_df&#x27;: [0.8, 0.9, 0.95],\n",
       "                         &#x27;cvec__max_features&#x27;: [1000, 2000, 3000],\n",
       "                         &#x27;cvec__min_df&#x27;: [5, 10],\n",
       "                         &#x27;cvec__ngram_range&#x27;: [(1, 1), (1, 2), (1, 3)]})</pre></div></div></div><div class=\"sk-parallel\"><div class=\"sk-parallel-item\"><div class=\"sk-item\"><div class=\"sk-label-container\"><div class=\"sk-label sk-toggleable\"><input class=\"sk-toggleable__control sk-hidden--visually\" id=\"sk-estimator-id-2\" type=\"checkbox\" ><label for=\"sk-estimator-id-2\" class=\"sk-toggleable__label sk-toggleable__label-arrow\">estimator: Pipeline</label><div class=\"sk-toggleable__content\"><pre>Pipeline(steps=[(&#x27;cvec&#x27;, CountVectorizer()), (&#x27;nb&#x27;, MultinomialNB())])</pre></div></div></div><div class=\"sk-serial\"><div class=\"sk-item\"><div class=\"sk-serial\"><div class=\"sk-item\"><div class=\"sk-estimator sk-toggleable\"><input class=\"sk-toggleable__control sk-hidden--visually\" id=\"sk-estimator-id-3\" type=\"checkbox\" ><label for=\"sk-estimator-id-3\" class=\"sk-toggleable__label sk-toggleable__label-arrow\">CountVectorizer</label><div class=\"sk-toggleable__content\"><pre>CountVectorizer()</pre></div></div></div><div class=\"sk-item\"><div class=\"sk-estimator sk-toggleable\"><input class=\"sk-toggleable__control sk-hidden--visually\" id=\"sk-estimator-id-4\" type=\"checkbox\" ><label for=\"sk-estimator-id-4\" class=\"sk-toggleable__label sk-toggleable__label-arrow\">MultinomialNB</label><div class=\"sk-toggleable__content\"><pre>MultinomialNB()</pre></div></div></div></div></div></div></div></div></div></div></div></div>"
      ],
      "text/plain": [
       "GridSearchCV(cv=3,\n",
       "             estimator=Pipeline(steps=[('cvec', CountVectorizer()),\n",
       "                                       ('nb', MultinomialNB())]),\n",
       "             n_jobs=-1,\n",
       "             param_grid={'cvec__max_df': [0.8, 0.9, 0.95],\n",
       "                         'cvec__max_features': [1000, 2000, 3000],\n",
       "                         'cvec__min_df': [5, 10],\n",
       "                         'cvec__ngram_range': [(1, 1), (1, 2), (1, 3)]})"
      ]
     },
     "execution_count": 18,
     "metadata": {},
     "output_type": "execute_result"
    }
   ],
   "source": [
    "gs.fit(X_train, y_train)"
   ]
  },
  {
   "cell_type": "code",
   "execution_count": 19,
   "id": "65d7d3a4-62a6-4716-9bfb-ee5965b16760",
   "metadata": {},
   "outputs": [
    {
     "data": {
      "text/plain": [
       "0.8781555613938772"
      ]
     },
     "execution_count": 19,
     "metadata": {},
     "output_type": "execute_result"
    }
   ],
   "source": [
    "gs.best_score_"
   ]
  },
  {
   "cell_type": "code",
   "execution_count": 20,
   "id": "184a3026-9cbc-4e60-91f5-db6861400961",
   "metadata": {},
   "outputs": [
    {
     "data": {
      "text/plain": [
       "{'cvec__max_df': 0.8,\n",
       " 'cvec__max_features': 1000,\n",
       " 'cvec__min_df': 5,\n",
       " 'cvec__ngram_range': (1, 1)}"
      ]
     },
     "execution_count": 20,
     "metadata": {},
     "output_type": "execute_result"
    }
   ],
   "source": [
    "gs.best_params_"
   ]
  },
  {
   "cell_type": "markdown",
   "id": "b9263952-9b96-4ca0-be25-54ae3f00f4d2",
   "metadata": {},
   "source": [
    "> seems that tightening the features criteria min_df (0.9 --> 0.8), max_features (2000--> 1000), ngram_range (1,2 --> 1.1) yield better result"
   ]
  },
  {
   "cell_type": "code",
   "execution_count": 21,
   "id": "114763c2-73a3-48e0-a65b-c1d69daf3e2a",
   "metadata": {},
   "outputs": [
    {
     "data": {
      "text/plain": [
       "0.8806357078449053"
      ]
     },
     "execution_count": 21,
     "metadata": {},
     "output_type": "execute_result"
    }
   ],
   "source": [
    "gs.score(X_train, y_train)"
   ]
  },
  {
   "cell_type": "code",
   "execution_count": 22,
   "id": "14165dd4-4ec2-420c-888b-22567e25677b",
   "metadata": {},
   "outputs": [
    {
     "data": {
      "text/plain": [
       "0.8643176439652905"
      ]
     },
     "execution_count": 22,
     "metadata": {},
     "output_type": "execute_result"
    }
   ],
   "source": [
    "gs.score(X_test, y_test)"
   ]
  },
  {
   "cell_type": "markdown",
   "id": "4b267101-2c8a-4a49-bf47-e38eb265251f",
   "metadata": {},
   "source": [
    "> train and test are well fitted"
   ]
  },
  {
   "cell_type": "code",
   "execution_count": 23,
   "id": "ed415229-7294-44ad-a81e-8805c3bedb54",
   "metadata": {},
   "outputs": [
    {
     "data": {
      "text/plain": [
       "array([0, 0, 0, ..., 0, 0, 0], dtype=int64)"
      ]
     },
     "execution_count": 23,
     "metadata": {},
     "output_type": "execute_result"
    }
   ],
   "source": [
    "# Get predictions\n",
    "preds = gs.predict(X_test)\n",
    "preds"
   ]
  },
  {
   "cell_type": "code",
   "execution_count": 24,
   "id": "fd63eb65-776a-4e88-9f7b-924744add405",
   "metadata": {},
   "outputs": [
    {
     "name": "stdout",
     "output_type": "stream",
     "text": [
      "[[3029  434]\n",
      " [  82  258]]\n"
     ]
    }
   ],
   "source": [
    "conf_matrix = confusion_matrix(y_test, preds)\n",
    "print(conf_matrix)"
   ]
  },
  {
   "cell_type": "code",
   "execution_count": 25,
   "id": "209f3eba-9c74-42bb-a402-9fa85cd1ff4e",
   "metadata": {},
   "outputs": [],
   "source": [
    "# Save confusion matrix values\n",
    "tn, fp, fn, tp = confusion_matrix(y_test, preds).ravel()"
   ]
  },
  {
   "cell_type": "code",
   "execution_count": 26,
   "id": "20a7e6db-3291-4f26-8da1-b23e05be0e15",
   "metadata": {},
   "outputs": [
    {
     "data": {
      "text/plain": [
       "<sklearn.metrics._plot.confusion_matrix.ConfusionMatrixDisplay at 0x19be892d880>"
      ]
     },
     "execution_count": 26,
     "metadata": {},
     "output_type": "execute_result"
    },
    {
     "data": {
      "image/png": "[encoded data removed]",
      "text/plain": [
       "<Figure size 640x480 with 2 Axes>"
      ]
     },
     "metadata": {},
     "output_type": "display_data"
    }
   ],
   "source": [
    "# View confusion matrix\n",
    "cm = confusion_matrix(y_test, preds)\n",
    "disp =ConfusionMatrixDisplay(confusion_matrix=cm, \n",
    "                             display_labels=gs.best_estimator_.classes_)\n",
    "disp.plot()"
   ]
  },
  {
   "cell_type": "code",
   "execution_count": 27,
   "id": "dc1a090c-a855-43e4-a90f-fb0337f9156b",
   "metadata": {},
   "outputs": [
    {
     "name": "stdout",
     "output_type": "stream",
     "text": [
      "              precision    recall  f1-score   support\n",
      "\n",
      "           0       0.97      0.87      0.92      3463\n",
      "           1       0.37      0.76      0.50       340\n",
      "\n",
      "    accuracy                           0.86      3803\n",
      "   macro avg       0.67      0.82      0.71      3803\n",
      "weighted avg       0.92      0.86      0.88      3803\n",
      "\n"
     ]
    }
   ],
   "source": [
    "print(classification_report(y_test, preds))"
   ]
  },
  {
   "cell_type": "markdown",
   "id": "29ce6aff-d341-4afb-b8cd-e7018bf83ea2",
   "metadata": {},
   "source": [
    "> Despite relatively good recall score (0.76), precision is very low (0.37). This implies that our model is not good enough to predict the sentiment."
   ]
  },
  {
   "cell_type": "markdown",
   "id": "81f984bd-9929-4e9a-8aa5-40b06edd962b",
   "metadata": {},
   "source": [
    "model | transformer | estimator | precision | recall | f1\n",
    "---|---|---|---|---|---\n",
    "model #1 (baseline) | cvec (max_fea = 1000, df_min= 5, df_max = 0.8, ngram = 1,1) | multiNB | 0.37 | 0.76 | 0.5\n"
   ]
  },
  {
   "cell_type": "markdown",
   "id": "8d6c0eed-2723-45bd-8c5a-aade5b1882c1",
   "metadata": {},
   "source": [
    "## Model #2: MultinomialNB, TF-IDF Vectorizer"
   ]
  },
  {
   "cell_type": "markdown",
   "id": "55f2087f-007a-476d-b541-d9a70983f5cc",
   "metadata": {},
   "source": [
    "In model 2, we will replace CountVectorizer with TF-IDF Vectorizer. While CountVectorizer captures the frequency of words used in positive or negative sentiment contexts, TF-IDF Vectorizer captures the significance of sentiment-specific words that might not occur as frequently but carry strong sentiment signals."
   ]
  },
  {
   "cell_type": "code",
   "execution_count": 28,
   "id": "cfa97174-98d0-4764-abd0-6df9c24916d6",
   "metadata": {},
   "outputs": [],
   "source": [
    "pipe = Pipeline([\n",
    "    ('tvec', TfidfVectorizer()),\n",
    "    ('nb', MultinomialNB())\n",
    "])"
   ]
  },
  {
   "cell_type": "code",
   "execution_count": 29,
   "id": "6d55d0b2-77f4-46e4-8992-4bb6b4150ea5",
   "metadata": {},
   "outputs": [],
   "source": [
    "# passing same hyperparameters as cvec to compare head-to-head\n",
    "pipe_params = {\n",
    "    'tvec__max_features': [1_000, 2_000, 3_000],\n",
    "    'tvec__min_df': [5, 10],\n",
    "    'tvec__max_df': [0.8, 0.9, 0.95],\n",
    "    'tvec__ngram_range': [(1,1), (1,2), (1,3)]\n",
    "}"
   ]
  },
  {
   "cell_type": "code",
   "execution_count": 30,
   "id": "ebe6809f-b822-42de-9246-680580792622",
   "metadata": {},
   "outputs": [],
   "source": [
    "gs = GridSearchCV(pipe,\n",
    "                  param_grid=pipe_params,\n",
    "                  cv=3,\n",
    "                  n_jobs = -1)"
   ]
  },
  {
   "cell_type": "code",
   "execution_count": 31,
   "id": "6de5b76b-7219-4829-8c31-175738f87705",
   "metadata": {},
   "outputs": [
    {
     "data": {
      "text/html": [
       "<style>#sk-container-id-2 {color: black;background-color: white;}#sk-container-id-2 pre{padding: 0;}#sk-container-id-2 div.sk-toggleable {background-color: white;}#sk-container-id-2 label.sk-toggleable__label {cursor: pointer;display: block;width: 100%;margin-bottom: 0;padding: 0.3em;box-sizing: border-box;text-align: center;}#sk-container-id-2 label.sk-toggleable__label-arrow:before {content: \"▸\";float: left;margin-right: 0.25em;color: #696969;}#sk-container-id-2 label.sk-toggleable__label-arrow:hover:before {color: black;}#sk-container-id-2 div.sk-estimator:hover label.sk-toggleable__label-arrow:before {color: black;}#sk-container-id-2 div.sk-toggleable__content {max-height: 0;max-width: 0;overflow: hidden;text-align: left;background-color: #f0f8ff;}#sk-container-id-2 div.sk-toggleable__content pre {margin: 0.2em;color: black;border-radius: 0.25em;background-color: #f0f8ff;}#sk-container-id-2 input.sk-toggleable__control:checked~div.sk-toggleable__content {max-height: 200px;max-width: 100%;overflow: auto;}#sk-container-id-2 input.sk-toggleable__control:checked~label.sk-toggleable__label-arrow:before {content: \"▾\";}#sk-container-id-2 div.sk-estimator input.sk-toggleable__control:checked~label.sk-toggleable__label {background-color: #d4ebff;}#sk-container-id-2 div.sk-label input.sk-toggleable__control:checked~label.sk-toggleable__label {background-color: #d4ebff;}#sk-container-id-2 input.sk-hidden--visually {border: 0;clip: rect(1px 1px 1px 1px);clip: rect(1px, 1px, 1px, 1px);height: 1px;margin: -1px;overflow: hidden;padding: 0;position: absolute;width: 1px;}#sk-container-id-2 div.sk-estimator {font-family: monospace;background-color: #f0f8ff;border: 1px dotted black;border-radius: 0.25em;box-sizing: border-box;margin-bottom: 0.5em;}#sk-container-id-2 div.sk-estimator:hover {background-color: #d4ebff;}#sk-container-id-2 div.sk-parallel-item::after {content: \"\";width: 100%;border-bottom: 1px solid gray;flex-grow: 1;}#sk-container-id-2 div.sk-label:hover label.sk-toggleable__label {background-color: #d4ebff;}#sk-container-id-2 div.sk-serial::before {content: \"\";position: absolute;border-left: 1px solid gray;box-sizing: border-box;top: 0;bottom: 0;left: 50%;z-index: 0;}#sk-container-id-2 div.sk-serial {display: flex;flex-direction: column;align-items: center;background-color: white;padding-right: 0.2em;padding-left: 0.2em;position: relative;}#sk-container-id-2 div.sk-item {position: relative;z-index: 1;}#sk-container-id-2 div.sk-parallel {display: flex;align-items: stretch;justify-content: center;background-color: white;position: relative;}#sk-container-id-2 div.sk-item::before, #sk-container-id-2 div.sk-parallel-item::before {content: \"\";position: absolute;border-left: 1px solid gray;box-sizing: border-box;top: 0;bottom: 0;left: 50%;z-index: -1;}#sk-container-id-2 div.sk-parallel-item {display: flex;flex-direction: column;z-index: 1;position: relative;background-color: white;}#sk-container-id-2 div.sk-parallel-item:first-child::after {align-self: flex-end;width: 50%;}#sk-container-id-2 div.sk-parallel-item:last-child::after {align-self: flex-start;width: 50%;}#sk-container-id-2 div.sk-parallel-item:only-child::after {width: 0;}#sk-container-id-2 div.sk-dashed-wrapped {border: 1px dashed gray;margin: 0 0.4em 0.5em 0.4em;box-sizing: border-box;padding-bottom: 0.4em;background-color: white;}#sk-container-id-2 div.sk-label label {font-family: monospace;font-weight: bold;display: inline-block;line-height: 1.2em;}#sk-container-id-2 div.sk-label-container {text-align: center;}#sk-container-id-2 div.sk-container {/* jupyter's `normalize.less` sets `[hidden] { display: none; }` but bootstrap.min.css set `[hidden] { display: none !important; }` so we also need the `!important` here to be able to override the default hidden behavior on the sphinx rendered scikit-learn.org. See: https://github.com/scikit-learn/scikit-learn/issues/21755 */display: inline-block !important;position: relative;}#sk-container-id-2 div.sk-text-repr-fallback {display: none;}</style><div id=\"sk-container-id-2\" class=\"sk-top-container\"><div class=\"sk-text-repr-fallback\"><pre>GridSearchCV(cv=3,\n",
       "             estimator=Pipeline(steps=[(&#x27;tvec&#x27;, TfidfVectorizer()),\n",
       "                                       (&#x27;nb&#x27;, MultinomialNB())]),\n",
       "             n_jobs=-1,\n",
       "             param_grid={&#x27;tvec__max_df&#x27;: [0.8, 0.9, 0.95],\n",
       "                         &#x27;tvec__max_features&#x27;: [1000, 2000, 3000],\n",
       "                         &#x27;tvec__min_df&#x27;: [5, 10],\n",
       "                         &#x27;tvec__ngram_range&#x27;: [(1, 1), (1, 2), (1, 3)]})</pre><b>In a Jupyter environment, please rerun this cell to show the HTML representation or trust the notebook. <br />On GitHub, the HTML representation is unable to render, please try loading this page with nbviewer.org.</b></div><div class=\"sk-container\" hidden><div class=\"sk-item sk-dashed-wrapped\"><div class=\"sk-label-container\"><div class=\"sk-label sk-toggleable\"><input class=\"sk-toggleable__control sk-hidden--visually\" id=\"sk-estimator-id-5\" type=\"checkbox\" ><label for=\"sk-estimator-id-5\" class=\"sk-toggleable__label sk-toggleable__label-arrow\">GridSearchCV</label><div class=\"sk-toggleable__content\"><pre>GridSearchCV(cv=3,\n",
       "             estimator=Pipeline(steps=[(&#x27;tvec&#x27;, TfidfVectorizer()),\n",
       "                                       (&#x27;nb&#x27;, MultinomialNB())]),\n",
       "             n_jobs=-1,\n",
       "             param_grid={&#x27;tvec__max_df&#x27;: [0.8, 0.9, 0.95],\n",
       "                         &#x27;tvec__max_features&#x27;: [1000, 2000, 3000],\n",
       "                         &#x27;tvec__min_df&#x27;: [5, 10],\n",
       "                         &#x27;tvec__ngram_range&#x27;: [(1, 1), (1, 2), (1, 3)]})</pre></div></div></div><div class=\"sk-parallel\"><div class=\"sk-parallel-item\"><div class=\"sk-item\"><div class=\"sk-label-container\"><div class=\"sk-label sk-toggleable\"><input class=\"sk-toggleable__control sk-hidden--visually\" id=\"sk-estimator-id-6\" type=\"checkbox\" ><label for=\"sk-estimator-id-6\" class=\"sk-toggleable__label sk-toggleable__label-arrow\">estimator: Pipeline</label><div class=\"sk-toggleable__content\"><pre>Pipeline(steps=[(&#x27;tvec&#x27;, TfidfVectorizer()), (&#x27;nb&#x27;, MultinomialNB())])</pre></div></div></div><div class=\"sk-serial\"><div class=\"sk-item\"><div class=\"sk-serial\"><div class=\"sk-item\"><div class=\"sk-estimator sk-toggleable\"><input class=\"sk-toggleable__control sk-hidden--visually\" id=\"sk-estimator-id-7\" type=\"checkbox\" ><label for=\"sk-estimator-id-7\" class=\"sk-toggleable__label sk-toggleable__label-arrow\">TfidfVectorizer</label><div class=\"sk-toggleable__content\"><pre>TfidfVectorizer()</pre></div></div></div><div class=\"sk-item\"><div class=\"sk-estimator sk-toggleable\"><input class=\"sk-toggleable__control sk-hidden--visually\" id=\"sk-estimator-id-8\" type=\"checkbox\" ><label for=\"sk-estimator-id-8\" class=\"sk-toggleable__label sk-toggleable__label-arrow\">MultinomialNB</label><div class=\"sk-toggleable__content\"><pre>MultinomialNB()</pre></div></div></div></div></div></div></div></div></div></div></div></div>"
      ],
      "text/plain": [
       "GridSearchCV(cv=3,\n",
       "             estimator=Pipeline(steps=[('tvec', TfidfVectorizer()),\n",
       "                                       ('nb', MultinomialNB())]),\n",
       "             n_jobs=-1,\n",
       "             param_grid={'tvec__max_df': [0.8, 0.9, 0.95],\n",
       "                         'tvec__max_features': [1000, 2000, 3000],\n",
       "                         'tvec__min_df': [5, 10],\n",
       "                         'tvec__ngram_range': [(1, 1), (1, 2), (1, 3)]})"
      ]
     },
     "execution_count": 31,
     "metadata": {},
     "output_type": "execute_result"
    }
   ],
   "source": [
    "gs.fit(X_train, y_train)"
   ]
  },
  {
   "cell_type": "code",
   "execution_count": 32,
   "id": "49ee95d9-ea44-42e6-bae8-36c891b9c935",
   "metadata": {},
   "outputs": [
    {
     "data": {
      "text/plain": [
       "0.9170423657123145"
      ]
     },
     "execution_count": 32,
     "metadata": {},
     "output_type": "execute_result"
    }
   ],
   "source": [
    "gs.best_score_"
   ]
  },
  {
   "cell_type": "code",
   "execution_count": 33,
   "id": "3d6e3407-18a5-4810-b615-cd00efc088d3",
   "metadata": {},
   "outputs": [
    {
     "data": {
      "text/plain": [
       "{'tvec__max_df': 0.8,\n",
       " 'tvec__max_features': 1000,\n",
       " 'tvec__min_df': 10,\n",
       " 'tvec__ngram_range': (1, 2)}"
      ]
     },
     "execution_count": 33,
     "metadata": {},
     "output_type": "execute_result"
    }
   ],
   "source": [
    "gs.best_params_"
   ]
  },
  {
   "cell_type": "markdown",
   "id": "92ec105a-f899-4d9a-9940-088db194c5e7",
   "metadata": {},
   "source": [
    "> best parameters looks similar to cvec except ngram_range of (1,2) is preferred."
   ]
  },
  {
   "cell_type": "code",
   "execution_count": 34,
   "id": "ebbf6c06-3d44-4118-bad5-9463620ebb94",
   "metadata": {},
   "outputs": [
    {
     "data": {
      "text/plain": [
       "0.9239179440937781"
      ]
     },
     "execution_count": 34,
     "metadata": {},
     "output_type": "execute_result"
    }
   ],
   "source": [
    "gs.score(X_train, y_train)"
   ]
  },
  {
   "cell_type": "code",
   "execution_count": 35,
   "id": "fe2b5240-3b9f-4c0e-9230-11b6086afb87",
   "metadata": {},
   "outputs": [
    {
     "data": {
      "text/plain": [
       "0.9221667104917171"
      ]
     },
     "execution_count": 35,
     "metadata": {},
     "output_type": "execute_result"
    }
   ],
   "source": [
    "gs.score(X_test, y_test)"
   ]
  },
  {
   "cell_type": "markdown",
   "id": "a671b368-adcc-4988-990d-5872eb294654",
   "metadata": {},
   "source": [
    "> model fit is slightly better than cvec"
   ]
  },
  {
   "cell_type": "code",
   "execution_count": 36,
   "id": "1f2a39e1-568d-44a8-9adf-488b9942b069",
   "metadata": {},
   "outputs": [
    {
     "data": {
      "text/plain": [
       "array([0, 0, 0, ..., 0, 0, 0], dtype=int64)"
      ]
     },
     "execution_count": 36,
     "metadata": {},
     "output_type": "execute_result"
    }
   ],
   "source": [
    "# Get predictions\n",
    "preds = gs.predict(X_test)\n",
    "preds"
   ]
  },
  {
   "cell_type": "code",
   "execution_count": 37,
   "id": "a6a0a124-023c-4d07-a89c-144f71d2b5cb",
   "metadata": {},
   "outputs": [
    {
     "name": "stdout",
     "output_type": "stream",
     "text": [
      "[[3463    0]\n",
      " [ 296   44]]\n"
     ]
    }
   ],
   "source": [
    "conf_matrix = confusion_matrix(y_test, preds)\n",
    "print(conf_matrix)"
   ]
  },
  {
   "cell_type": "code",
   "execution_count": 38,
   "id": "c7ee08c2-5057-455a-a5c1-3e5785e31a7f",
   "metadata": {},
   "outputs": [],
   "source": [
    "# Save confusion matrix values\n",
    "tn, fp, fn, tp = confusion_matrix(y_test, preds).ravel()"
   ]
  },
  {
   "cell_type": "code",
   "execution_count": 39,
   "id": "5bf82c42-4e7b-4bb9-8f50-89b8df4accf1",
   "metadata": {},
   "outputs": [
    {
     "data": {
      "text/plain": [
       "<sklearn.metrics._plot.confusion_matrix.ConfusionMatrixDisplay at 0x19bf1dcb0a0>"
      ]
     },
     "execution_count": 39,
     "metadata": {},
     "output_type": "execute_result"
    },
    {
     "data": {
      "image/png": "[encoded data removed]",
      "text/plain": [
       "<Figure size 640x480 with 2 Axes>"
      ]
     },
     "metadata": {},
     "output_type": "display_data"
    }
   ],
   "source": [
    "# View confusion matrix\n",
    "cm = confusion_matrix(y_test, preds)\n",
    "disp =ConfusionMatrixDisplay(confusion_matrix=cm, \n",
    "                             display_labels=gs.best_estimator_.classes_)\n",
    "disp.plot()"
   ]
  },
  {
   "cell_type": "code",
   "execution_count": 40,
   "id": "a365a3ec-29ca-4d7d-830d-282af38cf3ef",
   "metadata": {},
   "outputs": [
    {
     "name": "stdout",
     "output_type": "stream",
     "text": [
      "              precision    recall  f1-score   support\n",
      "\n",
      "           0       0.92      1.00      0.96      3463\n",
      "           1       1.00      0.13      0.23       340\n",
      "\n",
      "    accuracy                           0.92      3803\n",
      "   macro avg       0.96      0.56      0.59      3803\n",
      "weighted avg       0.93      0.92      0.89      3803\n",
      "\n"
     ]
    }
   ],
   "source": [
    "print(classification_report(y_test, preds))"
   ]
  },
  {
   "cell_type": "markdown",
   "id": "44f0d25b-0100-451c-b88a-8b51637ee9f0",
   "metadata": {},
   "source": [
    "> However, recall score is significantly worse with only 0.13. This model fails to predict 'crowded' reviews (TP). Suspect because the 'crowdedness' sentiment score (y_true) is defined based on limited words, while TFIDF Vectorizer analyzed the weight of each words based on their occurrence in the corpus. The harmonization between those two may not be sufficient."
   ]
  },
  {
   "cell_type": "markdown",
   "id": "fb9eec38-34a4-4fb7-a7ac-405e6c9f21b3",
   "metadata": {},
   "source": [
    "model | transformer | estimator | precision | recall | f1\n",
    "---|---|---|---|---|---\n",
    "model #1 (baseline) | cvec (max_fea = 1000, df_min= 5, df_max = 0.8, ngram = 1,1) | multiNB | 0.37 | 0.76 | 0.5\n",
    "model #2 | tvec (max_fea = 1000, df_min= 5, df_max = 0.8, ngram = 1,2) | multiNB | 1 | 0.13| 0.23"
   ]
  },
  {
   "cell_type": "markdown",
   "id": "a226e605-c7ba-47d8-80d7-8fd893aae0fb",
   "metadata": {},
   "source": [
    "## Model #3: Random Forest, CountVectorizer v2"
   ]
  },
  {
   "cell_type": "markdown",
   "id": "d5efff25-82b4-4666-9f8a-9ea8697824f9",
   "metadata": {},
   "source": [
    "In third model, we will go back to CountVectorizer, and change our estimator to random forest. "
   ]
  },
  {
   "cell_type": "code",
   "execution_count": 16,
   "id": "fbb7093b-7eb4-448d-ac11-8decd14d799e",
   "metadata": {},
   "outputs": [],
   "source": [
    "pipe = Pipeline([\n",
    "    ('cvec', CountVectorizer()),\n",
    "    ('rf', RandomForestClassifier())\n",
    "])"
   ]
  },
  {
   "cell_type": "code",
   "execution_count": 17,
   "id": "01fe8b44-c33f-4fa7-bab3-f36978d9dc11",
   "metadata": {},
   "outputs": [],
   "source": [
    "pipe_params = {\n",
    "    'cvec__max_features': [1_000],\n",
    "    'cvec__min_df': [10],\n",
    "    'cvec__max_df': [0.8],\n",
    "    'rf__n_estimators': [20,50,100],\n",
    "    'rf__max_depth': [50,80],\n",
    "    'rf__class_weight': [{0: 1, 1: 2}]\n",
    "}"
   ]
  },
  {
   "cell_type": "code",
   "execution_count": 18,
   "id": "70221aa6-c54d-41ca-b0ff-29e3bccded1b",
   "metadata": {},
   "outputs": [],
   "source": [
    "gs = GridSearchCV(pipe,\n",
    "                  param_grid=pipe_params,\n",
    "                  cv=3,\n",
    "                  n_jobs = -1)"
   ]
  },
  {
   "cell_type": "code",
   "execution_count": 19,
   "id": "fd7e71b9-194d-44ac-8d6d-15cb9fbf1bc3",
   "metadata": {},
   "outputs": [
    {
     "data": {
      "text/html": [
       "<style>#sk-container-id-1 {color: black;background-color: white;}#sk-container-id-1 pre{padding: 0;}#sk-container-id-1 div.sk-toggleable {background-color: white;}#sk-container-id-1 label.sk-toggleable__label {cursor: pointer;display: block;width: 100%;margin-bottom: 0;padding: 0.3em;box-sizing: border-box;text-align: center;}#sk-container-id-1 label.sk-toggleable__label-arrow:before {content: \"▸\";float: left;margin-right: 0.25em;color: #696969;}#sk-container-id-1 label.sk-toggleable__label-arrow:hover:before {color: black;}#sk-container-id-1 div.sk-estimator:hover label.sk-toggleable__label-arrow:before {color: black;}#sk-container-id-1 div.sk-toggleable__content {max-height: 0;max-width: 0;overflow: hidden;text-align: left;background-color: #f0f8ff;}#sk-container-id-1 div.sk-toggleable__content pre {margin: 0.2em;color: black;border-radius: 0.25em;background-color: #f0f8ff;}#sk-container-id-1 input.sk-toggleable__control:checked~div.sk-toggleable__content {max-height: 200px;max-width: 100%;overflow: auto;}#sk-container-id-1 input.sk-toggleable__control:checked~label.sk-toggleable__label-arrow:before {content: \"▾\";}#sk-container-id-1 div.sk-estimator input.sk-toggleable__control:checked~label.sk-toggleable__label {background-color: #d4ebff;}#sk-container-id-1 div.sk-label input.sk-toggleable__control:checked~label.sk-toggleable__label {background-color: #d4ebff;}#sk-container-id-1 input.sk-hidden--visually {border: 0;clip: rect(1px 1px 1px 1px);clip: rect(1px, 1px, 1px, 1px);height: 1px;margin: -1px;overflow: hidden;padding: 0;position: absolute;width: 1px;}#sk-container-id-1 div.sk-estimator {font-family: monospace;background-color: #f0f8ff;border: 1px dotted black;border-radius: 0.25em;box-sizing: border-box;margin-bottom: 0.5em;}#sk-container-id-1 div.sk-estimator:hover {background-color: #d4ebff;}#sk-container-id-1 div.sk-parallel-item::after {content: \"\";width: 100%;border-bottom: 1px solid gray;flex-grow: 1;}#sk-container-id-1 div.sk-label:hover label.sk-toggleable__label {background-color: #d4ebff;}#sk-container-id-1 div.sk-serial::before {content: \"\";position: absolute;border-left: 1px solid gray;box-sizing: border-box;top: 0;bottom: 0;left: 50%;z-index: 0;}#sk-container-id-1 div.sk-serial {display: flex;flex-direction: column;align-items: center;background-color: white;padding-right: 0.2em;padding-left: 0.2em;position: relative;}#sk-container-id-1 div.sk-item {position: relative;z-index: 1;}#sk-container-id-1 div.sk-parallel {display: flex;align-items: stretch;justify-content: center;background-color: white;position: relative;}#sk-container-id-1 div.sk-item::before, #sk-container-id-1 div.sk-parallel-item::before {content: \"\";position: absolute;border-left: 1px solid gray;box-sizing: border-box;top: 0;bottom: 0;left: 50%;z-index: -1;}#sk-container-id-1 div.sk-parallel-item {display: flex;flex-direction: column;z-index: 1;position: relative;background-color: white;}#sk-container-id-1 div.sk-parallel-item:first-child::after {align-self: flex-end;width: 50%;}#sk-container-id-1 div.sk-parallel-item:last-child::after {align-self: flex-start;width: 50%;}#sk-container-id-1 div.sk-parallel-item:only-child::after {width: 0;}#sk-container-id-1 div.sk-dashed-wrapped {border: 1px dashed gray;margin: 0 0.4em 0.5em 0.4em;box-sizing: border-box;padding-bottom: 0.4em;background-color: white;}#sk-container-id-1 div.sk-label label {font-family: monospace;font-weight: bold;display: inline-block;line-height: 1.2em;}#sk-container-id-1 div.sk-label-container {text-align: center;}#sk-container-id-1 div.sk-container {/* jupyter's `normalize.less` sets `[hidden] { display: none; }` but bootstrap.min.css set `[hidden] { display: none !important; }` so we also need the `!important` here to be able to override the default hidden behavior on the sphinx rendered scikit-learn.org. See: https://github.com/scikit-learn/scikit-learn/issues/21755 */display: inline-block !important;position: relative;}#sk-container-id-1 div.sk-text-repr-fallback {display: none;}</style><div id=\"sk-container-id-1\" class=\"sk-top-container\"><div class=\"sk-text-repr-fallback\"><pre>GridSearchCV(cv=3,\n",
       "             estimator=Pipeline(steps=[(&#x27;cvec&#x27;, CountVectorizer()),\n",
       "                                       (&#x27;rf&#x27;, RandomForestClassifier())]),\n",
       "             n_jobs=-1,\n",
       "             param_grid={&#x27;cvec__max_df&#x27;: [0.8], &#x27;cvec__max_features&#x27;: [1000],\n",
       "                         &#x27;cvec__min_df&#x27;: [10],\n",
       "                         &#x27;rf__class_weight&#x27;: [{0: 1, 1: 2}],\n",
       "                         &#x27;rf__max_depth&#x27;: [50, 80],\n",
       "                         &#x27;rf__n_estimators&#x27;: [20, 50, 100]})</pre><b>In a Jupyter environment, please rerun this cell to show the HTML representation or trust the notebook. <br />On GitHub, the HTML representation is unable to render, please try loading this page with nbviewer.org.</b></div><div class=\"sk-container\" hidden><div class=\"sk-item sk-dashed-wrapped\"><div class=\"sk-label-container\"><div class=\"sk-label sk-toggleable\"><input class=\"sk-toggleable__control sk-hidden--visually\" id=\"sk-estimator-id-1\" type=\"checkbox\" ><label for=\"sk-estimator-id-1\" class=\"sk-toggleable__label sk-toggleable__label-arrow\">GridSearchCV</label><div class=\"sk-toggleable__content\"><pre>GridSearchCV(cv=3,\n",
       "             estimator=Pipeline(steps=[(&#x27;cvec&#x27;, CountVectorizer()),\n",
       "                                       (&#x27;rf&#x27;, RandomForestClassifier())]),\n",
       "             n_jobs=-1,\n",
       "             param_grid={&#x27;cvec__max_df&#x27;: [0.8], &#x27;cvec__max_features&#x27;: [1000],\n",
       "                         &#x27;cvec__min_df&#x27;: [10],\n",
       "                         &#x27;rf__class_weight&#x27;: [{0: 1, 1: 2}],\n",
       "                         &#x27;rf__max_depth&#x27;: [50, 80],\n",
       "                         &#x27;rf__n_estimators&#x27;: [20, 50, 100]})</pre></div></div></div><div class=\"sk-parallel\"><div class=\"sk-parallel-item\"><div class=\"sk-item\"><div class=\"sk-label-container\"><div class=\"sk-label sk-toggleable\"><input class=\"sk-toggleable__control sk-hidden--visually\" id=\"sk-estimator-id-2\" type=\"checkbox\" ><label for=\"sk-estimator-id-2\" class=\"sk-toggleable__label sk-toggleable__label-arrow\">estimator: Pipeline</label><div class=\"sk-toggleable__content\"><pre>Pipeline(steps=[(&#x27;cvec&#x27;, CountVectorizer()), (&#x27;rf&#x27;, RandomForestClassifier())])</pre></div></div></div><div class=\"sk-serial\"><div class=\"sk-item\"><div class=\"sk-serial\"><div class=\"sk-item\"><div class=\"sk-estimator sk-toggleable\"><input class=\"sk-toggleable__control sk-hidden--visually\" id=\"sk-estimator-id-3\" type=\"checkbox\" ><label for=\"sk-estimator-id-3\" class=\"sk-toggleable__label sk-toggleable__label-arrow\">CountVectorizer</label><div class=\"sk-toggleable__content\"><pre>CountVectorizer()</pre></div></div></div><div class=\"sk-item\"><div class=\"sk-estimator sk-toggleable\"><input class=\"sk-toggleable__control sk-hidden--visually\" id=\"sk-estimator-id-4\" type=\"checkbox\" ><label for=\"sk-estimator-id-4\" class=\"sk-toggleable__label sk-toggleable__label-arrow\">RandomForestClassifier</label><div class=\"sk-toggleable__content\"><pre>RandomForestClassifier()</pre></div></div></div></div></div></div></div></div></div></div></div></div>"
      ],
      "text/plain": [
       "GridSearchCV(cv=3,\n",
       "             estimator=Pipeline(steps=[('cvec', CountVectorizer()),\n",
       "                                       ('rf', RandomForestClassifier())]),\n",
       "             n_jobs=-1,\n",
       "             param_grid={'cvec__max_df': [0.8], 'cvec__max_features': [1000],\n",
       "                         'cvec__min_df': [10],\n",
       "                         'rf__class_weight': [{0: 1, 1: 2}],\n",
       "                         'rf__max_depth': [50, 80],\n",
       "                         'rf__n_estimators': [20, 50, 100]})"
      ]
     },
     "execution_count": 19,
     "metadata": {},
     "output_type": "execute_result"
    }
   ],
   "source": [
    "gs.fit(X_train, y_train)"
   ]
  },
  {
   "cell_type": "code",
   "execution_count": 20,
   "id": "3f2f8d55-4eee-43f3-a973-2f05dcbcdf19",
   "metadata": {},
   "outputs": [
    {
     "data": {
      "text/plain": [
       "0.98737584896704"
      ]
     },
     "execution_count": 20,
     "metadata": {},
     "output_type": "execute_result"
    }
   ],
   "source": [
    "gs.best_score_"
   ]
  },
  {
   "cell_type": "code",
   "execution_count": 21,
   "id": "0ecac583-5347-475a-bc5f-f378ef9bfaf1",
   "metadata": {},
   "outputs": [
    {
     "data": {
      "text/plain": [
       "{'cvec__max_df': 0.8,\n",
       " 'cvec__max_features': 1000,\n",
       " 'cvec__min_df': 10,\n",
       " 'rf__class_weight': {0: 1, 1: 2},\n",
       " 'rf__max_depth': 50,\n",
       " 'rf__n_estimators': 100}"
      ]
     },
     "execution_count": 21,
     "metadata": {},
     "output_type": "execute_result"
    }
   ],
   "source": [
    "gs.best_params_"
   ]
  },
  {
   "cell_type": "markdown",
   "id": "62bd4e9d-8ab6-4b58-ab72-0404fde52903",
   "metadata": {},
   "source": [
    "> higher n_estimators and lower max_depth is more desirable"
   ]
  },
  {
   "cell_type": "code",
   "execution_count": 22,
   "id": "2dd1b70f-fd67-4aab-af65-739541c0ad97",
   "metadata": {},
   "outputs": [
    {
     "data": {
      "text/plain": [
       "0.9989855725879171"
      ]
     },
     "execution_count": 22,
     "metadata": {},
     "output_type": "execute_result"
    }
   ],
   "source": [
    "gs.score(X_train, y_train)"
   ]
  },
  {
   "cell_type": "code",
   "execution_count": 23,
   "id": "c2eb7ad1-2c43-4423-a066-20fbfab1ba46",
   "metadata": {},
   "outputs": [
    {
     "data": {
      "text/plain": [
       "0.9860636339731791"
      ]
     },
     "execution_count": 23,
     "metadata": {},
     "output_type": "execute_result"
    }
   ],
   "source": [
    "gs.score(X_test, y_test)"
   ]
  },
  {
   "cell_type": "markdown",
   "id": "5d3ec171-5362-4a1f-b537-a508588854b1",
   "metadata": {},
   "source": [
    "> model is well fitted"
   ]
  },
  {
   "cell_type": "code",
   "execution_count": 24,
   "id": "dc5c009e-4721-4b06-b56f-082f9f072b3e",
   "metadata": {},
   "outputs": [
    {
     "data": {
      "text/plain": [
       "array([0, 0, 0, ..., 0, 0, 0], dtype=int64)"
      ]
     },
     "execution_count": 24,
     "metadata": {},
     "output_type": "execute_result"
    }
   ],
   "source": [
    "# Get predictions\n",
    "preds = gs.predict(X_test)\n",
    "preds"
   ]
  },
  {
   "cell_type": "code",
   "execution_count": 25,
   "id": "1159344c-b905-4559-b6e4-3bcea3cc1588",
   "metadata": {},
   "outputs": [
    {
     "name": "stdout",
     "output_type": "stream",
     "text": [
      "[[3463    0]\n",
      " [  53  287]]\n"
     ]
    }
   ],
   "source": [
    "conf_matrix = confusion_matrix(y_test, preds)\n",
    "print(conf_matrix)"
   ]
  },
  {
   "cell_type": "code",
   "execution_count": 26,
   "id": "5dcb66fa-04e6-4a3d-a726-9d9a27716e23",
   "metadata": {},
   "outputs": [],
   "source": [
    "# Save confusion matrix values\n",
    "tn, fp, fn, tp = confusion_matrix(y_test, preds).ravel()"
   ]
  },
  {
   "cell_type": "code",
   "execution_count": 31,
   "id": "7a6e4119-2e8e-4531-94fc-639cf9ce98bc",
   "metadata": {},
   "outputs": [
    {
     "data": {
      "image/png": "[encoded data removed]",
      "text/plain": [
       "<Figure size 640x480 with 2 Axes>"
      ]
     },
     "metadata": {},
     "output_type": "display_data"
    }
   ],
   "source": [
    "# View confusion matrix\n",
    "cm = confusion_matrix(y_test, preds)\n",
    "disp =ConfusionMatrixDisplay(confusion_matrix=cm, \n",
    "                             display_labels=gs.best_estimator_.classes_)\n",
    "\n",
    "disp.plot()\n",
    "plt.savefig('../image/cm_rf_cvec.png')"
   ]
  },
  {
   "cell_type": "code",
   "execution_count": 28,
   "id": "b01751b6-6420-489d-8512-c40c450d6262",
   "metadata": {},
   "outputs": [
    {
     "name": "stdout",
     "output_type": "stream",
     "text": [
      "              precision    recall  f1-score   support\n",
      "\n",
      "           0       0.98      1.00      0.99      3463\n",
      "           1       1.00      0.84      0.92       340\n",
      "\n",
      "    accuracy                           0.99      3803\n",
      "   macro avg       0.99      0.92      0.95      3803\n",
      "weighted avg       0.99      0.99      0.99      3803\n",
      "\n"
     ]
    }
   ],
   "source": [
    "print(classification_report(y_test, preds))"
   ]
  },
  {
   "cell_type": "markdown",
   "id": "1549806c-639c-4a0e-a5a7-17af9ac9fdfd",
   "metadata": {},
   "source": [
    "> Random forest has significantly better recall score of 0.86. Since we have a severe data imbalance in our sentiment classes, random forest may address that by assigning weights to the minority class."
   ]
  },
  {
   "cell_type": "markdown",
   "id": "5bf8aeb4-f0e9-4c46-a8f0-40eadbbfb277",
   "metadata": {},
   "source": [
    "model | transformer | estimator | precision | recall | f1\n",
    "---|---|---|---|---|---\n",
    "model #1 (baseline) | cvec (max_fea = 1000, df_min= 5, df_max = 0.8, ngram = 1,1) | multiNB | 0.37 | 0.76 | 0.5\n",
    "model #2 | tvec (max_fea = 1000, df_min= 5, df_max = 0.8, ngram = 1,2) | multiNB | 1 | 0.13| 0.23\n",
    "model #3 | cvec (max_fea = 1000, df_min= 5, df_max = 0.8, ngram = 1,1) | random forest (n_est = 100, max_depth = 50) | 1 | 0.88 | 0.92"
   ]
  },
  {
   "cell_type": "markdown",
   "id": "8da049f7-a5ef-4d67-a3a3-7654b12776af",
   "metadata": {},
   "source": [
    "# Conclusion and Recommendation"
   ]
  },
  {
   "cell_type": "markdown",
   "id": "6ee9906f-d09c-49f8-a1ff-04c9c2f0aa99",
   "metadata": {},
   "source": [
    "**Conclusion:**\n",
    "* Tripadvisor is a good platform to extract sufficient data and timeframe for this sentiment analysis on crowdedness.\n",
    "* Despite using limited keywords (3), the sentiment score is able to generate consistent trend as seen in EDA section of this study.\n",
    "* TFIDF Vectorizer does not perform well in this study, suspect because insufficient keywords are defined across the corpus. This may cause the vectorizer to put emphasis on other words. \n",
    "* Because of the nature of imbalance classes, random forest yields better accuracy. This is achieved throught adjusted class weights on the minority class.\n",
    "\n",
    "**Using both sentiment score and optimized model, our stakeholder is able to strategize campaigns to ensure that local/foreign tourists have the best travel experience in the country.**\n",
    "   \n",
    "**Recommendation/Future Enhancement:**\n",
    "* Feature Sentiment Analysis could be further enhanced, currently only rely on limited number of keywords.\n",
    "* When more keywords are identified, TFIDF vectorizer would complement better in terms of adjusted weightage.\n",
    "* To further address class imbalance, popular technique such as SMOTE (Synthetic Minority Over-sampling Technique) may help by generating synthetic data points for the minority class."
   ]
  },
  {
   "cell_type": "markdown",
   "id": "4a5e4487-e850-47b9-9fb2-5ce01517f22c",
   "metadata": {},
   "source": [
    "# References"
   ]
  },
  {
   "cell_type": "markdown",
   "id": "2af14751-7df2-4174-a90b-bab6f0b1eccb",
   "metadata": {},
   "source": [
    "* StraitsTimes: [Japan lifting border controls](https://www.straitstimes.com/asia/east-asia/japan-lifts-all-covid-19-border-controls-for-golden-week-holidays)\n",
    "* Cartography Vector: [Japan GeoJSON](https://cartographyvectors.com/map/361-japan)\n",
    "* World Atlas : [Japan Map](https://www.worldatlas.com/r/w960-q80/upload/4a/5a/54/jp-01.jpg)"
   ]
  },
  {
   "cell_type": "code",
   "execution_count": null,
   "id": "4648b538-f5bd-410a-821c-adfb3535244c",
   "metadata": {},
   "outputs": [],
   "source": []
  }
 ],
 "metadata": {
  "kernelspec": {
   "display_name": "Python 3 (ipykernel)",
   "language": "python",
   "name": "python3"
  },
  "language_info": {
   "codemirror_mode": {
    "name": "ipython",
    "version": 3
   },
   "file_extension": ".py",
   "mimetype": "text/x-python",
   "name": "python",
   "nbconvert_exporter": "python",
   "pygments_lexer": "ipython3",
   "version": "3.8.17"
  }
 },
 "nbformat": 4,
 "nbformat_minor": 5
}
